{
 "cells": [
  {
   "cell_type": "markdown",
   "id": "jyq3FA6OsMHX",
   "metadata": {
    "id": "jyq3FA6OsMHX"
   },
   "source": [
    "# **2. Data Wrangling**"
   ]
  },
  {
   "cell_type": "markdown",
   "id": "73ywZ8eksUGl",
   "metadata": {
    "id": "73ywZ8eksUGl"
   },
   "source": [
    "As a reminder, this project aims to forecast the air quality of Boston in 2022 and 2023. This notebook focuses on explaning, cleaning, and organizing of datasets of the project. I start with importing the necessary libraries. "
   ]
  },
  {
   "cell_type": "code",
   "execution_count": 28,
   "id": "678f6b3a",
   "metadata": {
    "id": "678f6b3a"
   },
   "outputs": [],
   "source": [
    "import pandas as pd\n",
    "import numpy as np\n",
    "import datetime as dt\n",
    "import matplotlib.pyplot as plt\n",
    "from datetime import date, datetime, timedelta\n",
    "import warnings\n",
    "warnings.filterwarnings(\"ignore\")\n",
    "\n",
    "from IPython.display import FileLink, FileLinks # for downloding the files"
   ]
  },
  {
   "cell_type": "markdown",
   "id": "iRiwGUl6uwVA",
   "metadata": {
    "id": "iRiwGUl6uwVA"
   },
   "source": [
    "## **2.1 Datasets**"
   ]
  },
  {
   "cell_type": "markdown",
   "id": "5631df14",
   "metadata": {},
   "source": [
    "2.1.1 [Air Quality](#2.1.1-Air-Quality)\n",
    "\n",
    "2.2.2 [Weather](#2.2.2-Weather)\n",
    "\n",
    "2.2.3 [Energy Consumption](#2.2.3-Energy-Consumption)\n",
    "\n",
    "2.2.4 [Flight Number of Boston](#2.2.4-Flight-Number-of-Boston)\n",
    "\n",
    "2.2.5 [Population of Boston](#2.2.5-Population-of-Boston)\n",
    "\n",
    "2.2.6 [Federal Highway Administration's Reports](#2.2.6-Federal-Highway-Administration's-Reports)\n",
    "\n",
    "2.2 [Summary](#2.2-Summary)\n",
    "\n",
    "2.3 [Merging Dataframes](#2.3-Merge-Dataframes=(Part-of-EDA))"
   ]
  },
  {
   "cell_type": "markdown",
   "id": "nJKckJKvu1zm",
   "metadata": {
    "id": "nJKckJKvu1zm"
   },
   "source": [
    "In the project, there are several data related with the air quality. These are weather, population, different types of energy consumption, flight number datasets. "
   ]
  },
  {
   "cell_type": "markdown",
   "id": "501e51a9",
   "metadata": {
    "id": "501e51a9"
   },
   "source": [
    "### **2.1.1 Air Quality**\n",
    "\n",
    "The first data is about air quality of Boston. The data was downloaded from [here](https://aqicn.org/data-platform/register/). There are five parameters: PM25, O3, NO2, SO2, CO. According to World Health Organization ([2022](https://https://www.who.int/news-room/fact-sheets/detail/ambient-(outdoor)-air-quality-and-health)), the details of parameters are explained below."
   ]
  },
  {
   "cell_type": "markdown",
   "id": "8f824a33",
   "metadata": {
    "id": "8f824a33"
   },
   "source": [
    "**Particulate matter/particles(PM):** PM, the common proxy indicator for air pollution, affects human health more than other pollutants. \n",
    "Atmospheric particulate matter, or fine particles, are tiny particles of solid or liquid suspended in a gas. \n",
    "\n",
    "**Ground level ozone (O3):** Ozone at ground level is one of the major constituents of photochemical smog. Extreme ozone in the air can cause effects on human health as breathing problems, trigger asthma. \n",
    "\n",
    "**Nitrogen dioxide (NO2):** NO2 is the main source of nitrate aerosols, which form an important fraction of PM2.5 and, in the presence of ultraviolet light, of ozone. Researches have shown that long-term exposure to NO2 can cause bronchitis in asthmatic children.\n",
    "\n",
    "**Sulphur dioxide (SO2):** SO2, a colourless gas with a sharp odour, is produced from the burning of fossil fuels (coal and oil). SO2 can affect the humans' respiratory system and the lungs function.\n",
    "\n",
    "**Carbon monoxide (CO):** CO is a colorless, odorless, toxic gas. It is a product of combustion of fuel such as natural gas, coal or wood. "
   ]
  },
  {
   "cell_type": "code",
   "execution_count": 2,
   "id": "ff96d756",
   "metadata": {
    "id": "ff96d756"
   },
   "outputs": [],
   "source": [
    "# Load the data\n",
    "url = 'https://github.com/hangulde/Air_Quality_Prediction_of_Boston-/raw/main/data/dataset_data_wrangling/boston-air-quality.csv'\n",
    "air_quality = pd.read_csv(url)"
   ]
  },
  {
   "cell_type": "code",
   "execution_count": 3,
   "id": "2de18895",
   "metadata": {
    "colab": {
     "base_uri": "https://localhost:8080/",
     "height": 206
    },
    "id": "2de18895",
    "outputId": "02713986-b8d2-4a84-e481-359efcdb6023"
   },
   "outputs": [
    {
     "data": {
      "text/html": [
       "<div>\n",
       "<style scoped>\n",
       "    .dataframe tbody tr th:only-of-type {\n",
       "        vertical-align: middle;\n",
       "    }\n",
       "\n",
       "    .dataframe tbody tr th {\n",
       "        vertical-align: top;\n",
       "    }\n",
       "\n",
       "    .dataframe thead th {\n",
       "        text-align: right;\n",
       "    }\n",
       "</style>\n",
       "<table border=\"1\" class=\"dataframe\">\n",
       "  <thead>\n",
       "    <tr style=\"text-align: right;\">\n",
       "      <th></th>\n",
       "      <th>date</th>\n",
       "      <th>pm25</th>\n",
       "      <th>o3</th>\n",
       "      <th>no2</th>\n",
       "      <th>so2</th>\n",
       "      <th>co</th>\n",
       "    </tr>\n",
       "  </thead>\n",
       "  <tbody>\n",
       "    <tr>\n",
       "      <th>0</th>\n",
       "      <td>2022/3/2</td>\n",
       "      <td>43</td>\n",
       "      <td>31</td>\n",
       "      <td>17</td>\n",
       "      <td>1</td>\n",
       "      <td>3</td>\n",
       "    </tr>\n",
       "    <tr>\n",
       "      <th>1</th>\n",
       "      <td>2022/3/3</td>\n",
       "      <td>43</td>\n",
       "      <td>28</td>\n",
       "      <td>13</td>\n",
       "      <td>1</td>\n",
       "      <td>3</td>\n",
       "    </tr>\n",
       "    <tr>\n",
       "      <th>2</th>\n",
       "      <td>2022/3/4</td>\n",
       "      <td>33</td>\n",
       "      <td>28</td>\n",
       "      <td>13</td>\n",
       "      <td></td>\n",
       "      <td>2</td>\n",
       "    </tr>\n",
       "    <tr>\n",
       "      <th>3</th>\n",
       "      <td>2022/3/5</td>\n",
       "      <td>24</td>\n",
       "      <td>33</td>\n",
       "      <td>12</td>\n",
       "      <td>1</td>\n",
       "      <td>2</td>\n",
       "    </tr>\n",
       "    <tr>\n",
       "      <th>4</th>\n",
       "      <td>2022/3/6</td>\n",
       "      <td>35</td>\n",
       "      <td>24</td>\n",
       "      <td>16</td>\n",
       "      <td></td>\n",
       "      <td>2</td>\n",
       "    </tr>\n",
       "  </tbody>\n",
       "</table>\n",
       "</div>"
      ],
      "text/plain": [
       "       date  pm25   o3  no2  so2  co\n",
       "0  2022/3/2    43   31   17    1   3\n",
       "1  2022/3/3    43   28   13    1   3\n",
       "2  2022/3/4    33   28   13        2\n",
       "3  2022/3/5    24   33   12    1   2\n",
       "4  2022/3/6    35   24   16        2"
      ]
     },
     "execution_count": 3,
     "metadata": {},
     "output_type": "execute_result"
    }
   ],
   "source": [
    "air_quality.head() #I have 5 parameters."
   ]
  },
  {
   "cell_type": "code",
   "execution_count": 4,
   "id": "5bxrBVhysIgF",
   "metadata": {
    "colab": {
     "base_uri": "https://localhost:8080/"
    },
    "id": "5bxrBVhysIgF",
    "outputId": "f357162e-37ac-42d1-a1f8-7d7a179d61d3"
   },
   "outputs": [
    {
     "data": {
      "text/plain": [
       "Index(['date', ' pm25', ' o3', ' no2', ' so2', ' co'], dtype='object')"
      ]
     },
     "execution_count": 4,
     "metadata": {},
     "output_type": "execute_result"
    }
   ],
   "source": [
    "# Check the column names.\n",
    "air_quality.columns \n",
    "\n",
    "#there are a space before each column"
   ]
  },
  {
   "cell_type": "code",
   "execution_count": 5,
   "id": "7lks8hTYsbh3",
   "metadata": {
    "colab": {
     "base_uri": "https://localhost:8080/"
    },
    "id": "7lks8hTYsbh3",
    "outputId": "73f6cb50-4940-42c5-8f14-f10a8794c3e1"
   },
   "outputs": [
    {
     "data": {
      "text/plain": [
       "Index(['ate', 'pm25', 'o3', 'no2', 'so2', 'co'], dtype='object')"
      ]
     },
     "execution_count": 5,
     "metadata": {},
     "output_type": "execute_result"
    }
   ],
   "source": [
    "# Edit column names\n",
    "air_quality.columns= air_quality.columns.str[1:] #delete the first space. There is problem with 'date' column.\n",
    "air_quality.columns"
   ]
  },
  {
   "cell_type": "code",
   "execution_count": 6,
   "id": "b0Q_0KRNt99S",
   "metadata": {
    "colab": {
     "base_uri": "https://localhost:8080/"
    },
    "id": "b0Q_0KRNt99S",
    "outputId": "43933204-77d6-4b94-a2fa-1bb3ca11be8b"
   },
   "outputs": [
    {
     "data": {
      "text/plain": [
       "Index(['date', 'pm25', 'o3', 'no2', 'so2', 'co'], dtype='object')"
      ]
     },
     "execution_count": 6,
     "metadata": {},
     "output_type": "execute_result"
    }
   ],
   "source": [
    "# Rename column names\n",
    "air_quality = air_quality.rename({'ate':'date'}, axis=1) # correct the column name\n",
    "air_quality.columns"
   ]
  },
  {
   "cell_type": "code",
   "execution_count": 7,
   "id": "f1a9e5c2",
   "metadata": {
    "colab": {
     "base_uri": "https://localhost:8080/"
    },
    "id": "f1a9e5c2",
    "outputId": "2b33f64d-59f1-44e5-b46c-655f17f15c8a"
   },
   "outputs": [
    {
     "name": "stdout",
     "output_type": "stream",
     "text": [
      "<class 'pandas.core.frame.DataFrame'>\n",
      "RangeIndex: 2970 entries, 0 to 2969\n",
      "Data columns (total 6 columns):\n",
      " #   Column  Non-Null Count  Dtype \n",
      "---  ------  --------------  ----- \n",
      " 0   date    2970 non-null   object\n",
      " 1   pm25    2970 non-null   object\n",
      " 2   o3      2970 non-null   object\n",
      " 3   no2     2970 non-null   object\n",
      " 4   so2     2970 non-null   object\n",
      " 5   co      2970 non-null   object\n",
      "dtypes: object(6)\n",
      "memory usage: 139.3+ KB\n"
     ]
    }
   ],
   "source": [
    "# Check the types of features.\n",
    "air_quality.info()"
   ]
  },
  {
   "cell_type": "code",
   "execution_count": 8,
   "id": "mLMhMcaBp-lS",
   "metadata": {
    "colab": {
     "base_uri": "https://localhost:8080/"
    },
    "id": "mLMhMcaBp-lS",
    "outputId": "9f5f85be-84c2-41fb-eaea-4e32f3c4de33"
   },
   "outputs": [
    {
     "name": "stdout",
     "output_type": "stream",
     "text": [
      "<class 'pandas.core.frame.DataFrame'>\n",
      "RangeIndex: 2970 entries, 0 to 2969\n",
      "Data columns (total 6 columns):\n",
      " #   Column  Non-Null Count  Dtype         \n",
      "---  ------  --------------  -----         \n",
      " 0   date    2970 non-null   datetime64[ns]\n",
      " 1   pm25    2970 non-null   object        \n",
      " 2   o3      2970 non-null   object        \n",
      " 3   no2     2970 non-null   object        \n",
      " 4   so2     2970 non-null   object        \n",
      " 5   co      2970 non-null   object        \n",
      "dtypes: datetime64[ns](1), object(5)\n",
      "memory usage: 139.3+ KB\n"
     ]
    }
   ],
   "source": [
    "# Convert the date column to datetime\n",
    "air_quality['date'] = pd.to_datetime(air_quality['date'], format=\"%Y-%m-%d\")\n",
    "air_quality.info() \n",
    "#pd.to_numeric() doesn't work. I convert to float on forward cells."
   ]
  },
  {
   "cell_type": "code",
   "execution_count": 9,
   "id": "N3fXtF5mpVNq",
   "metadata": {
    "colab": {
     "base_uri": "https://localhost:8080/",
     "height": 49
    },
    "id": "N3fXtF5mpVNq",
    "outputId": "7d7578ab-a33f-48d2-f360-bdaec38351c5"
   },
   "outputs": [
    {
     "data": {
      "text/html": [
       "<div>\n",
       "<style scoped>\n",
       "    .dataframe tbody tr th:only-of-type {\n",
       "        vertical-align: middle;\n",
       "    }\n",
       "\n",
       "    .dataframe tbody tr th {\n",
       "        vertical-align: top;\n",
       "    }\n",
       "\n",
       "    .dataframe thead th {\n",
       "        text-align: right;\n",
       "    }\n",
       "</style>\n",
       "<table border=\"1\" class=\"dataframe\">\n",
       "  <thead>\n",
       "    <tr style=\"text-align: right;\">\n",
       "      <th></th>\n",
       "      <th>date</th>\n",
       "      <th>pm25</th>\n",
       "      <th>o3</th>\n",
       "      <th>no2</th>\n",
       "      <th>so2</th>\n",
       "      <th>co</th>\n",
       "    </tr>\n",
       "  </thead>\n",
       "  <tbody>\n",
       "  </tbody>\n",
       "</table>\n",
       "</div>"
      ],
      "text/plain": [
       "Empty DataFrame\n",
       "Columns: [date, pm25, o3, no2, so2, co]\n",
       "Index: []"
      ]
     },
     "execution_count": 9,
     "metadata": {},
     "output_type": "execute_result"
    }
   ],
   "source": [
    "# I realised that some dates are missing. I can see these dates are gray on website. These days are not included on csv. \n",
    "# For example there is no data for March 31th.\n",
    "air_quality[air_quality.date == '2020-03-31']"
   ]
  },
  {
   "cell_type": "code",
   "execution_count": 10,
   "id": "cZH86K8cmcvj",
   "metadata": {
    "colab": {
     "base_uri": "https://localhost:8080/",
     "height": 424
    },
    "id": "cZH86K8cmcvj",
    "outputId": "099bca9c-90a3-4e57-9ca6-7e6ffba95888"
   },
   "outputs": [
    {
     "data": {
      "text/html": [
       "<div>\n",
       "<style scoped>\n",
       "    .dataframe tbody tr th:only-of-type {\n",
       "        vertical-align: middle;\n",
       "    }\n",
       "\n",
       "    .dataframe tbody tr th {\n",
       "        vertical-align: top;\n",
       "    }\n",
       "\n",
       "    .dataframe thead th {\n",
       "        text-align: right;\n",
       "    }\n",
       "</style>\n",
       "<table border=\"1\" class=\"dataframe\">\n",
       "  <thead>\n",
       "    <tr style=\"text-align: right;\">\n",
       "      <th></th>\n",
       "      <th>date</th>\n",
       "    </tr>\n",
       "  </thead>\n",
       "  <tbody>\n",
       "    <tr>\n",
       "      <th>0</th>\n",
       "      <td>2014-01-01</td>\n",
       "    </tr>\n",
       "    <tr>\n",
       "      <th>1</th>\n",
       "      <td>2014-01-02</td>\n",
       "    </tr>\n",
       "    <tr>\n",
       "      <th>2</th>\n",
       "      <td>2014-01-03</td>\n",
       "    </tr>\n",
       "    <tr>\n",
       "      <th>3</th>\n",
       "      <td>2014-01-04</td>\n",
       "    </tr>\n",
       "    <tr>\n",
       "      <th>4</th>\n",
       "      <td>2014-01-05</td>\n",
       "    </tr>\n",
       "    <tr>\n",
       "      <th>...</th>\n",
       "      <td>...</td>\n",
       "    </tr>\n",
       "    <tr>\n",
       "      <th>2976</th>\n",
       "      <td>2022-02-24</td>\n",
       "    </tr>\n",
       "    <tr>\n",
       "      <th>2977</th>\n",
       "      <td>2022-02-25</td>\n",
       "    </tr>\n",
       "    <tr>\n",
       "      <th>2978</th>\n",
       "      <td>2022-02-26</td>\n",
       "    </tr>\n",
       "    <tr>\n",
       "      <th>2979</th>\n",
       "      <td>2022-02-27</td>\n",
       "    </tr>\n",
       "    <tr>\n",
       "      <th>2980</th>\n",
       "      <td>2022-02-28</td>\n",
       "    </tr>\n",
       "  </tbody>\n",
       "</table>\n",
       "<p>2981 rows × 1 columns</p>\n",
       "</div>"
      ],
      "text/plain": [
       "           date\n",
       "0    2014-01-01\n",
       "1    2014-01-02\n",
       "2    2014-01-03\n",
       "3    2014-01-04\n",
       "4    2014-01-05\n",
       "...         ...\n",
       "2976 2022-02-24\n",
       "2977 2022-02-25\n",
       "2978 2022-02-26\n",
       "2979 2022-02-27\n",
       "2980 2022-02-28\n",
       "\n",
       "[2981 rows x 1 columns]"
      ]
     },
     "execution_count": 10,
     "metadata": {},
     "output_type": "execute_result"
    }
   ],
   "source": [
    "#I decided to create a df for all dates from 2014-01-01 to 2022-02-28\n",
    "start = dt.datetime.strptime(\"2014-01-01\", \"%Y-%m-%d\")\n",
    "end = dt.datetime.strptime(\"2022-03-01\", \"%Y-%m-%d\")\n",
    "date_df = pd.DataFrame({'date':[start + dt.timedelta(days=x) for x in range(0, (end-start).days)]})\n",
    "date_df"
   ]
  },
  {
   "cell_type": "code",
   "execution_count": 11,
   "id": "UW4DNYKTnf1J",
   "metadata": {
    "colab": {
     "base_uri": "https://localhost:8080/",
     "height": 81
    },
    "id": "UW4DNYKTnf1J",
    "outputId": "63c5b9bd-5ae7-4c77-9e0b-35fead5c0344"
   },
   "outputs": [
    {
     "data": {
      "text/html": [
       "<div>\n",
       "<style scoped>\n",
       "    .dataframe tbody tr th:only-of-type {\n",
       "        vertical-align: middle;\n",
       "    }\n",
       "\n",
       "    .dataframe tbody tr th {\n",
       "        vertical-align: top;\n",
       "    }\n",
       "\n",
       "    .dataframe thead th {\n",
       "        text-align: right;\n",
       "    }\n",
       "</style>\n",
       "<table border=\"1\" class=\"dataframe\">\n",
       "  <thead>\n",
       "    <tr style=\"text-align: right;\">\n",
       "      <th></th>\n",
       "      <th>date</th>\n",
       "      <th>pm25</th>\n",
       "      <th>o3</th>\n",
       "      <th>no2</th>\n",
       "      <th>so2</th>\n",
       "      <th>co</th>\n",
       "    </tr>\n",
       "  </thead>\n",
       "  <tbody>\n",
       "    <tr>\n",
       "      <th>2281</th>\n",
       "      <td>2020-03-31</td>\n",
       "      <td>NaN</td>\n",
       "      <td>NaN</td>\n",
       "      <td>NaN</td>\n",
       "      <td>NaN</td>\n",
       "      <td>NaN</td>\n",
       "    </tr>\n",
       "  </tbody>\n",
       "</table>\n",
       "</div>"
      ],
      "text/plain": [
       "           date pm25   o3  no2  so2   co\n",
       "2281 2020-03-31  NaN  NaN  NaN  NaN  NaN"
      ]
     },
     "execution_count": 11,
     "metadata": {},
     "output_type": "execute_result"
    }
   ],
   "source": [
    "#I merge two dfs.\n",
    "air_quality_2 = pd.merge(date_df, air_quality, how='left', on='date')\n",
    "#check the same date. It is on df now and values are NaN\n",
    "air_quality_2[air_quality_2.date == '2020-03-31']"
   ]
  },
  {
   "cell_type": "code",
   "execution_count": 12,
   "id": "RIw4rYKneC1n",
   "metadata": {
    "colab": {
     "base_uri": "https://localhost:8080/",
     "height": 206
    },
    "id": "RIw4rYKneC1n",
    "outputId": "9b21ac3d-67ad-4ed6-91b0-b018142aa780"
   },
   "outputs": [
    {
     "data": {
      "text/html": [
       "<div>\n",
       "<style scoped>\n",
       "    .dataframe tbody tr th:only-of-type {\n",
       "        vertical-align: middle;\n",
       "    }\n",
       "\n",
       "    .dataframe tbody tr th {\n",
       "        vertical-align: top;\n",
       "    }\n",
       "\n",
       "    .dataframe thead th {\n",
       "        text-align: right;\n",
       "    }\n",
       "</style>\n",
       "<table border=\"1\" class=\"dataframe\">\n",
       "  <thead>\n",
       "    <tr style=\"text-align: right;\">\n",
       "      <th></th>\n",
       "      <th>date</th>\n",
       "      <th>pm25</th>\n",
       "      <th>o3</th>\n",
       "      <th>no2</th>\n",
       "      <th>so2</th>\n",
       "      <th>co</th>\n",
       "    </tr>\n",
       "  </thead>\n",
       "  <tbody>\n",
       "    <tr>\n",
       "      <th>0</th>\n",
       "      <td>2014-01-01</td>\n",
       "      <td></td>\n",
       "      <td>23</td>\n",
       "      <td></td>\n",
       "      <td></td>\n",
       "      <td></td>\n",
       "    </tr>\n",
       "    <tr>\n",
       "      <th>1</th>\n",
       "      <td>2014-01-02</td>\n",
       "      <td>47</td>\n",
       "      <td>14</td>\n",
       "      <td></td>\n",
       "      <td></td>\n",
       "      <td></td>\n",
       "    </tr>\n",
       "    <tr>\n",
       "      <th>2</th>\n",
       "      <td>2014-01-03</td>\n",
       "      <td>45</td>\n",
       "      <td>21</td>\n",
       "      <td></td>\n",
       "      <td></td>\n",
       "      <td></td>\n",
       "    </tr>\n",
       "    <tr>\n",
       "      <th>3</th>\n",
       "      <td>2014-01-04</td>\n",
       "      <td>38</td>\n",
       "      <td>23</td>\n",
       "      <td></td>\n",
       "      <td></td>\n",
       "      <td></td>\n",
       "    </tr>\n",
       "    <tr>\n",
       "      <th>4</th>\n",
       "      <td>2014-01-05</td>\n",
       "      <td>54</td>\n",
       "      <td>12</td>\n",
       "      <td></td>\n",
       "      <td></td>\n",
       "      <td></td>\n",
       "    </tr>\n",
       "  </tbody>\n",
       "</table>\n",
       "</div>"
      ],
      "text/plain": [
       "        date pm25   o3 no2 so2 co\n",
       "0 2014-01-01        23           \n",
       "1 2014-01-02   47   14           \n",
       "2 2014-01-03   45   21           \n",
       "3 2014-01-04   38   23           \n",
       "4 2014-01-05   54   12           "
      ]
     },
     "execution_count": 12,
     "metadata": {},
     "output_type": "execute_result"
    }
   ],
   "source": [
    "# Check the df again.\n",
    "air_quality_2.head() \n",
    "#there are some space cells. "
   ]
  },
  {
   "cell_type": "code",
   "execution_count": 13,
   "id": "4SrDeWp_zp8s",
   "metadata": {
    "colab": {
     "base_uri": "https://localhost:8080/",
     "height": 206
    },
    "id": "4SrDeWp_zp8s",
    "outputId": "67aa0440-fe83-4157-a991-c78ec2a4e5a4"
   },
   "outputs": [
    {
     "data": {
      "text/html": [
       "<div>\n",
       "<style scoped>\n",
       "    .dataframe tbody tr th:only-of-type {\n",
       "        vertical-align: middle;\n",
       "    }\n",
       "\n",
       "    .dataframe tbody tr th {\n",
       "        vertical-align: top;\n",
       "    }\n",
       "\n",
       "    .dataframe thead th {\n",
       "        text-align: right;\n",
       "    }\n",
       "</style>\n",
       "<table border=\"1\" class=\"dataframe\">\n",
       "  <thead>\n",
       "    <tr style=\"text-align: right;\">\n",
       "      <th></th>\n",
       "      <th>date</th>\n",
       "      <th>pm25</th>\n",
       "      <th>o3</th>\n",
       "      <th>no2</th>\n",
       "      <th>so2</th>\n",
       "      <th>co</th>\n",
       "    </tr>\n",
       "  </thead>\n",
       "  <tbody>\n",
       "    <tr>\n",
       "      <th>0</th>\n",
       "      <td>2014-01-01</td>\n",
       "      <td>NaN</td>\n",
       "      <td>23</td>\n",
       "      <td>NaN</td>\n",
       "      <td>NaN</td>\n",
       "      <td>NaN</td>\n",
       "    </tr>\n",
       "    <tr>\n",
       "      <th>1</th>\n",
       "      <td>2014-01-02</td>\n",
       "      <td>47</td>\n",
       "      <td>14</td>\n",
       "      <td>NaN</td>\n",
       "      <td>NaN</td>\n",
       "      <td>NaN</td>\n",
       "    </tr>\n",
       "    <tr>\n",
       "      <th>2</th>\n",
       "      <td>2014-01-03</td>\n",
       "      <td>45</td>\n",
       "      <td>21</td>\n",
       "      <td>NaN</td>\n",
       "      <td>NaN</td>\n",
       "      <td>NaN</td>\n",
       "    </tr>\n",
       "    <tr>\n",
       "      <th>3</th>\n",
       "      <td>2014-01-04</td>\n",
       "      <td>38</td>\n",
       "      <td>23</td>\n",
       "      <td>NaN</td>\n",
       "      <td>NaN</td>\n",
       "      <td>NaN</td>\n",
       "    </tr>\n",
       "    <tr>\n",
       "      <th>4</th>\n",
       "      <td>2014-01-05</td>\n",
       "      <td>54</td>\n",
       "      <td>12</td>\n",
       "      <td>NaN</td>\n",
       "      <td>NaN</td>\n",
       "      <td>NaN</td>\n",
       "    </tr>\n",
       "  </tbody>\n",
       "</table>\n",
       "</div>"
      ],
      "text/plain": [
       "        date pm25   o3  no2  so2   co\n",
       "0 2014-01-01  NaN   23  NaN  NaN  NaN\n",
       "1 2014-01-02   47   14  NaN  NaN  NaN\n",
       "2 2014-01-03   45   21  NaN  NaN  NaN\n",
       "3 2014-01-04   38   23  NaN  NaN  NaN\n",
       "4 2014-01-05   54   12  NaN  NaN  NaN"
      ]
     },
     "execution_count": 13,
     "metadata": {},
     "output_type": "execute_result"
    }
   ],
   "source": [
    "# Replace spaces to NaNs\n",
    "air_quality_2 = air_quality_2.replace(r'^\\s+$', np.nan, regex=True)\n",
    "air_quality_2.head()"
   ]
  },
  {
   "cell_type": "code",
   "execution_count": 14,
   "id": "9ce637ca",
   "metadata": {
    "id": "9ce637ca"
   },
   "outputs": [],
   "source": [
    "# Sort the date\n",
    "air_quality_2 = air_quality_2.sort_values(by=['date'], ascending=False)"
   ]
  },
  {
   "cell_type": "code",
   "execution_count": 15,
   "id": "aafd7cd5",
   "metadata": {
    "id": "aafd7cd5"
   },
   "outputs": [],
   "source": [
    "air_quality_2=air_quality_2.reset_index(drop=True)"
   ]
  },
  {
   "cell_type": "code",
   "execution_count": 16,
   "id": "fNCxeN3F2I4v",
   "metadata": {
    "id": "fNCxeN3F2I4v"
   },
   "outputs": [],
   "source": [
    "#Set index as date column. It will better while creating time series plots.\n",
    "air_quality_2 = air_quality_2.set_index('date')"
   ]
  },
  {
   "cell_type": "code",
   "execution_count": 17,
   "id": "pTgSlq7Uzsnr",
   "metadata": {
    "id": "pTgSlq7Uzsnr"
   },
   "outputs": [],
   "source": [
    "air_quality_2 = air_quality_2.astype(str).astype(float)\n"
   ]
  },
  {
   "cell_type": "code",
   "execution_count": 18,
   "id": "DH9zA3E-dTSH",
   "metadata": {
    "colab": {
     "base_uri": "https://localhost:8080/"
    },
    "id": "DH9zA3E-dTSH",
    "outputId": "6c090717-df03-466f-d078-5c5d824a3743"
   },
   "outputs": [
    {
     "data": {
      "text/plain": [
       "pm25      41\n",
       "o3        43\n",
       "no2      406\n",
       "so2     1845\n",
       "co       423\n",
       "dtype: int64"
      ]
     },
     "execution_count": 18,
     "metadata": {},
     "output_type": "execute_result"
    }
   ],
   "source": [
    "# The NaNs in the data set.\n",
    "air_quality_2.isna().sum()\n"
   ]
  },
  {
   "cell_type": "code",
   "execution_count": 19,
   "id": "nOQLGWpw25yA",
   "metadata": {
    "id": "nOQLGWpw25yA"
   },
   "outputs": [],
   "source": [
    "# Fill NaN with interpolate method.\n",
    "air_quality_2.interpolate(method='linear', inplace=True) "
   ]
  },
  {
   "cell_type": "code",
   "execution_count": 20,
   "id": "cF80lZ4o3LLA",
   "metadata": {
    "colab": {
     "base_uri": "https://localhost:8080/",
     "height": 238
    },
    "id": "cF80lZ4o3LLA",
    "outputId": "fa359fab-30c3-473b-d0c5-8f5b5b29bc3b"
   },
   "outputs": [
    {
     "data": {
      "text/html": [
       "<div>\n",
       "<style scoped>\n",
       "    .dataframe tbody tr th:only-of-type {\n",
       "        vertical-align: middle;\n",
       "    }\n",
       "\n",
       "    .dataframe tbody tr th {\n",
       "        vertical-align: top;\n",
       "    }\n",
       "\n",
       "    .dataframe thead th {\n",
       "        text-align: right;\n",
       "    }\n",
       "</style>\n",
       "<table border=\"1\" class=\"dataframe\">\n",
       "  <thead>\n",
       "    <tr style=\"text-align: right;\">\n",
       "      <th></th>\n",
       "      <th>pm25</th>\n",
       "      <th>o3</th>\n",
       "      <th>no2</th>\n",
       "      <th>so2</th>\n",
       "      <th>co</th>\n",
       "    </tr>\n",
       "    <tr>\n",
       "      <th>date</th>\n",
       "      <th></th>\n",
       "      <th></th>\n",
       "      <th></th>\n",
       "      <th></th>\n",
       "      <th></th>\n",
       "    </tr>\n",
       "  </thead>\n",
       "  <tbody>\n",
       "    <tr>\n",
       "      <th>2022-02-28</th>\n",
       "      <td>45.0</td>\n",
       "      <td>28.0</td>\n",
       "      <td>14.0</td>\n",
       "      <td>1.0</td>\n",
       "      <td>2.0</td>\n",
       "    </tr>\n",
       "    <tr>\n",
       "      <th>2022-02-27</th>\n",
       "      <td>39.0</td>\n",
       "      <td>34.0</td>\n",
       "      <td>12.0</td>\n",
       "      <td>1.0</td>\n",
       "      <td>3.0</td>\n",
       "    </tr>\n",
       "    <tr>\n",
       "      <th>2022-02-26</th>\n",
       "      <td>27.0</td>\n",
       "      <td>29.0</td>\n",
       "      <td>18.0</td>\n",
       "      <td>1.0</td>\n",
       "      <td>4.0</td>\n",
       "    </tr>\n",
       "    <tr>\n",
       "      <th>2022-02-25</th>\n",
       "      <td>21.0</td>\n",
       "      <td>22.0</td>\n",
       "      <td>13.0</td>\n",
       "      <td>1.0</td>\n",
       "      <td>2.0</td>\n",
       "    </tr>\n",
       "    <tr>\n",
       "      <th>2022-02-24</th>\n",
       "      <td>31.0</td>\n",
       "      <td>23.0</td>\n",
       "      <td>14.0</td>\n",
       "      <td>1.0</td>\n",
       "      <td>2.0</td>\n",
       "    </tr>\n",
       "  </tbody>\n",
       "</table>\n",
       "</div>"
      ],
      "text/plain": [
       "            pm25    o3   no2  so2   co\n",
       "date                                  \n",
       "2022-02-28  45.0  28.0  14.0  1.0  2.0\n",
       "2022-02-27  39.0  34.0  12.0  1.0  3.0\n",
       "2022-02-26  27.0  29.0  18.0  1.0  4.0\n",
       "2022-02-25  21.0  22.0  13.0  1.0  2.0\n",
       "2022-02-24  31.0  23.0  14.0  1.0  2.0"
      ]
     },
     "execution_count": 20,
     "metadata": {},
     "output_type": "execute_result"
    }
   ],
   "source": [
    "air_quality_2.head()"
   ]
  },
  {
   "cell_type": "code",
   "execution_count": 21,
   "id": "LqUsxlPF6xvT",
   "metadata": {
    "colab": {
     "base_uri": "https://localhost:8080/",
     "height": 283
    },
    "id": "LqUsxlPF6xvT",
    "outputId": "13e6d97c-b88f-4694-9ac0-967ead4bacd9"
   },
   "outputs": [
    {
     "data": {
      "text/plain": [
       "<AxesSubplot:>"
      ]
     },
     "execution_count": 21,
     "metadata": {},
     "output_type": "execute_result"
    },
    {
     "data": {
      "image/png": "[encoded data removed]",
      "text/plain": [
       "<Figure size 432x288 with 1 Axes>"
      ]
     },
     "metadata": {
      "needs_background": "light"
     },
     "output_type": "display_data"
    }
   ],
   "source": [
    "#Check outliers. I can see there are a lot of outliers. I don't drop them. \"Identifying outliers in time series forecasting is important because outliers influence the forecast model that is used to \n",
    "#forecast future values. I will examine the outliers in EDA.\n",
    "air_quality_2.boxplot() "
   ]
  },
  {
   "cell_type": "code",
   "execution_count": 22,
   "id": "x8Y-iveS65Mg",
   "metadata": {
    "id": "x8Y-iveS65Mg"
   },
   "outputs": [],
   "source": [
    "# I realised that my yearly datasets' date range ends in 2021. I don't have 2022 data. So I dediced to drop two months of 2022. \n",
    "air_quality_2 = air_quality_2.loc[:'2021-12-31']"
   ]
  },
  {
   "cell_type": "code",
   "execution_count": 23,
   "id": "-Km14yJRIHFk",
   "metadata": {
    "colab": {
     "base_uri": "https://localhost:8080/",
     "height": 455
    },
    "id": "-Km14yJRIHFk",
    "outputId": "59aa57fb-aee0-47a0-fce0-261aaf5c820b"
   },
   "outputs": [
    {
     "data": {
      "text/html": [
       "<div>\n",
       "<style scoped>\n",
       "    .dataframe tbody tr th:only-of-type {\n",
       "        vertical-align: middle;\n",
       "    }\n",
       "\n",
       "    .dataframe tbody tr th {\n",
       "        vertical-align: top;\n",
       "    }\n",
       "\n",
       "    .dataframe thead th {\n",
       "        text-align: right;\n",
       "    }\n",
       "</style>\n",
       "<table border=\"1\" class=\"dataframe\">\n",
       "  <thead>\n",
       "    <tr style=\"text-align: right;\">\n",
       "      <th></th>\n",
       "      <th>pm25</th>\n",
       "      <th>o3</th>\n",
       "      <th>no2</th>\n",
       "      <th>so2</th>\n",
       "      <th>co</th>\n",
       "    </tr>\n",
       "    <tr>\n",
       "      <th>date</th>\n",
       "      <th></th>\n",
       "      <th></th>\n",
       "      <th></th>\n",
       "      <th></th>\n",
       "      <th></th>\n",
       "    </tr>\n",
       "  </thead>\n",
       "  <tbody>\n",
       "    <tr>\n",
       "      <th>2021-12-31</th>\n",
       "      <td>52.0</td>\n",
       "      <td>4.0</td>\n",
       "      <td>18.0</td>\n",
       "      <td>1.0</td>\n",
       "      <td>5.0</td>\n",
       "    </tr>\n",
       "    <tr>\n",
       "      <th>2021-12-30</th>\n",
       "      <td>42.0</td>\n",
       "      <td>2.0</td>\n",
       "      <td>23.0</td>\n",
       "      <td>1.0</td>\n",
       "      <td>5.0</td>\n",
       "    </tr>\n",
       "    <tr>\n",
       "      <th>2021-12-29</th>\n",
       "      <td>40.0</td>\n",
       "      <td>9.0</td>\n",
       "      <td>15.0</td>\n",
       "      <td>1.0</td>\n",
       "      <td>4.0</td>\n",
       "    </tr>\n",
       "    <tr>\n",
       "      <th>2021-12-28</th>\n",
       "      <td>27.0</td>\n",
       "      <td>12.0</td>\n",
       "      <td>15.0</td>\n",
       "      <td>1.0</td>\n",
       "      <td>4.0</td>\n",
       "    </tr>\n",
       "    <tr>\n",
       "      <th>2021-12-27</th>\n",
       "      <td>26.0</td>\n",
       "      <td>13.0</td>\n",
       "      <td>13.0</td>\n",
       "      <td>1.0</td>\n",
       "      <td>3.0</td>\n",
       "    </tr>\n",
       "    <tr>\n",
       "      <th>...</th>\n",
       "      <td>...</td>\n",
       "      <td>...</td>\n",
       "      <td>...</td>\n",
       "      <td>...</td>\n",
       "      <td>...</td>\n",
       "    </tr>\n",
       "    <tr>\n",
       "      <th>2014-01-05</th>\n",
       "      <td>54.0</td>\n",
       "      <td>12.0</td>\n",
       "      <td>29.0</td>\n",
       "      <td>1.0</td>\n",
       "      <td>5.0</td>\n",
       "    </tr>\n",
       "    <tr>\n",
       "      <th>2014-01-04</th>\n",
       "      <td>38.0</td>\n",
       "      <td>23.0</td>\n",
       "      <td>29.0</td>\n",
       "      <td>1.0</td>\n",
       "      <td>5.0</td>\n",
       "    </tr>\n",
       "    <tr>\n",
       "      <th>2014-01-03</th>\n",
       "      <td>45.0</td>\n",
       "      <td>21.0</td>\n",
       "      <td>29.0</td>\n",
       "      <td>1.0</td>\n",
       "      <td>5.0</td>\n",
       "    </tr>\n",
       "    <tr>\n",
       "      <th>2014-01-02</th>\n",
       "      <td>47.0</td>\n",
       "      <td>14.0</td>\n",
       "      <td>29.0</td>\n",
       "      <td>1.0</td>\n",
       "      <td>5.0</td>\n",
       "    </tr>\n",
       "    <tr>\n",
       "      <th>2014-01-01</th>\n",
       "      <td>47.0</td>\n",
       "      <td>23.0</td>\n",
       "      <td>29.0</td>\n",
       "      <td>1.0</td>\n",
       "      <td>5.0</td>\n",
       "    </tr>\n",
       "  </tbody>\n",
       "</table>\n",
       "<p>2922 rows × 5 columns</p>\n",
       "</div>"
      ],
      "text/plain": [
       "            pm25    o3   no2  so2   co\n",
       "date                                  \n",
       "2021-12-31  52.0   4.0  18.0  1.0  5.0\n",
       "2021-12-30  42.0   2.0  23.0  1.0  5.0\n",
       "2021-12-29  40.0   9.0  15.0  1.0  4.0\n",
       "2021-12-28  27.0  12.0  15.0  1.0  4.0\n",
       "2021-12-27  26.0  13.0  13.0  1.0  3.0\n",
       "...          ...   ...   ...  ...  ...\n",
       "2014-01-05  54.0  12.0  29.0  1.0  5.0\n",
       "2014-01-04  38.0  23.0  29.0  1.0  5.0\n",
       "2014-01-03  45.0  21.0  29.0  1.0  5.0\n",
       "2014-01-02  47.0  14.0  29.0  1.0  5.0\n",
       "2014-01-01  47.0  23.0  29.0  1.0  5.0\n",
       "\n",
       "[2922 rows x 5 columns]"
      ]
     },
     "execution_count": 23,
     "metadata": {},
     "output_type": "execute_result"
    }
   ],
   "source": [
    "#Last check before saving\n",
    "air_quality_2"
   ]
  },
  {
   "cell_type": "code",
   "execution_count": 27,
   "id": "SRatetKo9yNr",
   "metadata": {
    "colab": {
     "base_uri": "https://localhost:8080/",
     "height": 17
    },
    "id": "SRatetKo9yNr",
    "outputId": "d27ffb2f-71f6-4519-cec6-43aedd8eff8b",
    "scrolled": false
   },
   "outputs": [],
   "source": [
    "#Save the clean version of air_quality\n",
    "\n",
    "air_quality_2.to_csv('/Users/handedede/Downloads/data.csv', index=False)\n"
   ]
  },
  {
   "cell_type": "markdown",
   "id": "d9738a29",
   "metadata": {
    "id": "d9738a29"
   },
   "source": [
    "### **2.2.2 Weather**"
   ]
  },
  {
   "cell_type": "markdown",
   "id": "47bf1439",
   "metadata": {
    "id": "47bf1439"
   },
   "source": [
    "The second dataset is about Boston's weather. There are a lot of attributes of weather data.The data range is between 01/01/2014 and 03/22/2022. The data was downloaded from [here](https://www.visualcrossing.com/weather/weather-data-services)."
   ]
  },
  {
   "cell_type": "code",
   "execution_count": 29,
   "id": "82785485",
   "metadata": {
    "id": "82785485"
   },
   "outputs": [],
   "source": [
    "# Load the data\n",
    "url_w = 'https://github.com/hangulde/Air_Quality_Prediction_of_Boston-/raw/main/data/dataset_data_wrangling/weather.csv'\n",
    "weather = pd.read_csv(url_w)"
   ]
  },
  {
   "cell_type": "code",
   "execution_count": 30,
   "id": "jpNrHXxk2ClM",
   "metadata": {
    "colab": {
     "base_uri": "https://localhost:8080/",
     "height": 543
    },
    "id": "jpNrHXxk2ClM",
    "outputId": "b4f4fc91-797b-4fa9-e78b-882419c436c6"
   },
   "outputs": [
    {
     "data": {
      "text/html": [
       "<div>\n",
       "<style scoped>\n",
       "    .dataframe tbody tr th:only-of-type {\n",
       "        vertical-align: middle;\n",
       "    }\n",
       "\n",
       "    .dataframe tbody tr th {\n",
       "        vertical-align: top;\n",
       "    }\n",
       "\n",
       "    .dataframe thead th {\n",
       "        text-align: right;\n",
       "    }\n",
       "</style>\n",
       "<table border=\"1\" class=\"dataframe\">\n",
       "  <thead>\n",
       "    <tr style=\"text-align: right;\">\n",
       "      <th></th>\n",
       "      <th>index</th>\n",
       "      <th>name</th>\n",
       "      <th>datetime</th>\n",
       "      <th>tempmax</th>\n",
       "      <th>tempmin</th>\n",
       "      <th>temp</th>\n",
       "      <th>feelslikemax</th>\n",
       "      <th>feelslikemin</th>\n",
       "      <th>feelslike</th>\n",
       "      <th>dew</th>\n",
       "      <th>...</th>\n",
       "      <th>solarenergy</th>\n",
       "      <th>uvindex</th>\n",
       "      <th>severerisk</th>\n",
       "      <th>sunrise</th>\n",
       "      <th>sunset</th>\n",
       "      <th>moonphase</th>\n",
       "      <th>conditions</th>\n",
       "      <th>description</th>\n",
       "      <th>icon</th>\n",
       "      <th>stations</th>\n",
       "    </tr>\n",
       "  </thead>\n",
       "  <tbody>\n",
       "    <tr>\n",
       "      <th>0</th>\n",
       "      <td>0</td>\n",
       "      <td>boston</td>\n",
       "      <td>2014-01-01</td>\n",
       "      <td>-2.1</td>\n",
       "      <td>-7.0</td>\n",
       "      <td>-4.7</td>\n",
       "      <td>-6.6</td>\n",
       "      <td>-13.3</td>\n",
       "      <td>-10.0</td>\n",
       "      <td>-15.1</td>\n",
       "      <td>...</td>\n",
       "      <td>NaN</td>\n",
       "      <td>0</td>\n",
       "      <td>NaN</td>\n",
       "      <td>2014-01-01T07:13:34</td>\n",
       "      <td>2014-01-01T16:22:19</td>\n",
       "      <td>0.00</td>\n",
       "      <td>Partially cloudy</td>\n",
       "      <td>Becoming cloudy in the afternoon.</td>\n",
       "      <td>partly-cloudy-day</td>\n",
       "      <td>KOWD,72509854704,KMQE,KBOS,72509014739,7250591...</td>\n",
       "    </tr>\n",
       "    <tr>\n",
       "      <th>1</th>\n",
       "      <td>1</td>\n",
       "      <td>boston</td>\n",
       "      <td>2014-01-02</td>\n",
       "      <td>-3.3</td>\n",
       "      <td>-16.1</td>\n",
       "      <td>-8.4</td>\n",
       "      <td>-9.6</td>\n",
       "      <td>-28.2</td>\n",
       "      <td>-16.6</td>\n",
       "      <td>-11.3</td>\n",
       "      <td>...</td>\n",
       "      <td>NaN</td>\n",
       "      <td>0</td>\n",
       "      <td>NaN</td>\n",
       "      <td>2014-01-02T07:13:38</td>\n",
       "      <td>2014-01-02T16:23:12</td>\n",
       "      <td>0.01</td>\n",
       "      <td>Snow, Overcast</td>\n",
       "      <td>Cloudy skies throughout the day with a chance ...</td>\n",
       "      <td>snow</td>\n",
       "      <td>KOWD,72509854704,KMQE,KBOS,72509014739,7250591...</td>\n",
       "    </tr>\n",
       "    <tr>\n",
       "      <th>2</th>\n",
       "      <td>2</td>\n",
       "      <td>boston</td>\n",
       "      <td>2014-01-03</td>\n",
       "      <td>-10.0</td>\n",
       "      <td>-17.0</td>\n",
       "      <td>-14.4</td>\n",
       "      <td>-18.0</td>\n",
       "      <td>-29.8</td>\n",
       "      <td>-24.9</td>\n",
       "      <td>-20.0</td>\n",
       "      <td>...</td>\n",
       "      <td>NaN</td>\n",
       "      <td>0</td>\n",
       "      <td>NaN</td>\n",
       "      <td>2014-01-03T07:13:39</td>\n",
       "      <td>2014-01-03T16:24:07</td>\n",
       "      <td>0.03</td>\n",
       "      <td>Snow, Partially cloudy</td>\n",
       "      <td>Partly cloudy throughout the day with rain cle...</td>\n",
       "      <td>snow</td>\n",
       "      <td>KOWD,72509854704,KMQE,KBOS,72509014739,7250591...</td>\n",
       "    </tr>\n",
       "    <tr>\n",
       "      <th>3</th>\n",
       "      <td>3</td>\n",
       "      <td>boston</td>\n",
       "      <td>2014-01-04</td>\n",
       "      <td>-3.0</td>\n",
       "      <td>-17.2</td>\n",
       "      <td>-9.7</td>\n",
       "      <td>-9.3</td>\n",
       "      <td>-25.4</td>\n",
       "      <td>-16.5</td>\n",
       "      <td>-17.5</td>\n",
       "      <td>...</td>\n",
       "      <td>NaN</td>\n",
       "      <td>0</td>\n",
       "      <td>NaN</td>\n",
       "      <td>2014-01-04T07:13:38</td>\n",
       "      <td>2014-01-04T16:25:03</td>\n",
       "      <td>0.07</td>\n",
       "      <td>Snow, Partially cloudy</td>\n",
       "      <td>Partly cloudy throughout the day with morning ...</td>\n",
       "      <td>snow</td>\n",
       "      <td>KOWD,72509854704,KMQE,KBOS,72509014739,7250591...</td>\n",
       "    </tr>\n",
       "    <tr>\n",
       "      <th>4</th>\n",
       "      <td>4</td>\n",
       "      <td>boston</td>\n",
       "      <td>2014-01-05</td>\n",
       "      <td>3.0</td>\n",
       "      <td>-4.4</td>\n",
       "      <td>-0.7</td>\n",
       "      <td>2.0</td>\n",
       "      <td>-10.5</td>\n",
       "      <td>-4.7</td>\n",
       "      <td>-5.9</td>\n",
       "      <td>...</td>\n",
       "      <td>NaN</td>\n",
       "      <td>0</td>\n",
       "      <td>NaN</td>\n",
       "      <td>2014-01-05T07:13:35</td>\n",
       "      <td>2014-01-05T16:26:00</td>\n",
       "      <td>0.11</td>\n",
       "      <td>Snow, Partially cloudy</td>\n",
       "      <td>Partly cloudy throughout the day with late aft...</td>\n",
       "      <td>snow</td>\n",
       "      <td>KOWD,72509854704,KMQE,KBOS,72509014739,7250591...</td>\n",
       "    </tr>\n",
       "  </tbody>\n",
       "</table>\n",
       "<p>5 rows × 34 columns</p>\n",
       "</div>"
      ],
      "text/plain": [
       "   index    name    datetime  tempmax  tempmin  temp  feelslikemax  \\\n",
       "0      0  boston  2014-01-01     -2.1     -7.0  -4.7          -6.6   \n",
       "1      1  boston  2014-01-02     -3.3    -16.1  -8.4          -9.6   \n",
       "2      2  boston  2014-01-03    -10.0    -17.0 -14.4         -18.0   \n",
       "3      3  boston  2014-01-04     -3.0    -17.2  -9.7          -9.3   \n",
       "4      4  boston  2014-01-05      3.0     -4.4  -0.7           2.0   \n",
       "\n",
       "   feelslikemin  feelslike   dew  ...  solarenergy  uvindex  severerisk  \\\n",
       "0         -13.3      -10.0 -15.1  ...          NaN        0         NaN   \n",
       "1         -28.2      -16.6 -11.3  ...          NaN        0         NaN   \n",
       "2         -29.8      -24.9 -20.0  ...          NaN        0         NaN   \n",
       "3         -25.4      -16.5 -17.5  ...          NaN        0         NaN   \n",
       "4         -10.5       -4.7  -5.9  ...          NaN        0         NaN   \n",
       "\n",
       "               sunrise               sunset  moonphase  \\\n",
       "0  2014-01-01T07:13:34  2014-01-01T16:22:19       0.00   \n",
       "1  2014-01-02T07:13:38  2014-01-02T16:23:12       0.01   \n",
       "2  2014-01-03T07:13:39  2014-01-03T16:24:07       0.03   \n",
       "3  2014-01-04T07:13:38  2014-01-04T16:25:03       0.07   \n",
       "4  2014-01-05T07:13:35  2014-01-05T16:26:00       0.11   \n",
       "\n",
       "               conditions                                        description  \\\n",
       "0        Partially cloudy                  Becoming cloudy in the afternoon.   \n",
       "1          Snow, Overcast  Cloudy skies throughout the day with a chance ...   \n",
       "2  Snow, Partially cloudy  Partly cloudy throughout the day with rain cle...   \n",
       "3  Snow, Partially cloudy  Partly cloudy throughout the day with morning ...   \n",
       "4  Snow, Partially cloudy  Partly cloudy throughout the day with late aft...   \n",
       "\n",
       "                icon                                           stations  \n",
       "0  partly-cloudy-day  KOWD,72509854704,KMQE,KBOS,72509014739,7250591...  \n",
       "1               snow  KOWD,72509854704,KMQE,KBOS,72509014739,7250591...  \n",
       "2               snow  KOWD,72509854704,KMQE,KBOS,72509014739,7250591...  \n",
       "3               snow  KOWD,72509854704,KMQE,KBOS,72509014739,7250591...  \n",
       "4               snow  KOWD,72509854704,KMQE,KBOS,72509014739,7250591...  \n",
       "\n",
       "[5 rows x 34 columns]"
      ]
     },
     "execution_count": 30,
     "metadata": {},
     "output_type": "execute_result"
    }
   ],
   "source": [
    "# Check the df\n",
    "weather.head()"
   ]
  },
  {
   "cell_type": "code",
   "execution_count": 31,
   "id": "uH3eHBcnF-z3",
   "metadata": {
    "colab": {
     "base_uri": "https://localhost:8080/"
    },
    "id": "uH3eHBcnF-z3",
    "outputId": "edfdb946-bcc7-48d7-8b31-c6a1e3ca5a22"
   },
   "outputs": [
    {
     "data": {
      "text/plain": [
       "(3003, 34)"
      ]
     },
     "execution_count": 31,
     "metadata": {},
     "output_type": "execute_result"
    }
   ],
   "source": [
    "#Shape of df\n",
    "weather.shape"
   ]
  },
  {
   "cell_type": "markdown",
   "id": "XBA8IuG2_hh9",
   "metadata": {
    "id": "XBA8IuG2_hh9"
   },
   "source": [
    "There are 34 columns. I want to see in detail. The explanations of columns [here](https://www.visualcrossing.com/resources/documentation/weather-data/weather-data-documentation/). I will drop some of columns which are useless."
   ]
  },
  {
   "cell_type": "code",
   "execution_count": 32,
   "id": "IoVGSjRj2T9X",
   "metadata": {
    "colab": {
     "base_uri": "https://localhost:8080/"
    },
    "id": "IoVGSjRj2T9X",
    "outputId": "dcaffb6f-dc07-4b8a-bbba-cdc75575592f"
   },
   "outputs": [
    {
     "data": {
      "text/plain": [
       "Index(['index', 'name', 'datetime', 'tempmax', 'tempmin', 'temp',\n",
       "       'feelslikemax', 'feelslikemin', 'feelslike', 'dew', 'humidity',\n",
       "       'precip', 'precipprob', 'precipcover', 'preciptype', 'snow',\n",
       "       'snowdepth', 'windgust', 'windspeed', 'winddir', 'sealevelpressure',\n",
       "       'cloudcover', 'visibility', 'solarradiation', 'solarenergy', 'uvindex',\n",
       "       'severerisk', 'sunrise', 'sunset', 'moonphase', 'conditions',\n",
       "       'description', 'icon', 'stations'],\n",
       "      dtype='object')"
      ]
     },
     "execution_count": 32,
     "metadata": {},
     "output_type": "execute_result"
    }
   ],
   "source": [
    "# Column names\n",
    "weather.columns"
   ]
  },
  {
   "cell_type": "markdown",
   "id": "SIxfeeLuAryW",
   "metadata": {
    "id": "SIxfeeLuAryW"
   },
   "source": [
    "**What does effect air quality?**\n",
    "The weather can have a significant impact on air quality since different aspects of the weather affect the amounts of ozone and particulates that are present in a specific area.  Sunshine, rain, higher temperatures, wind speed, air turbulence, and mixing depths all affect pollutant concentrations."
   ]
  },
  {
   "cell_type": "code",
   "execution_count": 33,
   "id": "00uuzLDs_9q8",
   "metadata": {
    "id": "00uuzLDs_9q8"
   },
   "outputs": [],
   "source": [
    "# Make a list of the useless columns.\n",
    "drop_col = ['index' #I set index as date]\n",
    "            ,'name' #all of them Boston\n",
    "            ,'sunrise',\t'sunset' #I don't use daytime\n",
    "            ,'moonphase' #I think it is irrelevant\n",
    "            , 'conditions' # I'll use icon column instead of conditions. Less categorr\n",
    "            , 'stations' #the id of locations.\n",
    "            , 'severerisk' #more than 2900 NaNs\n",
    "            , 'uvindex' #more than 2900 NaNs\n",
    "            , 'solarenergy' #more than 2900 NaNs\n",
    "            , 'solarradiation' #more than 2900 NaNs\n",
    "            , 'description' #63 category. I use icon\n",
    "            , 'preciptype' # 39 non-null  \n",
    "            , 'precipprob' # 72 non-null\n",
    "            ]"
   ]
  },
  {
   "cell_type": "code",
   "execution_count": 34,
   "id": "QGymoFucFv49",
   "metadata": {
    "colab": {
     "base_uri": "https://localhost:8080/"
    },
    "id": "QGymoFucFv49",
    "outputId": "3180b7a3-2471-41d9-a387-e6818da75665"
   },
   "outputs": [
    {
     "data": {
      "text/plain": [
       "Index(['datetime', 'tempmax', 'tempmin', 'temp', 'feelslikemax',\n",
       "       'feelslikemin', 'feelslike', 'dew', 'humidity', 'precip', 'precipcover',\n",
       "       'snow', 'snowdepth', 'windgust', 'windspeed', 'winddir',\n",
       "       'sealevelpressure', 'cloudcover', 'visibility', 'icon'],\n",
       "      dtype='object')"
      ]
     },
     "execution_count": 34,
     "metadata": {},
     "output_type": "execute_result"
    }
   ],
   "source": [
    "# Drop useless columns\n",
    "weather = weather.drop(drop_col, axis=1)\n",
    "weather.columns"
   ]
  },
  {
   "cell_type": "code",
   "execution_count": 35,
   "id": "d5e5e017",
   "metadata": {
    "colab": {
     "base_uri": "https://localhost:8080/"
    },
    "id": "d5e5e017",
    "outputId": "3d6a156f-cacb-4569-c89a-2777cd1bd370"
   },
   "outputs": [
    {
     "name": "stdout",
     "output_type": "stream",
     "text": [
      "<class 'pandas.core.frame.DataFrame'>\n",
      "RangeIndex: 3003 entries, 0 to 3002\n",
      "Data columns (total 20 columns):\n",
      " #   Column            Non-Null Count  Dtype  \n",
      "---  ------            --------------  -----  \n",
      " 0   datetime          3003 non-null   object \n",
      " 1   tempmax           3003 non-null   float64\n",
      " 2   tempmin           3003 non-null   float64\n",
      " 3   temp              3003 non-null   float64\n",
      " 4   feelslikemax      3003 non-null   float64\n",
      " 5   feelslikemin      3003 non-null   float64\n",
      " 6   feelslike         3003 non-null   float64\n",
      " 7   dew               3003 non-null   float64\n",
      " 8   humidity          3003 non-null   float64\n",
      " 9   precip            3003 non-null   float64\n",
      " 10  precipcover       2931 non-null   float64\n",
      " 11  snow              2273 non-null   float64\n",
      " 12  snowdepth         2273 non-null   float64\n",
      " 13  windgust          2601 non-null   float64\n",
      " 14  windspeed         3003 non-null   float64\n",
      " 15  winddir           3003 non-null   float64\n",
      " 16  sealevelpressure  3003 non-null   float64\n",
      " 17  cloudcover        3003 non-null   float64\n",
      " 18  visibility        3003 non-null   float64\n",
      " 19  icon              3003 non-null   object \n",
      "dtypes: float64(18), object(2)\n",
      "memory usage: 469.3+ KB\n"
     ]
    }
   ],
   "source": [
    "# See the types of columns\n",
    "weather.info()\n",
    "#Change the name and type of date column type\n",
    "#Change the type of icon column type. "
   ]
  },
  {
   "cell_type": "code",
   "execution_count": 36,
   "id": "Dl-n3-49GeQc",
   "metadata": {
    "id": "Dl-n3-49GeQc"
   },
   "outputs": [],
   "source": [
    "# Change datetime column to datetype\n",
    "weather = weather.rename(columns={\"datetime\":\"date\"})"
   ]
  },
  {
   "cell_type": "code",
   "execution_count": 37,
   "id": "QLGs7Ff2KYib",
   "metadata": {
    "id": "QLGs7Ff2KYib"
   },
   "outputs": [],
   "source": [
    "# Make date format similar to air quality.\n",
    "weather.date = pd.to_datetime(weather['date'], format=\"%Y-%m-%d\")"
   ]
  },
  {
   "cell_type": "code",
   "execution_count": 38,
   "id": "CfAgTsgiLFFE",
   "metadata": {
    "id": "CfAgTsgiLFFE"
   },
   "outputs": [],
   "source": [
    "# Sort the dates descending order.\n",
    "weather = weather.sort_values(by=['date'], ascending=False)"
   ]
  },
  {
   "cell_type": "code",
   "execution_count": 39,
   "id": "7-1q_f6oLJ7w",
   "metadata": {
    "id": "7-1q_f6oLJ7w"
   },
   "outputs": [],
   "source": [
    "# Set the date as index for dataframe\n",
    "weather = weather.set_index('date')"
   ]
  },
  {
   "cell_type": "code",
   "execution_count": 40,
   "id": "stkXD2IEHT-J",
   "metadata": {
    "colab": {
     "base_uri": "https://localhost:8080/"
    },
    "id": "stkXD2IEHT-J",
    "outputId": "51dc93a0-9043-46cf-cd59-5b6c6c588ab0"
   },
   "outputs": [
    {
     "data": {
      "text/plain": [
       "partly-cloudy-day    1032\n",
       "rain                 1022\n",
       "wind                  472\n",
       "snow                  338\n",
       "clear-day              93\n",
       "cloudy                 46\n",
       "Name: icon, dtype: int64"
      ]
     },
     "execution_count": 40,
     "metadata": {},
     "output_type": "execute_result"
    }
   ],
   "source": [
    "# Change the type of column column. \n",
    "weather.icon = weather.icon.astype('category')\n",
    "weather.icon.value_counts()"
   ]
  },
  {
   "cell_type": "code",
   "execution_count": 41,
   "id": "fLlBQpYJMnaI",
   "metadata": {
    "colab": {
     "base_uri": "https://localhost:8080/",
     "height": 423
    },
    "id": "fLlBQpYJMnaI",
    "outputId": "87652982-d504-4620-c20d-e1776029b27c"
   },
   "outputs": [
    {
     "data": {
      "text/html": [
       "<div>\n",
       "<style scoped>\n",
       "    .dataframe tbody tr th:only-of-type {\n",
       "        vertical-align: middle;\n",
       "    }\n",
       "\n",
       "    .dataframe tbody tr th {\n",
       "        vertical-align: top;\n",
       "    }\n",
       "\n",
       "    .dataframe thead th {\n",
       "        text-align: right;\n",
       "    }\n",
       "</style>\n",
       "<table border=\"1\" class=\"dataframe\">\n",
       "  <thead>\n",
       "    <tr style=\"text-align: right;\">\n",
       "      <th></th>\n",
       "      <th>tempmax</th>\n",
       "      <th>tempmin</th>\n",
       "      <th>temp</th>\n",
       "      <th>feelslikemax</th>\n",
       "      <th>feelslikemin</th>\n",
       "      <th>feelslike</th>\n",
       "      <th>dew</th>\n",
       "      <th>humidity</th>\n",
       "      <th>precip</th>\n",
       "      <th>precipcover</th>\n",
       "      <th>snow</th>\n",
       "      <th>snowdepth</th>\n",
       "      <th>windgust</th>\n",
       "      <th>windspeed</th>\n",
       "      <th>winddir</th>\n",
       "      <th>sealevelpressure</th>\n",
       "      <th>cloudcover</th>\n",
       "      <th>visibility</th>\n",
       "      <th>icon</th>\n",
       "    </tr>\n",
       "    <tr>\n",
       "      <th>date</th>\n",
       "      <th></th>\n",
       "      <th></th>\n",
       "      <th></th>\n",
       "      <th></th>\n",
       "      <th></th>\n",
       "      <th></th>\n",
       "      <th></th>\n",
       "      <th></th>\n",
       "      <th></th>\n",
       "      <th></th>\n",
       "      <th></th>\n",
       "      <th></th>\n",
       "      <th></th>\n",
       "      <th></th>\n",
       "      <th></th>\n",
       "      <th></th>\n",
       "      <th></th>\n",
       "      <th></th>\n",
       "      <th></th>\n",
       "    </tr>\n",
       "  </thead>\n",
       "  <tbody>\n",
       "    <tr>\n",
       "      <th>2022-03-22</th>\n",
       "      <td>7.3</td>\n",
       "      <td>-1.5</td>\n",
       "      <td>2.0</td>\n",
       "      <td>6.5</td>\n",
       "      <td>-5.6</td>\n",
       "      <td>-0.6</td>\n",
       "      <td>-5.2</td>\n",
       "      <td>60.7</td>\n",
       "      <td>0.0</td>\n",
       "      <td>NaN</td>\n",
       "      <td>0.0</td>\n",
       "      <td>0.1</td>\n",
       "      <td>27.0</td>\n",
       "      <td>11.9</td>\n",
       "      <td>60.3</td>\n",
       "      <td>1027.0</td>\n",
       "      <td>21.6</td>\n",
       "      <td>24.1</td>\n",
       "      <td>partly-cloudy-day</td>\n",
       "    </tr>\n",
       "    <tr>\n",
       "      <th>2022-03-21</th>\n",
       "      <td>2.8</td>\n",
       "      <td>-0.1</td>\n",
       "      <td>1.0</td>\n",
       "      <td>-1.8</td>\n",
       "      <td>-4.3</td>\n",
       "      <td>-3.4</td>\n",
       "      <td>-4.1</td>\n",
       "      <td>68.9</td>\n",
       "      <td>0.5</td>\n",
       "      <td>NaN</td>\n",
       "      <td>0.0</td>\n",
       "      <td>0.2</td>\n",
       "      <td>35.0</td>\n",
       "      <td>20.2</td>\n",
       "      <td>51.7</td>\n",
       "      <td>1030.6</td>\n",
       "      <td>96.9</td>\n",
       "      <td>21.2</td>\n",
       "      <td>cloudy</td>\n",
       "    </tr>\n",
       "    <tr>\n",
       "      <th>2022-03-20</th>\n",
       "      <td>16.3</td>\n",
       "      <td>0.4</td>\n",
       "      <td>6.0</td>\n",
       "      <td>16.3</td>\n",
       "      <td>-4.0</td>\n",
       "      <td>2.9</td>\n",
       "      <td>3.8</td>\n",
       "      <td>86.1</td>\n",
       "      <td>12.9</td>\n",
       "      <td>NaN</td>\n",
       "      <td>0.4</td>\n",
       "      <td>0.1</td>\n",
       "      <td>52.0</td>\n",
       "      <td>25.2</td>\n",
       "      <td>92.7</td>\n",
       "      <td>1020.0</td>\n",
       "      <td>100.0</td>\n",
       "      <td>16.7</td>\n",
       "      <td>snow</td>\n",
       "    </tr>\n",
       "    <tr>\n",
       "      <th>2022-03-19</th>\n",
       "      <td>21.9</td>\n",
       "      <td>8.2</td>\n",
       "      <td>16.2</td>\n",
       "      <td>21.9</td>\n",
       "      <td>6.9</td>\n",
       "      <td>16.1</td>\n",
       "      <td>10.8</td>\n",
       "      <td>71.5</td>\n",
       "      <td>0.0</td>\n",
       "      <td>NaN</td>\n",
       "      <td>0.0</td>\n",
       "      <td>0.0</td>\n",
       "      <td>58.7</td>\n",
       "      <td>19.8</td>\n",
       "      <td>215.6</td>\n",
       "      <td>1015.8</td>\n",
       "      <td>100.0</td>\n",
       "      <td>24.1</td>\n",
       "      <td>rain</td>\n",
       "    </tr>\n",
       "    <tr>\n",
       "      <th>2022-03-18</th>\n",
       "      <td>15.4</td>\n",
       "      <td>7.0</td>\n",
       "      <td>9.6</td>\n",
       "      <td>15.4</td>\n",
       "      <td>5.2</td>\n",
       "      <td>8.9</td>\n",
       "      <td>6.0</td>\n",
       "      <td>79.0</td>\n",
       "      <td>0.0</td>\n",
       "      <td>NaN</td>\n",
       "      <td>0.0</td>\n",
       "      <td>0.0</td>\n",
       "      <td>19.1</td>\n",
       "      <td>14.4</td>\n",
       "      <td>125.2</td>\n",
       "      <td>1021.1</td>\n",
       "      <td>74.2</td>\n",
       "      <td>24.1</td>\n",
       "      <td>partly-cloudy-day</td>\n",
       "    </tr>\n",
       "  </tbody>\n",
       "</table>\n",
       "</div>"
      ],
      "text/plain": [
       "            tempmax  tempmin  temp  feelslikemax  feelslikemin  feelslike  \\\n",
       "date                                                                        \n",
       "2022-03-22      7.3     -1.5   2.0           6.5          -5.6       -0.6   \n",
       "2022-03-21      2.8     -0.1   1.0          -1.8          -4.3       -3.4   \n",
       "2022-03-20     16.3      0.4   6.0          16.3          -4.0        2.9   \n",
       "2022-03-19     21.9      8.2  16.2          21.9           6.9       16.1   \n",
       "2022-03-18     15.4      7.0   9.6          15.4           5.2        8.9   \n",
       "\n",
       "             dew  humidity  precip  precipcover  snow  snowdepth  windgust  \\\n",
       "date                                                                         \n",
       "2022-03-22  -5.2      60.7     0.0          NaN   0.0        0.1      27.0   \n",
       "2022-03-21  -4.1      68.9     0.5          NaN   0.0        0.2      35.0   \n",
       "2022-03-20   3.8      86.1    12.9          NaN   0.4        0.1      52.0   \n",
       "2022-03-19  10.8      71.5     0.0          NaN   0.0        0.0      58.7   \n",
       "2022-03-18   6.0      79.0     0.0          NaN   0.0        0.0      19.1   \n",
       "\n",
       "            windspeed  winddir  sealevelpressure  cloudcover  visibility  \\\n",
       "date                                                                       \n",
       "2022-03-22       11.9     60.3            1027.0        21.6        24.1   \n",
       "2022-03-21       20.2     51.7            1030.6        96.9        21.2   \n",
       "2022-03-20       25.2     92.7            1020.0       100.0        16.7   \n",
       "2022-03-19       19.8    215.6            1015.8       100.0        24.1   \n",
       "2022-03-18       14.4    125.2            1021.1        74.2        24.1   \n",
       "\n",
       "                         icon  \n",
       "date                           \n",
       "2022-03-22  partly-cloudy-day  \n",
       "2022-03-21             cloudy  \n",
       "2022-03-20               snow  \n",
       "2022-03-19               rain  \n",
       "2022-03-18  partly-cloudy-day  "
      ]
     },
     "execution_count": 41,
     "metadata": {},
     "output_type": "execute_result"
    }
   ],
   "source": [
    "# Check df\n",
    "weather.head()"
   ]
  },
  {
   "cell_type": "code",
   "execution_count": 42,
   "id": "-JI3-TwcOOlK",
   "metadata": {
    "id": "-JI3-TwcOOlK"
   },
   "outputs": [],
   "source": [
    "# Make a list of the days that should be deleted\n",
    "from datetime import date, datetime, timedelta\n",
    "\n",
    "def perdelta(start, end, delta):\n",
    "    curr = start\n",
    "    while curr < end:\n",
    "        yield curr\n",
    "        curr += delta\n",
    "delete_day = []\n",
    "for result in perdelta(date(2022, 3, 1), date(2022, 3, 23), timedelta(days=1)):\n",
    "  delete_day.append(result)"
   ]
  },
  {
   "cell_type": "code",
   "execution_count": 43,
   "id": "RTPEXyh8PNCx",
   "metadata": {
    "id": "RTPEXyh8PNCx"
   },
   "outputs": [],
   "source": [
    "# Delete the listed rows \n",
    "weather = weather.drop(delete_day)"
   ]
  },
  {
   "cell_type": "code",
   "execution_count": 44,
   "id": "b1JwfjtePzbM",
   "metadata": {
    "colab": {
     "base_uri": "https://localhost:8080/"
    },
    "id": "b1JwfjtePzbM",
    "outputId": "60c9b494-f410-4d55-9c69-e157d93defd3"
   },
   "outputs": [
    {
     "name": "stdout",
     "output_type": "stream",
     "text": [
      "Air quality index length: 2922\n",
      "Weather index length: 2981\n",
      "\n",
      "# of duplicates: 0\n",
      "\n",
      "Air quality max and min: 2021-12-31 00:00:00 2014-01-01 00:00:00\n",
      "Weather max and min: 2022-02-28 00:00:00 2014-01-01 00:00:00\n"
     ]
    }
   ],
   "source": [
    "# Check date range is similar for two data sets\n",
    "print('Air quality index length:', len(air_quality_2))\n",
    "print('Weather index length:', len(weather))\n",
    "print('')\n",
    "#Check duplicates\n",
    "print('# of duplicates:', pd.Index(weather).duplicated().sum())\n",
    "# pd.Index(air_quality_2).duplicated().sum() ## DOESN'T WORK\n",
    "print('')\n",
    "#Check max and min\n",
    "print('Air quality max and min:' , air_quality_2.index.max(), air_quality_2.index.min())\n",
    "print('Weather max and min:' , weather.index.max(), weather.index.min())"
   ]
  },
  {
   "cell_type": "code",
   "execution_count": 45,
   "id": "sg6rv6U4UmlN",
   "metadata": {
    "colab": {
     "base_uri": "https://localhost:8080/"
    },
    "id": "sg6rv6U4UmlN",
    "outputId": "03097da7-17fd-4153-db70-b2dbcd1974a7"
   },
   "outputs": [
    {
     "data": {
      "text/plain": [
       "tempmax               0\n",
       "tempmin               0\n",
       "temp                  0\n",
       "feelslikemax          0\n",
       "feelslikemin          0\n",
       "feelslike             0\n",
       "dew                   0\n",
       "humidity              0\n",
       "precip                0\n",
       "precipcover          50\n",
       "snow                730\n",
       "snowdepth           730\n",
       "windgust            402\n",
       "windspeed             0\n",
       "winddir               0\n",
       "sealevelpressure      0\n",
       "cloudcover            0\n",
       "visibility            0\n",
       "icon                  0\n",
       "dtype: int64"
      ]
     },
     "execution_count": 45,
     "metadata": {},
     "output_type": "execute_result"
    }
   ],
   "source": [
    "# Check NaNs\n",
    "weather.isna().sum()"
   ]
  },
  {
   "cell_type": "code",
   "execution_count": 46,
   "id": "wXHz8FTLO6YX",
   "metadata": {
    "id": "wXHz8FTLO6YX"
   },
   "outputs": [],
   "source": [
    "# Fill NaNs\n",
    "weather.precipcover.interpolate(method='linear', inplace=True)\n",
    "weather.snow.interpolate(method='linear', inplace=True)\n",
    "weather.snowdepth.interpolate(method='linear', inplace=True)\n",
    "weather.windgust.interpolate(method='linear', inplace=True)"
   ]
  },
  {
   "cell_type": "code",
   "execution_count": 47,
   "id": "Xp4f0byPRnSt",
   "metadata": {
    "id": "Xp4f0byPRnSt"
   },
   "outputs": [],
   "source": [
    "# As in air quality, I have to drop first two months of 2022.\n",
    "weather=weather.loc[:'2021-12-31']"
   ]
  },
  {
   "cell_type": "code",
   "execution_count": 50,
   "id": "aPRTcNDGSJDd",
   "metadata": {
    "colab": {
     "base_uri": "https://localhost:8080/",
     "height": 17
    },
    "id": "aPRTcNDGSJDd",
    "outputId": "4a8edf12-df93-4840-895d-452ad7ab7d38"
   },
   "outputs": [],
   "source": [
    "# Save the dataframe as csv\n",
    "\n",
    "weather.to_csv('/Users/handedede/Downloads/weather.csv', index=False,  encoding = 'utf-8-sig')\n"
   ]
  },
  {
   "cell_type": "markdown",
   "id": "b4064e43",
   "metadata": {
    "id": "b4064e43"
   },
   "source": [
    "### **2.2.3 Energy Consumption**"
   ]
  },
  {
   "cell_type": "markdown",
   "id": "V1QKb5UbX-YX",
   "metadata": {
    "id": "V1QKb5UbX-YX"
   },
   "source": [
    "There are two monthly and state level consumption data. \n",
    "1. The Natural Gas Delivered to Consumers in Massachusetts (Including Vehicle Fuel) (Million Cubic Feet)\n",
    "2. Massachusetts Total Gasoline All Sales per Deliveries by Prime_Supplier"
   ]
  },
  {
   "cell_type": "code",
   "execution_count": 51,
   "id": "8a67244f",
   "metadata": {
    "id": "8a67244f"
   },
   "outputs": [],
   "source": [
    "# Load datasets. \n",
    "url_3= 'https://github.com/hangulde/Air_Quality_Prediction_of_Boston-/raw/main/data/dataset_data_wrangling/Natural_Gas_Delivered_to_Consumers_in_Massachusetts_(Including_Vehicle_Fuel).csv'\n",
    "nat_gas_cons=pd.read_csv(url_3)\n",
    "url_4 = 'https://github.com/hangulde/Air_Quality_Prediction_of_Boston-/raw/main/data/dataset_data_wrangling/Massachusetts_Total_Gasoline_All_Sales_per_Deliveries_by_Prime_Supplier.csv'\n",
    "gas_sales=pd.read_csv(url_4)"
   ]
  },
  {
   "cell_type": "code",
   "execution_count": 52,
   "id": "8qdTD7VhXIU_",
   "metadata": {
    "colab": {
     "base_uri": "https://localhost:8080/"
    },
    "id": "8qdTD7VhXIU_",
    "outputId": "d77afa17-2544-49d4-96b3-4170eecced08"
   },
   "outputs": [
    {
     "name": "stdout",
     "output_type": "stream",
     "text": [
      "<class 'pandas.core.frame.DataFrame'>\n",
      "RangeIndex: 252 entries, 0 to 251\n",
      "Data columns (total 2 columns):\n",
      " #   Column  Non-Null Count  Dtype \n",
      "---  ------  --------------  ----- \n",
      " 0   Date    252 non-null    object\n",
      " 1    Total  252 non-null    int64 \n",
      "dtypes: int64(1), object(1)\n",
      "memory usage: 4.1+ KB\n"
     ]
    }
   ],
   "source": [
    "# Check the types of columns\n",
    "nat_gas_cons.info() # Convert the type of date column"
   ]
  },
  {
   "cell_type": "code",
   "execution_count": 53,
   "id": "2d0d1758",
   "metadata": {
    "colab": {
     "base_uri": "https://localhost:8080/"
    },
    "id": "2d0d1758",
    "outputId": "74afbf23-d4b7-4f64-d941-6ccf2f4c9195"
   },
   "outputs": [
    {
     "name": "stdout",
     "output_type": "stream",
     "text": [
      "<class 'pandas.core.frame.DataFrame'>\n",
      "RangeIndex: 468 entries, 0 to 467\n",
      "Data columns (total 2 columns):\n",
      " #   Column  Non-Null Count  Dtype  \n",
      "---  ------  --------------  -----  \n",
      " 0   Date    468 non-null    object \n",
      " 1    Total  468 non-null    float64\n",
      "dtypes: float64(1), object(1)\n",
      "memory usage: 7.4+ KB\n"
     ]
    }
   ],
   "source": [
    "# Check the types of columns\n",
    "gas_sales.info()\n",
    "#There are more rows in gas_sales.Delete rows."
   ]
  },
  {
   "cell_type": "code",
   "execution_count": 54,
   "id": "flMLwzSyY-Ml",
   "metadata": {
    "colab": {
     "base_uri": "https://localhost:8080/",
     "height": 206
    },
    "id": "flMLwzSyY-Ml",
    "outputId": "25277539-1366-4b6f-9f9a-a435a633fe81"
   },
   "outputs": [
    {
     "data": {
      "text/html": [
       "<div>\n",
       "<style scoped>\n",
       "    .dataframe tbody tr th:only-of-type {\n",
       "        vertical-align: middle;\n",
       "    }\n",
       "\n",
       "    .dataframe tbody tr th {\n",
       "        vertical-align: top;\n",
       "    }\n",
       "\n",
       "    .dataframe thead th {\n",
       "        text-align: right;\n",
       "    }\n",
       "</style>\n",
       "<table border=\"1\" class=\"dataframe\">\n",
       "  <thead>\n",
       "    <tr style=\"text-align: right;\">\n",
       "      <th></th>\n",
       "      <th>Date</th>\n",
       "      <th>Total</th>\n",
       "    </tr>\n",
       "  </thead>\n",
       "  <tbody>\n",
       "    <tr>\n",
       "      <th>91</th>\n",
       "      <td>May 2014</td>\n",
       "      <td>6306.7</td>\n",
       "    </tr>\n",
       "    <tr>\n",
       "      <th>92</th>\n",
       "      <td>Apr 2014</td>\n",
       "      <td>6054.7</td>\n",
       "    </tr>\n",
       "    <tr>\n",
       "      <th>93</th>\n",
       "      <td>Mar 2014</td>\n",
       "      <td>5842.3</td>\n",
       "    </tr>\n",
       "    <tr>\n",
       "      <th>94</th>\n",
       "      <td>Feb 2014</td>\n",
       "      <td>5837.5</td>\n",
       "    </tr>\n",
       "    <tr>\n",
       "      <th>95</th>\n",
       "      <td>Jan 2014</td>\n",
       "      <td>5561.6</td>\n",
       "    </tr>\n",
       "  </tbody>\n",
       "</table>\n",
       "</div>"
      ],
      "text/plain": [
       "        Date   Total\n",
       "91  May 2014  6306.7\n",
       "92  Apr 2014  6054.7\n",
       "93  Mar 2014  5842.3\n",
       "94  Feb 2014  5837.5\n",
       "95  Jan 2014  5561.6"
      ]
     },
     "execution_count": 54,
     "metadata": {},
     "output_type": "execute_result"
    }
   ],
   "source": [
    "# Choose the date after January 2014\n",
    "gas_sales = gas_sales[:96]\n",
    "gas_sales.tail()"
   ]
  },
  {
   "cell_type": "code",
   "execution_count": 55,
   "id": "HhP5Z40PY7Rj",
   "metadata": {
    "colab": {
     "base_uri": "https://localhost:8080/",
     "height": 206
    },
    "id": "HhP5Z40PY7Rj",
    "outputId": "e9e7b649-0545-4fae-cd3f-c814be8a59f8"
   },
   "outputs": [
    {
     "data": {
      "text/html": [
       "<div>\n",
       "<style scoped>\n",
       "    .dataframe tbody tr th:only-of-type {\n",
       "        vertical-align: middle;\n",
       "    }\n",
       "\n",
       "    .dataframe tbody tr th {\n",
       "        vertical-align: top;\n",
       "    }\n",
       "\n",
       "    .dataframe thead th {\n",
       "        text-align: right;\n",
       "    }\n",
       "</style>\n",
       "<table border=\"1\" class=\"dataframe\">\n",
       "  <thead>\n",
       "    <tr style=\"text-align: right;\">\n",
       "      <th></th>\n",
       "      <th>Date</th>\n",
       "      <th>Total</th>\n",
       "    </tr>\n",
       "  </thead>\n",
       "  <tbody>\n",
       "    <tr>\n",
       "      <th>91</th>\n",
       "      <td>May 2014</td>\n",
       "      <td>27292</td>\n",
       "    </tr>\n",
       "    <tr>\n",
       "      <th>92</th>\n",
       "      <td>Apr 2014</td>\n",
       "      <td>38084</td>\n",
       "    </tr>\n",
       "    <tr>\n",
       "      <th>93</th>\n",
       "      <td>Mar 2014</td>\n",
       "      <td>44694</td>\n",
       "    </tr>\n",
       "    <tr>\n",
       "      <th>94</th>\n",
       "      <td>Feb 2014</td>\n",
       "      <td>47769</td>\n",
       "    </tr>\n",
       "    <tr>\n",
       "      <th>95</th>\n",
       "      <td>Jan 2014</td>\n",
       "      <td>53771</td>\n",
       "    </tr>\n",
       "  </tbody>\n",
       "</table>\n",
       "</div>"
      ],
      "text/plain": [
       "        Date   Total\n",
       "91  May 2014   27292\n",
       "92  Apr 2014   38084\n",
       "93  Mar 2014   44694\n",
       "94  Feb 2014   47769\n",
       "95  Jan 2014   53771"
      ]
     },
     "execution_count": 55,
     "metadata": {},
     "output_type": "execute_result"
    }
   ],
   "source": [
    "# Choose the date after January 2014\n",
    "nat_gas_cons = nat_gas_cons[:96]\n",
    "nat_gas_cons.tail()"
   ]
  },
  {
   "cell_type": "code",
   "execution_count": 56,
   "id": "mjngx31SbJAS",
   "metadata": {
    "id": "mjngx31SbJAS"
   },
   "outputs": [],
   "source": [
    "# Rename total columns for both\n",
    "nat_gas_cons = nat_gas_cons.rename(columns = {' Total':'natural_gas', 'Date':'date' })\n",
    "gas_sales = gas_sales.rename(columns = {' Total':'gasoline_sales', 'Date':'date' })"
   ]
  },
  {
   "cell_type": "code",
   "execution_count": 57,
   "id": "TyyzWnwPZ9mp",
   "metadata": {
    "colab": {
     "base_uri": "https://localhost:8080/",
     "height": 206
    },
    "id": "TyyzWnwPZ9mp",
    "outputId": "138a76fe-c4a4-44b7-d724-ff51c6f3c774"
   },
   "outputs": [
    {
     "data": {
      "text/html": [
       "<div>\n",
       "<style scoped>\n",
       "    .dataframe tbody tr th:only-of-type {\n",
       "        vertical-align: middle;\n",
       "    }\n",
       "\n",
       "    .dataframe tbody tr th {\n",
       "        vertical-align: top;\n",
       "    }\n",
       "\n",
       "    .dataframe thead th {\n",
       "        text-align: right;\n",
       "    }\n",
       "</style>\n",
       "<table border=\"1\" class=\"dataframe\">\n",
       "  <thead>\n",
       "    <tr style=\"text-align: right;\">\n",
       "      <th></th>\n",
       "      <th>date</th>\n",
       "      <th>natural_gas</th>\n",
       "      <th>gasoline_sales</th>\n",
       "    </tr>\n",
       "  </thead>\n",
       "  <tbody>\n",
       "    <tr>\n",
       "      <th>0</th>\n",
       "      <td>Dec 2021</td>\n",
       "      <td>43172</td>\n",
       "      <td>5828.2</td>\n",
       "    </tr>\n",
       "    <tr>\n",
       "      <th>1</th>\n",
       "      <td>Nov 2021</td>\n",
       "      <td>31786</td>\n",
       "      <td>5942.2</td>\n",
       "    </tr>\n",
       "    <tr>\n",
       "      <th>2</th>\n",
       "      <td>Oct 2021</td>\n",
       "      <td>21723</td>\n",
       "      <td>6085.1</td>\n",
       "    </tr>\n",
       "    <tr>\n",
       "      <th>3</th>\n",
       "      <td>Sep 2021</td>\n",
       "      <td>17929</td>\n",
       "      <td>6033.1</td>\n",
       "    </tr>\n",
       "    <tr>\n",
       "      <th>4</th>\n",
       "      <td>Aug 2021</td>\n",
       "      <td>22065</td>\n",
       "      <td>6086.5</td>\n",
       "    </tr>\n",
       "  </tbody>\n",
       "</table>\n",
       "</div>"
      ],
      "text/plain": [
       "       date  natural_gas  gasoline_sales\n",
       "0  Dec 2021        43172          5828.2\n",
       "1  Nov 2021        31786          5942.2\n",
       "2  Oct 2021        21723          6085.1\n",
       "3  Sep 2021        17929          6033.1\n",
       "4  Aug 2021        22065          6086.5"
      ]
     },
     "execution_count": 57,
     "metadata": {},
     "output_type": "execute_result"
    }
   ],
   "source": [
    "# Merge two datasets\n",
    "energy = nat_gas_cons.merge(gas_sales, on='date', how='inner')\n",
    "energy.head()"
   ]
  },
  {
   "cell_type": "code",
   "execution_count": 58,
   "id": "hv5qDfdyeUzM",
   "metadata": {
    "id": "hv5qDfdyeUzM"
   },
   "outputs": [],
   "source": [
    "# Split date column\n",
    "new = energy[\"date\"].str.split(\" \", n = 1, expand = True)\n",
    "  \n",
    "# Making separate first name column from new data frame\n",
    "energy[\"month\"]= new[0]\n",
    "  \n",
    "# Making separate last name column from new data frame\n",
    "energy[\"year\"]= new[1]\n",
    "  "
   ]
  },
  {
   "cell_type": "code",
   "execution_count": 59,
   "id": "I9zm41Cbgsgd",
   "metadata": {
    "id": "I9zm41Cbgsgd"
   },
   "outputs": [],
   "source": [
    "# Drop old date columsn\n",
    "energy.drop(columns =[\"date\"], inplace = True)"
   ]
  },
  {
   "cell_type": "code",
   "execution_count": 60,
   "id": "1gqm2fatgy7k",
   "metadata": {
    "id": "1gqm2fatgy7k"
   },
   "outputs": [],
   "source": [
    "# Change month column as number\n",
    "d = {'Jan':1, 'Feb':2, 'Mar':3, 'Apr':4, 'May': 5, 'Jun':6, 'Jul':7, 'Aug':8, 'Sep':9, 'Oct':10, 'Nov':11, 'Dec':12 }\n",
    "\n",
    "energy.month = energy.month.map(d)"
   ]
  },
  {
   "cell_type": "code",
   "execution_count": 61,
   "id": "hXMyQRwkkvst",
   "metadata": {
    "id": "hXMyQRwkkvst"
   },
   "outputs": [],
   "source": [
    "# Change the type of month\n",
    "energy.month = energy.month.astype(str) # To add year (str) convert string"
   ]
  },
  {
   "cell_type": "code",
   "execution_count": 62,
   "id": "7QRF4gpbjADn",
   "metadata": {
    "id": "7QRF4gpbjADn"
   },
   "outputs": [],
   "source": [
    "# Create date column\n",
    "energy['date'] = energy['year'] +' ' + energy['month']"
   ]
  },
  {
   "cell_type": "code",
   "execution_count": 63,
   "id": "jW4hnLYelaVZ",
   "metadata": {
    "id": "jW4hnLYelaVZ"
   },
   "outputs": [],
   "source": [
    "# Change the type of date column\n",
    "energy.date = pd.to_datetime(energy.date, format=\"%Y-%m\")\n",
    "#convert date column to datetime"
   ]
  },
  {
   "cell_type": "code",
   "execution_count": 64,
   "id": "g-Dt3gtBmIAU",
   "metadata": {
    "id": "g-Dt3gtBmIAU"
   },
   "outputs": [],
   "source": [
    "# Drop month and year column\n",
    "energy = energy.drop(['month', 'year'], axis=1)"
   ]
  },
  {
   "cell_type": "code",
   "execution_count": 65,
   "id": "7yWyD0DZl69K",
   "metadata": {
    "colab": {
     "base_uri": "https://localhost:8080/"
    },
    "id": "7yWyD0DZl69K",
    "outputId": "a7912131-340d-4254-a10f-a4b962da6ea3"
   },
   "outputs": [
    {
     "name": "stdout",
     "output_type": "stream",
     "text": [
      "<class 'pandas.core.frame.DataFrame'>\n",
      "Int64Index: 96 entries, 0 to 95\n",
      "Data columns (total 3 columns):\n",
      " #   Column          Non-Null Count  Dtype         \n",
      "---  ------          --------------  -----         \n",
      " 0   natural_gas     96 non-null     int64         \n",
      " 1   gasoline_sales  96 non-null     float64       \n",
      " 2   date            96 non-null     datetime64[ns]\n",
      "dtypes: datetime64[ns](1), float64(1), int64(1)\n",
      "memory usage: 3.0 KB\n"
     ]
    }
   ],
   "source": [
    "# Check NaNs\n",
    "energy.info()\n",
    "#No NaNs"
   ]
  },
  {
   "cell_type": "code",
   "execution_count": 67,
   "id": "DMlKQWZtJ4gQ",
   "metadata": {
    "colab": {
     "base_uri": "https://localhost:8080/",
     "height": 17
    },
    "id": "DMlKQWZtJ4gQ",
    "outputId": "e05d6bd3-2d1e-4119-bddd-8ea189ac36aa"
   },
   "outputs": [],
   "source": [
    "# Save the clean version\n",
    "energy.to_csv('/Users/handedede/Downloads/energy_eda.csv', index=False,  encoding = 'utf-8-sig')\n"
   ]
  },
  {
   "cell_type": "markdown",
   "id": "pEYMszh6vXqJ",
   "metadata": {
    "id": "pEYMszh6vXqJ"
   },
   "source": [
    "### **2.2.4 Flight Number of Boston**"
   ]
  },
  {
   "cell_type": "markdown",
   "id": "GO2JnwStw3H0",
   "metadata": {
    "id": "GO2JnwStw3H0"
   },
   "source": [
    "This dataset contains of Logan Airport's (Boston) number of  total airport flight operations. Monthly data is gathered from [here](https://www.massport.com/logan-airport/about-logan/airport-statistics/). "
   ]
  },
  {
   "cell_type": "code",
   "execution_count": 68,
   "id": "tSe8kL7nvcCZ",
   "metadata": {
    "id": "tSe8kL7nvcCZ"
   },
   "outputs": [],
   "source": [
    "# load data\n",
    "url_f ='https://github.com/hangulde/Air_Quality_Prediction_of_Boston-/raw/main/data/dataset_data_wrangling/Boston%20Flights%20-%20Sheet1.csv'\n",
    "flight = pd.read_csv(url_f)"
   ]
  },
  {
   "cell_type": "code",
   "execution_count": 69,
   "id": "Mx83F_USvlmG",
   "metadata": {
    "colab": {
     "base_uri": "https://localhost:8080/",
     "height": 206
    },
    "id": "Mx83F_USvlmG",
    "outputId": "8e41e03f-cc6e-488f-e8a0-271d769e3594"
   },
   "outputs": [
    {
     "data": {
      "text/html": [
       "<div>\n",
       "<style scoped>\n",
       "    .dataframe tbody tr th:only-of-type {\n",
       "        vertical-align: middle;\n",
       "    }\n",
       "\n",
       "    .dataframe tbody tr th {\n",
       "        vertical-align: top;\n",
       "    }\n",
       "\n",
       "    .dataframe thead th {\n",
       "        text-align: right;\n",
       "    }\n",
       "</style>\n",
       "<table border=\"1\" class=\"dataframe\">\n",
       "  <thead>\n",
       "    <tr style=\"text-align: right;\">\n",
       "      <th></th>\n",
       "      <th>date</th>\n",
       "      <th>Unnamed: 1</th>\n",
       "    </tr>\n",
       "  </thead>\n",
       "  <tbody>\n",
       "    <tr>\n",
       "      <th>0</th>\n",
       "      <td>02-01-2022</td>\n",
       "      <td>NaN</td>\n",
       "    </tr>\n",
       "    <tr>\n",
       "      <th>1</th>\n",
       "      <td>01-01-2022</td>\n",
       "      <td>24095.0</td>\n",
       "    </tr>\n",
       "    <tr>\n",
       "      <th>2</th>\n",
       "      <td>12-01-2021</td>\n",
       "      <td>27285.0</td>\n",
       "    </tr>\n",
       "    <tr>\n",
       "      <th>3</th>\n",
       "      <td>11-01-2021</td>\n",
       "      <td>28315.0</td>\n",
       "    </tr>\n",
       "    <tr>\n",
       "      <th>4</th>\n",
       "      <td>10-01-2021</td>\n",
       "      <td>28780.0</td>\n",
       "    </tr>\n",
       "  </tbody>\n",
       "</table>\n",
       "</div>"
      ],
      "text/plain": [
       "         date  Unnamed: 1\n",
       "0  02-01-2022         NaN\n",
       "1  01-01-2022     24095.0\n",
       "2  12-01-2021     27285.0\n",
       "3  11-01-2021     28315.0\n",
       "4  10-01-2021     28780.0"
      ]
     },
     "execution_count": 69,
     "metadata": {},
     "output_type": "execute_result"
    }
   ],
   "source": [
    "# Look over data\n",
    "flight.head()"
   ]
  },
  {
   "cell_type": "code",
   "execution_count": 70,
   "id": "_RPvfcRExsD1",
   "metadata": {
    "id": "_RPvfcRExsD1"
   },
   "outputs": [],
   "source": [
    "# Rename columns\n",
    "flight.rename( columns={'Unnamed: 1':'flight_number'}, inplace=True )"
   ]
  },
  {
   "cell_type": "code",
   "execution_count": 71,
   "id": "V8H1TKMLx2Bl",
   "metadata": {
    "colab": {
     "base_uri": "https://localhost:8080/"
    },
    "id": "V8H1TKMLx2Bl",
    "outputId": "f36184fa-953c-4745-a5b2-15bce3b7a72c"
   },
   "outputs": [
    {
     "name": "stdout",
     "output_type": "stream",
     "text": [
      "<class 'pandas.core.frame.DataFrame'>\n",
      "RangeIndex: 98 entries, 0 to 97\n",
      "Data columns (total 2 columns):\n",
      " #   Column         Non-Null Count  Dtype  \n",
      "---  ------         --------------  -----  \n",
      " 0   date           98 non-null     object \n",
      " 1   flight_number  97 non-null     float64\n",
      "dtypes: float64(1), object(1)\n",
      "memory usage: 1.7+ KB\n"
     ]
    }
   ],
   "source": [
    "# Types of columns\n",
    "flight.info()"
   ]
  },
  {
   "cell_type": "code",
   "execution_count": 72,
   "id": "E9QnSVPNyu90",
   "metadata": {
    "id": "E9QnSVPNyu90"
   },
   "outputs": [],
   "source": [
    "# Drop 2022 data\n",
    "flight = flight[2:]"
   ]
  },
  {
   "cell_type": "code",
   "execution_count": 73,
   "id": "vilOZAOgySk3",
   "metadata": {
    "colab": {
     "base_uri": "https://localhost:8080/"
    },
    "id": "vilOZAOgySk3",
    "outputId": "336f57c3-dfda-486b-bf7d-64533b006b98"
   },
   "outputs": [],
   "source": [
    "# Convert object to datetime\n",
    "flight.date= pd.to_datetime(flight.date)"
   ]
  },
  {
   "cell_type": "code",
   "execution_count": 74,
   "id": "wPQOi4SKy5cm",
   "metadata": {
    "colab": {
     "base_uri": "https://localhost:8080/"
    },
    "id": "wPQOi4SKy5cm",
    "outputId": "4724a38d-4622-4fb6-f48f-0064dc84236f"
   },
   "outputs": [
    {
     "name": "stdout",
     "output_type": "stream",
     "text": [
      "<class 'pandas.core.frame.DataFrame'>\n",
      "RangeIndex: 96 entries, 2 to 97\n",
      "Data columns (total 2 columns):\n",
      " #   Column         Non-Null Count  Dtype         \n",
      "---  ------         --------------  -----         \n",
      " 0   date           96 non-null     datetime64[ns]\n",
      " 1   flight_number  96 non-null     float64       \n",
      "dtypes: datetime64[ns](1), float64(1)\n",
      "memory usage: 1.6 KB\n"
     ]
    }
   ],
   "source": [
    "# Check types again.\n",
    "flight.info()"
   ]
  },
  {
   "cell_type": "code",
   "execution_count": 75,
   "id": "EWExDSymzJKW",
   "metadata": {
    "colab": {
     "base_uri": "https://localhost:8080/",
     "height": 408
    },
    "id": "EWExDSymzJKW",
    "outputId": "bc22d07a-c353-4b54-f148-37ee8ed9c6bb"
   },
   "outputs": [
    {
     "data": {
      "text/plain": [
       "{'whiskers': [<matplotlib.lines.Line2D at 0x11aaa3fa0>,\n",
       "  <matplotlib.lines.Line2D at 0x11ac06fa0>],\n",
       " 'caps': [<matplotlib.lines.Line2D at 0x11ac06280>,\n",
       "  <matplotlib.lines.Line2D at 0x11af02d60>],\n",
       " 'boxes': [<matplotlib.lines.Line2D at 0x10c0dda90>],\n",
       " 'medians': [<matplotlib.lines.Line2D at 0x11af02bb0>],\n",
       " 'fliers': [<matplotlib.lines.Line2D at 0x11af02070>],\n",
       " 'means': []}"
      ]
     },
     "execution_count": 75,
     "metadata": {},
     "output_type": "execute_result"
    },
    {
     "data": {
      "image/png": "[encoded data removed]",
      "text/plain": [
       "<Figure size 432x288 with 1 Axes>"
      ]
     },
     "metadata": {
      "needs_background": "light"
     },
     "output_type": "display_data"
    }
   ],
   "source": [
    "#  Check the outliers\n",
    "plt.boxplot(x=flight.flight_number)\n",
    "# These outliers from covid restrictions time"
   ]
  },
  {
   "cell_type": "code",
   "execution_count": 78,
   "id": "xUjLHDgtVEp4",
   "metadata": {
    "colab": {
     "base_uri": "https://localhost:8080/",
     "height": 17
    },
    "id": "xUjLHDgtVEp4",
    "outputId": "1892f0d2-d8e7-470d-f674-a17e67f1fabb"
   },
   "outputs": [],
   "source": [
    "# Save the clean version\n",
    "flight.to_csv('/Users/handedede/Downloads/flights_eda.csv', index=False,  encoding = 'utf-8-sig')\n"
   ]
  },
  {
   "cell_type": "markdown",
   "id": "c5f91c94",
   "metadata": {
    "id": "c5f91c94"
   },
   "source": [
    "### **2.2.5 Population of Boston**"
   ]
  },
  {
   "cell_type": "markdown",
   "id": "2R1z31nO1pZf",
   "metadata": {
    "id": "2R1z31nO1pZf"
   },
   "source": [
    "I can not use Cencus Breaus data because there is no data for 2021. The population of Boston taken from [here](https://worldpopulationreview.com/us-cities/boston-ma-population)). 2021 and 2022 data is projected. "
   ]
  },
  {
   "cell_type": "code",
   "execution_count": 79,
   "id": "8f1046b2",
   "metadata": {
    "colab": {
     "base_uri": "https://localhost:8080/",
     "height": 206
    },
    "id": "8f1046b2",
    "outputId": "a1682fa9-85de-4a94-906e-dc427374119f"
   },
   "outputs": [
    {
     "data": {
      "text/html": [
       "<div>\n",
       "<style scoped>\n",
       "    .dataframe tbody tr th:only-of-type {\n",
       "        vertical-align: middle;\n",
       "    }\n",
       "\n",
       "    .dataframe tbody tr th {\n",
       "        vertical-align: top;\n",
       "    }\n",
       "\n",
       "    .dataframe thead th {\n",
       "        text-align: right;\n",
       "    }\n",
       "</style>\n",
       "<table border=\"1\" class=\"dataframe\">\n",
       "  <thead>\n",
       "    <tr style=\"text-align: right;\">\n",
       "      <th></th>\n",
       "      <th>Year</th>\n",
       "      <th>Population</th>\n",
       "      <th>Growth</th>\n",
       "      <th>GrowthRate</th>\n",
       "    </tr>\n",
       "  </thead>\n",
       "  <tbody>\n",
       "    <tr>\n",
       "      <th>0</th>\n",
       "      <td>2022</td>\n",
       "      <td>696959</td>\n",
       "      <td>1453</td>\n",
       "      <td>0.0021</td>\n",
       "    </tr>\n",
       "    <tr>\n",
       "      <th>1</th>\n",
       "      <td>2021</td>\n",
       "      <td>695506</td>\n",
       "      <td>1453</td>\n",
       "      <td>0.0021</td>\n",
       "    </tr>\n",
       "    <tr>\n",
       "      <th>2</th>\n",
       "      <td>2020</td>\n",
       "      <td>694053</td>\n",
       "      <td>1453</td>\n",
       "      <td>0.0021</td>\n",
       "    </tr>\n",
       "    <tr>\n",
       "      <th>3</th>\n",
       "      <td>2019</td>\n",
       "      <td>692600</td>\n",
       "      <td>1453</td>\n",
       "      <td>0.0021</td>\n",
       "    </tr>\n",
       "    <tr>\n",
       "      <th>4</th>\n",
       "      <td>2018</td>\n",
       "      <td>691147</td>\n",
       "      <td>3359</td>\n",
       "      <td>0.0049</td>\n",
       "    </tr>\n",
       "  </tbody>\n",
       "</table>\n",
       "</div>"
      ],
      "text/plain": [
       "   Year  Population  Growth  GrowthRate\n",
       "0  2022      696959    1453      0.0021\n",
       "1  2021      695506    1453      0.0021\n",
       "2  2020      694053    1453      0.0021\n",
       "3  2019      692600    1453      0.0021\n",
       "4  2018      691147    3359      0.0049"
      ]
     },
     "execution_count": 79,
     "metadata": {},
     "output_type": "execute_result"
    }
   ],
   "source": [
    "# Load the data\n",
    "population = pd.read_csv('https://github.com/hangulde/Air_Quality_Prediction_of_Boston-/raw/main/data/dataset_data_wrangling/population%20of%20boston.csv')\n",
    "population.head()"
   ]
  },
  {
   "cell_type": "code",
   "execution_count": 80,
   "id": "ryzmaHMGVqkC",
   "metadata": {
    "id": "ryzmaHMGVqkC"
   },
   "outputs": [],
   "source": [
    "# Drop useless years\n",
    "population=population[(population['Year']>2013) & (population['Year']<2022)]\n"
   ]
  },
  {
   "cell_type": "code",
   "execution_count": 81,
   "id": "hFnCMKtwWQSx",
   "metadata": {
    "colab": {
     "base_uri": "https://localhost:8080/",
     "height": 300
    },
    "id": "hFnCMKtwWQSx",
    "outputId": "d46d24e9-b89f-4f63-af07-cd68575b9fb1"
   },
   "outputs": [
    {
     "data": {
      "text/html": [
       "<div>\n",
       "<style scoped>\n",
       "    .dataframe tbody tr th:only-of-type {\n",
       "        vertical-align: middle;\n",
       "    }\n",
       "\n",
       "    .dataframe tbody tr th {\n",
       "        vertical-align: top;\n",
       "    }\n",
       "\n",
       "    .dataframe thead th {\n",
       "        text-align: right;\n",
       "    }\n",
       "</style>\n",
       "<table border=\"1\" class=\"dataframe\">\n",
       "  <thead>\n",
       "    <tr style=\"text-align: right;\">\n",
       "      <th></th>\n",
       "      <th>Year</th>\n",
       "      <th>Population</th>\n",
       "      <th>Growth</th>\n",
       "      <th>GrowthRate</th>\n",
       "    </tr>\n",
       "  </thead>\n",
       "  <tbody>\n",
       "    <tr>\n",
       "      <th>1</th>\n",
       "      <td>2021</td>\n",
       "      <td>695506</td>\n",
       "      <td>1453</td>\n",
       "      <td>0.0021</td>\n",
       "    </tr>\n",
       "    <tr>\n",
       "      <th>2</th>\n",
       "      <td>2020</td>\n",
       "      <td>694053</td>\n",
       "      <td>1453</td>\n",
       "      <td>0.0021</td>\n",
       "    </tr>\n",
       "    <tr>\n",
       "      <th>3</th>\n",
       "      <td>2019</td>\n",
       "      <td>692600</td>\n",
       "      <td>1453</td>\n",
       "      <td>0.0021</td>\n",
       "    </tr>\n",
       "    <tr>\n",
       "      <th>4</th>\n",
       "      <td>2018</td>\n",
       "      <td>691147</td>\n",
       "      <td>3359</td>\n",
       "      <td>0.0049</td>\n",
       "    </tr>\n",
       "    <tr>\n",
       "      <th>5</th>\n",
       "      <td>2017</td>\n",
       "      <td>687788</td>\n",
       "      <td>7940</td>\n",
       "      <td>0.0117</td>\n",
       "    </tr>\n",
       "    <tr>\n",
       "      <th>6</th>\n",
       "      <td>2016</td>\n",
       "      <td>679848</td>\n",
       "      <td>9357</td>\n",
       "      <td>0.0140</td>\n",
       "    </tr>\n",
       "    <tr>\n",
       "      <th>7</th>\n",
       "      <td>2015</td>\n",
       "      <td>670491</td>\n",
       "      <td>7636</td>\n",
       "      <td>0.0115</td>\n",
       "    </tr>\n",
       "    <tr>\n",
       "      <th>8</th>\n",
       "      <td>2014</td>\n",
       "      <td>662855</td>\n",
       "      <td>9853</td>\n",
       "      <td>0.0151</td>\n",
       "    </tr>\n",
       "  </tbody>\n",
       "</table>\n",
       "</div>"
      ],
      "text/plain": [
       "   Year  Population  Growth  GrowthRate\n",
       "1  2021      695506    1453      0.0021\n",
       "2  2020      694053    1453      0.0021\n",
       "3  2019      692600    1453      0.0021\n",
       "4  2018      691147    3359      0.0049\n",
       "5  2017      687788    7940      0.0117\n",
       "6  2016      679848    9357      0.0140\n",
       "7  2015      670491    7636      0.0115\n",
       "8  2014      662855    9853      0.0151"
      ]
     },
     "execution_count": 81,
     "metadata": {},
     "output_type": "execute_result"
    }
   ],
   "source": [
    "population\n",
    "# Everything seems ok"
   ]
  },
  {
   "cell_type": "code",
   "execution_count": 83,
   "id": "f3VUXl9RWV42",
   "metadata": {
    "colab": {
     "base_uri": "https://localhost:8080/",
     "height": 17
    },
    "id": "f3VUXl9RWV42",
    "outputId": "56dfe75f-ee34-4747-9dd8-379c7a96666f"
   },
   "outputs": [],
   "source": [
    "# Save the clean version\n",
    "# Save the clean version\n",
    "population.to_csv('/Users/handedede/Downloads/population_eda.csv', index=False,  encoding = 'utf-8-sig')\n"
   ]
  },
  {
   "cell_type": "markdown",
   "id": "VeCgqXKF2IlD",
   "metadata": {
    "id": "VeCgqXKF2IlD"
   },
   "source": [
    "### **2.2.6 Federal Highway Administration's Reports**"
   ]
  },
  {
   "cell_type": "markdown",
   "id": "bB7GmGXW2cPZ",
   "metadata": {
    "id": "bB7GmGXW2cPZ"
   },
   "source": [
    "Office of Highway Policy Information publishes reports containing analyzed statistical information on traffic as motor fuel, highway mileage, travel etc. [Traffic Volume Trends](https://www.fhwa.dot.gov/policyinformation/travel_monitoring/tvt.cfm) is one of them which is a monthly report based on hourly traffic count data reported by the States. In this dataset, estimated travel (in billion vehicle-miles) on all roads and streets in Massachusetts are reported. In an another report, the amount of gallons taxed by that state is collected.\n"
   ]
  },
  {
   "cell_type": "code",
   "execution_count": 84,
   "id": "9JpmTsxe3x6u",
   "metadata": {
    "id": "9JpmTsxe3x6u"
   },
   "outputs": [],
   "source": [
    "# Load the data\n",
    "url_t = 'https://github.com/hangulde/Air_Quality_Prediction_of_Boston-/raw/main/data/dataset_data_wrangling/traffic%20statistics.csv'\n",
    "traffic = pd.read_csv(url_t)"
   ]
  },
  {
   "cell_type": "code",
   "execution_count": 85,
   "id": "mHdniweB47x8",
   "metadata": {
    "colab": {
     "base_uri": "https://localhost:8080/",
     "height": 206
    },
    "id": "mHdniweB47x8",
    "outputId": "55d2d349-24d2-4a5a-ac63-845be19e8a74"
   },
   "outputs": [
    {
     "data": {
      "text/html": [
       "<div>\n",
       "<style scoped>\n",
       "    .dataframe tbody tr th:only-of-type {\n",
       "        vertical-align: middle;\n",
       "    }\n",
       "\n",
       "    .dataframe tbody tr th {\n",
       "        vertical-align: top;\n",
       "    }\n",
       "\n",
       "    .dataframe thead th {\n",
       "        text-align: right;\n",
       "    }\n",
       "</style>\n",
       "<table border=\"1\" class=\"dataframe\">\n",
       "  <thead>\n",
       "    <tr style=\"text-align: right;\">\n",
       "      <th></th>\n",
       "      <th>date</th>\n",
       "      <th>total</th>\n",
       "      <th>special fuel</th>\n",
       "      <th>gasoline</th>\n",
       "      <th>Vehicle-Miles</th>\n",
       "    </tr>\n",
       "  </thead>\n",
       "  <tbody>\n",
       "    <tr>\n",
       "      <th>0</th>\n",
       "      <td>2021-12-01</td>\n",
       "      <td>NaN</td>\n",
       "      <td>NaN</td>\n",
       "      <td>NaN</td>\n",
       "      <td>5260</td>\n",
       "    </tr>\n",
       "    <tr>\n",
       "      <th>1</th>\n",
       "      <td>2021-11-01</td>\n",
       "      <td>242875383.0</td>\n",
       "      <td>38099539.0</td>\n",
       "      <td>204775844.0</td>\n",
       "      <td>5156</td>\n",
       "    </tr>\n",
       "    <tr>\n",
       "      <th>2</th>\n",
       "      <td>2021-10-01</td>\n",
       "      <td>267412325.0</td>\n",
       "      <td>41370369.0</td>\n",
       "      <td>226041956.0</td>\n",
       "      <td>5543</td>\n",
       "    </tr>\n",
       "    <tr>\n",
       "      <th>3</th>\n",
       "      <td>2021-09-01</td>\n",
       "      <td>259284840.0</td>\n",
       "      <td>37847254.0</td>\n",
       "      <td>221437586.0</td>\n",
       "      <td>5120</td>\n",
       "    </tr>\n",
       "    <tr>\n",
       "      <th>4</th>\n",
       "      <td>2021-08-01</td>\n",
       "      <td>261347939.0</td>\n",
       "      <td>39981448.0</td>\n",
       "      <td>221366491.0</td>\n",
       "      <td>5340</td>\n",
       "    </tr>\n",
       "  </tbody>\n",
       "</table>\n",
       "</div>"
      ],
      "text/plain": [
       "         date        total  special fuel     gasoline  Vehicle-Miles\n",
       "0  2021-12-01          NaN           NaN          NaN           5260\n",
       "1  2021-11-01  242875383.0    38099539.0  204775844.0           5156\n",
       "2  2021-10-01  267412325.0    41370369.0  226041956.0           5543\n",
       "3  2021-09-01  259284840.0    37847254.0  221437586.0           5120\n",
       "4  2021-08-01  261347939.0    39981448.0  221366491.0           5340"
      ]
     },
     "execution_count": 85,
     "metadata": {},
     "output_type": "execute_result"
    }
   ],
   "source": [
    "# Look over the data\n",
    "traffic.head()"
   ]
  },
  {
   "cell_type": "code",
   "execution_count": 86,
   "id": "byOjB2um5BJ6",
   "metadata": {
    "colab": {
     "base_uri": "https://localhost:8080/"
    },
    "id": "byOjB2um5BJ6",
    "outputId": "7e04e153-5b20-497f-9638-afc4e3bd7238"
   },
   "outputs": [
    {
     "name": "stdout",
     "output_type": "stream",
     "text": [
      "<class 'pandas.core.frame.DataFrame'>\n",
      "RangeIndex: 96 entries, 0 to 95\n",
      "Data columns (total 5 columns):\n",
      " #   Column         Non-Null Count  Dtype  \n",
      "---  ------         --------------  -----  \n",
      " 0   date           96 non-null     object \n",
      " 1   total          95 non-null     float64\n",
      " 2   special fuel   95 non-null     float64\n",
      " 3   gasoline       95 non-null     float64\n",
      " 4   Vehicle-Miles  96 non-null     int64  \n",
      "dtypes: float64(3), int64(1), object(1)\n",
      "memory usage: 3.9+ KB\n"
     ]
    }
   ],
   "source": [
    "traffic.info()\n",
    "# December 2021 data wasn't reported. I add the average of 2021 to December 2021."
   ]
  },
  {
   "cell_type": "code",
   "execution_count": 87,
   "id": "N9H6HKqmE76l",
   "metadata": {
    "colab": {
     "base_uri": "https://localhost:8080/",
     "height": 206
    },
    "id": "N9H6HKqmE76l",
    "outputId": "b08abf2b-46cc-42c0-c8b9-f4b4a901d411"
   },
   "outputs": [
    {
     "data": {
      "text/html": [
       "<div>\n",
       "<style scoped>\n",
       "    .dataframe tbody tr th:only-of-type {\n",
       "        vertical-align: middle;\n",
       "    }\n",
       "\n",
       "    .dataframe tbody tr th {\n",
       "        vertical-align: top;\n",
       "    }\n",
       "\n",
       "    .dataframe thead th {\n",
       "        text-align: right;\n",
       "    }\n",
       "</style>\n",
       "<table border=\"1\" class=\"dataframe\">\n",
       "  <thead>\n",
       "    <tr style=\"text-align: right;\">\n",
       "      <th></th>\n",
       "      <th>date</th>\n",
       "      <th>total</th>\n",
       "      <th>special fuel</th>\n",
       "      <th>gasoline</th>\n",
       "      <th>Vehicle-Miles</th>\n",
       "    </tr>\n",
       "  </thead>\n",
       "  <tbody>\n",
       "    <tr>\n",
       "      <th>0</th>\n",
       "      <td>2021-12-01</td>\n",
       "      <td>NaN</td>\n",
       "      <td>NaN</td>\n",
       "      <td>NaN</td>\n",
       "      <td>5260</td>\n",
       "    </tr>\n",
       "    <tr>\n",
       "      <th>1</th>\n",
       "      <td>2021-11-01</td>\n",
       "      <td>242875383.0</td>\n",
       "      <td>38099539.0</td>\n",
       "      <td>204775844.0</td>\n",
       "      <td>5156</td>\n",
       "    </tr>\n",
       "    <tr>\n",
       "      <th>2</th>\n",
       "      <td>2021-10-01</td>\n",
       "      <td>267412325.0</td>\n",
       "      <td>41370369.0</td>\n",
       "      <td>226041956.0</td>\n",
       "      <td>5543</td>\n",
       "    </tr>\n",
       "    <tr>\n",
       "      <th>3</th>\n",
       "      <td>2021-09-01</td>\n",
       "      <td>259284840.0</td>\n",
       "      <td>37847254.0</td>\n",
       "      <td>221437586.0</td>\n",
       "      <td>5120</td>\n",
       "    </tr>\n",
       "    <tr>\n",
       "      <th>4</th>\n",
       "      <td>2021-08-01</td>\n",
       "      <td>261347939.0</td>\n",
       "      <td>39981448.0</td>\n",
       "      <td>221366491.0</td>\n",
       "      <td>5340</td>\n",
       "    </tr>\n",
       "  </tbody>\n",
       "</table>\n",
       "</div>"
      ],
      "text/plain": [
       "         date        total  special fuel     gasoline  Vehicle-Miles\n",
       "0  2021-12-01          NaN           NaN          NaN           5260\n",
       "1  2021-11-01  242875383.0    38099539.0  204775844.0           5156\n",
       "2  2021-10-01  267412325.0    41370369.0  226041956.0           5543\n",
       "3  2021-09-01  259284840.0    37847254.0  221437586.0           5120\n",
       "4  2021-08-01  261347939.0    39981448.0  221366491.0           5340"
      ]
     },
     "execution_count": 87,
     "metadata": {},
     "output_type": "execute_result"
    }
   ],
   "source": [
    "traffic.head()"
   ]
  },
  {
   "cell_type": "code",
   "execution_count": 88,
   "id": "DJgmAtxtIEcz",
   "metadata": {
    "colab": {
     "base_uri": "https://localhost:8080/"
    },
    "id": "DJgmAtxtIEcz",
    "outputId": "2d240cf7-3788-4ef9-fcb7-7c534a63bf2b"
   },
   "outputs": [
    {
     "data": {
      "text/plain": [
       "Index(['date', 'fuel_and_gas_total', 'special_fuel', 'gasoline',\n",
       "       'vehicle-miles'],\n",
       "      dtype='object')"
      ]
     },
     "execution_count": 88,
     "metadata": {},
     "output_type": "execute_result"
    }
   ],
   "source": [
    "# Change column names\n",
    "traffic = traffic.rename(columns = {'total':'fuel_and_gas_total', 'special fuel':'special_fuel', 'Vehicle-Miles':'vehicle-miles'})\n",
    "traffic.columns"
   ]
  },
  {
   "cell_type": "code",
   "execution_count": 89,
   "id": "nfU5n7cI5Q6_",
   "metadata": {
    "colab": {
     "base_uri": "https://localhost:8080/"
    },
    "id": "nfU5n7cI5Q6_",
    "outputId": "ceeb834f-24d3-4520-94f1-46ed88b9d8ef"
   },
   "outputs": [],
   "source": [
    "# Add average of 11 months of 2021 to Dec 2022\n",
    "traffic.gasoline[traffic.date == '2021-12-01'] = round(np.mean(traffic.loc[1:11 , 'gasoline']), 0)\n",
    "traffic.special_fuel[traffic.date == '2021-12-01'] = round(np.mean(traffic.loc[1:11 , 'special_fuel']), 0)\n",
    "traffic.fuel_and_gas_total[traffic.date == '2021-12-01'] = round(np.mean(traffic.loc[1:11 , 'fuel_and_gas_total']), 0)"
   ]
  },
  {
   "cell_type": "code",
   "execution_count": 90,
   "id": "SuweM8CnJFsJ",
   "metadata": {
    "colab": {
     "base_uri": "https://localhost:8080/"
    },
    "id": "SuweM8CnJFsJ",
    "outputId": "bf036b55-36ee-46c9-c919-0f9a9bc2941d"
   },
   "outputs": [
    {
     "name": "stdout",
     "output_type": "stream",
     "text": [
      "<class 'pandas.core.frame.DataFrame'>\n",
      "RangeIndex: 96 entries, 0 to 95\n",
      "Data columns (total 5 columns):\n",
      " #   Column              Non-Null Count  Dtype         \n",
      "---  ------              --------------  -----         \n",
      " 0   date                96 non-null     datetime64[ns]\n",
      " 1   fuel_and_gas_total  96 non-null     float64       \n",
      " 2   special_fuel        96 non-null     float64       \n",
      " 3   gasoline            96 non-null     float64       \n",
      " 4   vehicle-miles       96 non-null     int64         \n",
      "dtypes: datetime64[ns](1), float64(3), int64(1)\n",
      "memory usage: 3.9 KB\n"
     ]
    }
   ],
   "source": [
    "# Convert datetime\n",
    "traffic['date'] = pd.to_datetime(traffic['date'], format=\"%Y-%m-%d\")\n",
    "traffic.info() "
   ]
  },
  {
   "cell_type": "code",
   "execution_count": 92,
   "id": "y-PeLLPZJYC3",
   "metadata": {
    "colab": {
     "base_uri": "https://localhost:8080/",
     "height": 17
    },
    "id": "y-PeLLPZJYC3",
    "outputId": "62fababd-ccf0-46a0-c157-e56d6dcd2ed7"
   },
   "outputs": [],
   "source": [
    "# Save the clean version\n",
    "traffic.to_csv('/Users/handedede/Downloads/traffic_eda.csv', index=False,  encoding = 'utf-8-sig')\n"
   ]
  },
  {
   "cell_type": "markdown",
   "id": "yjJLsHfqKdhm",
   "metadata": {
    "id": "yjJLsHfqKdhm"
   },
   "source": [
    "## **2.2 Summary**"
   ]
  },
  {
   "cell_type": "markdown",
   "id": "PcJpxQ5ZKofZ",
   "metadata": {
    "id": "PcJpxQ5ZKofZ"
   },
   "source": [
    "At the end of this phase, we have a total of six .csv files and 32 attributes. All dataframes have a date index or column. Ready of EDA!"
   ]
  },
  {
   "cell_type": "markdown",
   "id": "PDs7VU1lKHT0",
   "metadata": {
    "id": "PDs7VU1lKHT0"
   },
   "source": [
    "## **2.3 Merge Dataframes (Part of EDA)**"
   ]
  },
  {
   "cell_type": "markdown",
   "id": "05lNY5cvKPB_",
   "metadata": {
    "id": "05lNY5cvKPB_"
   },
   "source": [
    "After I started to EDA, I decided to merge all data frames as I want to see the correlation between PM$_{2.5}$ and other features. Merging all dataframes with the others takes up a lot room and seems distracting. I decided to move the merging from EDA to data wrangling notebook.\n",
    "\n",
    "2.3.1 [Deciding Air Quality Parameter](#2.3.1-Deciding-Air-Quality-Parameter)\n",
    "\n",
    "2.3.2 [Merging Air Quality and Weather](#2.3.2-Merging-Air-Quality-and-Weather)\n",
    "\n",
    "2.3.3 [Merging Flight Numbers](#2.3.3-Merging-Flight-Numbers)\n",
    "\n",
    "2.3.4 [Merging the Traffic Data](#2.3.4-Merging-the-Traffic-Data)\n",
    "\n",
    "2.3.5 [Merging Energy Consumption](#2.3.5-Merging-Energy-Consumption)\n",
    "\n",
    "2.3.6 [Merging Population](#2.3.6-Merging-Population)"
   ]
  },
  {
   "cell_type": "markdown",
   "id": "o8gdHYQ4MvRc",
   "metadata": {
    "id": "o8gdHYQ4MvRc"
   },
   "source": [
    "### **2.3.1 Deciding Air Quality Parameter**"
   ]
  },
  {
   "cell_type": "code",
   "execution_count": 93,
   "id": "CjL4aN65MWsS",
   "metadata": {
    "id": "CjL4aN65MWsS"
   },
   "outputs": [],
   "source": [
    "# Load the data\n",
    "url= 'https://github.com/hangulde/Air_Quality_Prediction_of_Boston-/raw/main/data/dataset_ready_for_EDA/air_quality_eda.csv'\n",
    "air_quality = pd.read_csv(url)"
   ]
  },
  {
   "cell_type": "code",
   "execution_count": 94,
   "id": "rW7cgq6VMWsS",
   "metadata": {
    "colab": {
     "base_uri": "https://localhost:8080/",
     "height": 206
    },
    "id": "rW7cgq6VMWsS",
    "outputId": "b94958d2-cda9-473b-db33-67ec672b2251"
   },
   "outputs": [
    {
     "data": {
      "text/html": [
       "<div>\n",
       "<style scoped>\n",
       "    .dataframe tbody tr th:only-of-type {\n",
       "        vertical-align: middle;\n",
       "    }\n",
       "\n",
       "    .dataframe tbody tr th {\n",
       "        vertical-align: top;\n",
       "    }\n",
       "\n",
       "    .dataframe thead th {\n",
       "        text-align: right;\n",
       "    }\n",
       "</style>\n",
       "<table border=\"1\" class=\"dataframe\">\n",
       "  <thead>\n",
       "    <tr style=\"text-align: right;\">\n",
       "      <th></th>\n",
       "      <th>date</th>\n",
       "      <th>pm25</th>\n",
       "      <th>o3</th>\n",
       "      <th>no2</th>\n",
       "      <th>so2</th>\n",
       "      <th>co</th>\n",
       "    </tr>\n",
       "  </thead>\n",
       "  <tbody>\n",
       "    <tr>\n",
       "      <th>0</th>\n",
       "      <td>2021-12-31</td>\n",
       "      <td>52.0</td>\n",
       "      <td>4.0</td>\n",
       "      <td>18.0</td>\n",
       "      <td>1.0</td>\n",
       "      <td>5.0</td>\n",
       "    </tr>\n",
       "    <tr>\n",
       "      <th>1</th>\n",
       "      <td>2021-12-30</td>\n",
       "      <td>42.0</td>\n",
       "      <td>2.0</td>\n",
       "      <td>23.0</td>\n",
       "      <td>1.0</td>\n",
       "      <td>5.0</td>\n",
       "    </tr>\n",
       "    <tr>\n",
       "      <th>2</th>\n",
       "      <td>2021-12-29</td>\n",
       "      <td>40.0</td>\n",
       "      <td>9.0</td>\n",
       "      <td>15.0</td>\n",
       "      <td>1.0</td>\n",
       "      <td>4.0</td>\n",
       "    </tr>\n",
       "    <tr>\n",
       "      <th>3</th>\n",
       "      <td>2021-12-28</td>\n",
       "      <td>27.0</td>\n",
       "      <td>12.0</td>\n",
       "      <td>15.0</td>\n",
       "      <td>1.0</td>\n",
       "      <td>4.0</td>\n",
       "    </tr>\n",
       "    <tr>\n",
       "      <th>4</th>\n",
       "      <td>2021-12-27</td>\n",
       "      <td>26.0</td>\n",
       "      <td>13.0</td>\n",
       "      <td>13.0</td>\n",
       "      <td>1.0</td>\n",
       "      <td>3.0</td>\n",
       "    </tr>\n",
       "  </tbody>\n",
       "</table>\n",
       "</div>"
      ],
      "text/plain": [
       "         date  pm25    o3   no2  so2   co\n",
       "0  2021-12-31  52.0   4.0  18.0  1.0  5.0\n",
       "1  2021-12-30  42.0   2.0  23.0  1.0  5.0\n",
       "2  2021-12-29  40.0   9.0  15.0  1.0  4.0\n",
       "3  2021-12-28  27.0  12.0  15.0  1.0  4.0\n",
       "4  2021-12-27  26.0  13.0  13.0  1.0  3.0"
      ]
     },
     "execution_count": 94,
     "metadata": {},
     "output_type": "execute_result"
    }
   ],
   "source": [
    "# Look over\n",
    "air_quality.head()"
   ]
  },
  {
   "cell_type": "code",
   "execution_count": 95,
   "id": "2gLtTBVZMWsT",
   "metadata": {
    "colab": {
     "base_uri": "https://localhost:8080/"
    },
    "id": "2gLtTBVZMWsT",
    "outputId": "2c1d50cc-aed1-45f2-b687-0e929f5e0c58"
   },
   "outputs": [
    {
     "data": {
      "text/plain": [
       "date     object\n",
       "pm25    float64\n",
       "o3      float64\n",
       "no2     float64\n",
       "so2     float64\n",
       "co      float64\n",
       "dtype: object"
      ]
     },
     "execution_count": 95,
     "metadata": {},
     "output_type": "execute_result"
    }
   ],
   "source": [
    "air_quality.dtypes"
   ]
  },
  {
   "cell_type": "markdown",
   "id": "yfZf8TaRMWsT",
   "metadata": {
    "id": "yfZf8TaRMWsT"
   },
   "source": [
    "In the data wrangling phase, I filled the NaNs with interpolate. Before filling the NaNs, PM2.5 and O3 have the least number of NaN. It makes more sense to analyze one of them. According to WHO, PM is the common indicator for air pollution and also affects human health more than other pollutants. For this reason, I use PM2.5 parameter for determining the air quality."
   ]
  },
  {
   "cell_type": "code",
   "execution_count": 96,
   "id": "zSAxmnpHMWsU",
   "metadata": {
    "id": "zSAxmnpHMWsU"
   },
   "outputs": [],
   "source": [
    "air_quality['date'] = pd.to_datetime(air_quality['date'], format='%Y-%m-%d')"
   ]
  },
  {
   "cell_type": "code",
   "execution_count": 97,
   "id": "Y42VcZ6rMWsU",
   "metadata": {
    "id": "Y42VcZ6rMWsU"
   },
   "outputs": [],
   "source": [
    "# Setting the Date as index\n",
    "air_quality = air_quality.set_index(\"date\")"
   ]
  },
  {
   "cell_type": "code",
   "execution_count": 98,
   "id": "KsXz5xYdMWsU",
   "metadata": {
    "id": "KsXz5xYdMWsU"
   },
   "outputs": [],
   "source": [
    "air_quality['day'] = air_quality.index.day\n",
    "air_quality['month'] = air_quality.index.month\n",
    "air_quality['year'] = air_quality.index.year"
   ]
  },
  {
   "cell_type": "code",
   "execution_count": 99,
   "id": "qLsDa_gxMWsU",
   "metadata": {
    "colab": {
     "base_uri": "https://localhost:8080/",
     "height": 238
    },
    "id": "qLsDa_gxMWsU",
    "outputId": "2db55514-4a57-4593-c5d9-4f54c5077766"
   },
   "outputs": [
    {
     "data": {
      "text/html": [
       "<div>\n",
       "<style scoped>\n",
       "    .dataframe tbody tr th:only-of-type {\n",
       "        vertical-align: middle;\n",
       "    }\n",
       "\n",
       "    .dataframe tbody tr th {\n",
       "        vertical-align: top;\n",
       "    }\n",
       "\n",
       "    .dataframe thead th {\n",
       "        text-align: right;\n",
       "    }\n",
       "</style>\n",
       "<table border=\"1\" class=\"dataframe\">\n",
       "  <thead>\n",
       "    <tr style=\"text-align: right;\">\n",
       "      <th></th>\n",
       "      <th>pm25</th>\n",
       "      <th>day</th>\n",
       "      <th>month</th>\n",
       "      <th>year</th>\n",
       "    </tr>\n",
       "    <tr>\n",
       "      <th>date</th>\n",
       "      <th></th>\n",
       "      <th></th>\n",
       "      <th></th>\n",
       "      <th></th>\n",
       "    </tr>\n",
       "  </thead>\n",
       "  <tbody>\n",
       "    <tr>\n",
       "      <th>2021-12-31</th>\n",
       "      <td>52.0</td>\n",
       "      <td>31</td>\n",
       "      <td>12</td>\n",
       "      <td>2021</td>\n",
       "    </tr>\n",
       "    <tr>\n",
       "      <th>2021-12-30</th>\n",
       "      <td>42.0</td>\n",
       "      <td>30</td>\n",
       "      <td>12</td>\n",
       "      <td>2021</td>\n",
       "    </tr>\n",
       "    <tr>\n",
       "      <th>2021-12-29</th>\n",
       "      <td>40.0</td>\n",
       "      <td>29</td>\n",
       "      <td>12</td>\n",
       "      <td>2021</td>\n",
       "    </tr>\n",
       "    <tr>\n",
       "      <th>2021-12-28</th>\n",
       "      <td>27.0</td>\n",
       "      <td>28</td>\n",
       "      <td>12</td>\n",
       "      <td>2021</td>\n",
       "    </tr>\n",
       "    <tr>\n",
       "      <th>2021-12-27</th>\n",
       "      <td>26.0</td>\n",
       "      <td>27</td>\n",
       "      <td>12</td>\n",
       "      <td>2021</td>\n",
       "    </tr>\n",
       "  </tbody>\n",
       "</table>\n",
       "</div>"
      ],
      "text/plain": [
       "            pm25  day  month  year\n",
       "date                              \n",
       "2021-12-31  52.0   31     12  2021\n",
       "2021-12-30  42.0   30     12  2021\n",
       "2021-12-29  40.0   29     12  2021\n",
       "2021-12-28  27.0   28     12  2021\n",
       "2021-12-27  26.0   27     12  2021"
      ]
     },
     "execution_count": 99,
     "metadata": {},
     "output_type": "execute_result"
    }
   ],
   "source": [
    "air_quality = air_quality.drop(['o3', 'no2',\t'so2',\t'co'], axis=1)\n",
    "air_quality.head()"
   ]
  },
  {
   "cell_type": "markdown",
   "id": "I4kG5r7bM85r",
   "metadata": {
    "id": "I4kG5r7bM85r"
   },
   "source": [
    "### **2.3.2 Merging Air Quality and Weather**"
   ]
  },
  {
   "cell_type": "code",
   "execution_count": 100,
   "id": "8EbpOKfPDAFe",
   "metadata": {
    "id": "8EbpOKfPDAFe"
   },
   "outputs": [],
   "source": [
    "# Load the weather data\n",
    "url_w = 'https://github.com/hangulde/Air_Quality_Prediction_of_Boston-/raw/main/data/dataset_ready_for_EDA/weather_eda.csv'\n",
    "weather = pd.read_csv(url_w)"
   ]
  },
  {
   "cell_type": "code",
   "execution_count": 101,
   "id": "-Er6gLKOEwZk",
   "metadata": {
    "id": "-Er6gLKOEwZk"
   },
   "outputs": [],
   "source": [
    "weather['date'] = pd.to_datetime(weather['date'], format='%Y-%m-%d')\n",
    "# Setting the Date as index\n",
    "weather = weather.set_index(\"date\")"
   ]
  },
  {
   "cell_type": "code",
   "execution_count": 102,
   "id": "dv9vZ7XDD4CE",
   "metadata": {
    "colab": {
     "base_uri": "https://localhost:8080/"
    },
    "id": "dv9vZ7XDD4CE",
    "outputId": "9650e7ee-7bf9-4594-cee5-5c452d840241"
   },
   "outputs": [
    {
     "data": {
      "text/plain": [
       "DatetimeIndex(['2021-12-31', '2021-12-30', '2021-12-29', '2021-12-28',\n",
       "               '2021-12-27', '2021-12-26', '2021-12-25', '2021-12-24',\n",
       "               '2021-12-23', '2021-12-22',\n",
       "               ...\n",
       "               '2014-01-10', '2014-01-09', '2014-01-08', '2014-01-07',\n",
       "               '2014-01-06', '2014-01-05', '2014-01-04', '2014-01-03',\n",
       "               '2014-01-02', '2014-01-01'],\n",
       "              dtype='datetime64[ns]', name='date', length=2922, freq=None)"
      ]
     },
     "execution_count": 102,
     "metadata": {},
     "output_type": "execute_result"
    }
   ],
   "source": [
    "weather.index"
   ]
  },
  {
   "cell_type": "code",
   "execution_count": 103,
   "id": "B9gzi4ioFbt0",
   "metadata": {
    "colab": {
     "base_uri": "https://localhost:8080/"
    },
    "id": "B9gzi4ioFbt0",
    "outputId": "c79bb779-740c-4873-ebb3-44c153e50ac1"
   },
   "outputs": [
    {
     "data": {
      "text/plain": [
       "DatetimeIndex(['2021-12-31', '2021-12-30', '2021-12-29', '2021-12-28',\n",
       "               '2021-12-27', '2021-12-26', '2021-12-25', '2021-12-24',\n",
       "               '2021-12-23', '2021-12-22',\n",
       "               ...\n",
       "               '2014-01-10', '2014-01-09', '2014-01-08', '2014-01-07',\n",
       "               '2014-01-06', '2014-01-05', '2014-01-04', '2014-01-03',\n",
       "               '2014-01-02', '2014-01-01'],\n",
       "              dtype='datetime64[ns]', name='date', length=2922, freq=None)"
      ]
     },
     "execution_count": 103,
     "metadata": {},
     "output_type": "execute_result"
    }
   ],
   "source": [
    "air_quality.index"
   ]
  },
  {
   "cell_type": "code",
   "execution_count": 104,
   "id": "jocgLWIWFhBc",
   "metadata": {
    "colab": {
     "base_uri": "https://localhost:8080/"
    },
    "id": "jocgLWIWFhBc",
    "outputId": "d6bf9cb8-6547-464e-db04-95693c433c2d"
   },
   "outputs": [
    {
     "name": "stdout",
     "output_type": "stream",
     "text": [
      "(2922, 4)\n",
      "(2922, 19)\n"
     ]
    }
   ],
   "source": [
    "print(air_quality.shape)\n",
    "print(weather.shape)\n",
    "# They have same index beginning and ending, also same length."
   ]
  },
  {
   "cell_type": "code",
   "execution_count": 105,
   "id": "7L29cJMnFpob",
   "metadata": {
    "colab": {
     "base_uri": "https://localhost:8080/"
    },
    "id": "7L29cJMnFpob",
    "outputId": "17d1bd2f-1ba5-47c4-eb41-05ff0f6fdcb3"
   },
   "outputs": [
    {
     "data": {
      "text/plain": [
       "Index(['pm25', 'day', 'month', 'year', 'tempmax', 'tempmin', 'temp',\n",
       "       'feelslikemax', 'feelslikemin', 'feelslike', 'dew', 'humidity',\n",
       "       'precip', 'precipcover', 'snow', 'snowdepth', 'windgust', 'windspeed',\n",
       "       'winddir', 'sealevelpressure', 'cloudcover', 'visibility', 'icon'],\n",
       "      dtype='object')"
      ]
     },
     "execution_count": 105,
     "metadata": {},
     "output_type": "execute_result"
    }
   ],
   "source": [
    "# Concat weather and air quality df.\n",
    "pm_weather = pd.concat([air_quality, weather], axis=1)\n",
    "pm_weather.columns"
   ]
  },
  {
   "cell_type": "code",
   "execution_count": 106,
   "id": "MhnEa3p5EDt9",
   "metadata": {
    "colab": {
     "base_uri": "https://localhost:8080/",
     "height": 0
    },
    "id": "MhnEa3p5EDt9",
    "outputId": "24a32967-dfb8-4fc7-ae0d-e138bedbe8f7"
   },
   "outputs": [
    {
     "data": {
      "text/html": [
       "<div>\n",
       "<style scoped>\n",
       "    .dataframe tbody tr th:only-of-type {\n",
       "        vertical-align: middle;\n",
       "    }\n",
       "\n",
       "    .dataframe tbody tr th {\n",
       "        vertical-align: top;\n",
       "    }\n",
       "\n",
       "    .dataframe thead th {\n",
       "        text-align: right;\n",
       "    }\n",
       "</style>\n",
       "<table border=\"1\" class=\"dataframe\">\n",
       "  <thead>\n",
       "    <tr style=\"text-align: right;\">\n",
       "      <th></th>\n",
       "      <th>pm25</th>\n",
       "      <th>day</th>\n",
       "      <th>month</th>\n",
       "      <th>year</th>\n",
       "      <th>tempmax</th>\n",
       "      <th>tempmin</th>\n",
       "      <th>temp</th>\n",
       "      <th>feelslikemax</th>\n",
       "      <th>feelslikemin</th>\n",
       "      <th>feelslike</th>\n",
       "      <th>...</th>\n",
       "      <th>precipcover</th>\n",
       "      <th>snow</th>\n",
       "      <th>snowdepth</th>\n",
       "      <th>windgust</th>\n",
       "      <th>windspeed</th>\n",
       "      <th>winddir</th>\n",
       "      <th>sealevelpressure</th>\n",
       "      <th>cloudcover</th>\n",
       "      <th>visibility</th>\n",
       "      <th>icon</th>\n",
       "    </tr>\n",
       "    <tr>\n",
       "      <th>date</th>\n",
       "      <th></th>\n",
       "      <th></th>\n",
       "      <th></th>\n",
       "      <th></th>\n",
       "      <th></th>\n",
       "      <th></th>\n",
       "      <th></th>\n",
       "      <th></th>\n",
       "      <th></th>\n",
       "      <th></th>\n",
       "      <th></th>\n",
       "      <th></th>\n",
       "      <th></th>\n",
       "      <th></th>\n",
       "      <th></th>\n",
       "      <th></th>\n",
       "      <th></th>\n",
       "      <th></th>\n",
       "      <th></th>\n",
       "      <th></th>\n",
       "      <th></th>\n",
       "    </tr>\n",
       "  </thead>\n",
       "  <tbody>\n",
       "    <tr>\n",
       "      <th>2021-12-31</th>\n",
       "      <td>52.0</td>\n",
       "      <td>31</td>\n",
       "      <td>12</td>\n",
       "      <td>2021</td>\n",
       "      <td>7.2</td>\n",
       "      <td>4.4</td>\n",
       "      <td>5.9</td>\n",
       "      <td>6.6</td>\n",
       "      <td>2.9</td>\n",
       "      <td>4.9</td>\n",
       "      <td>...</td>\n",
       "      <td>0.00</td>\n",
       "      <td>0.00</td>\n",
       "      <td>0.00</td>\n",
       "      <td>37.0</td>\n",
       "      <td>11.1</td>\n",
       "      <td>130.0</td>\n",
       "      <td>1014.4</td>\n",
       "      <td>99.5</td>\n",
       "      <td>7.3</td>\n",
       "      <td>cloudy</td>\n",
       "    </tr>\n",
       "    <tr>\n",
       "      <th>2021-12-30</th>\n",
       "      <td>42.0</td>\n",
       "      <td>30</td>\n",
       "      <td>12</td>\n",
       "      <td>2021</td>\n",
       "      <td>5.7</td>\n",
       "      <td>3.3</td>\n",
       "      <td>4.6</td>\n",
       "      <td>5.7</td>\n",
       "      <td>0.8</td>\n",
       "      <td>3.2</td>\n",
       "      <td>...</td>\n",
       "      <td>25.00</td>\n",
       "      <td>0.00</td>\n",
       "      <td>0.00</td>\n",
       "      <td>36.1</td>\n",
       "      <td>12.8</td>\n",
       "      <td>152.9</td>\n",
       "      <td>1014.6</td>\n",
       "      <td>99.8</td>\n",
       "      <td>8.0</td>\n",
       "      <td>rain</td>\n",
       "    </tr>\n",
       "    <tr>\n",
       "      <th>2021-12-29</th>\n",
       "      <td>40.0</td>\n",
       "      <td>29</td>\n",
       "      <td>12</td>\n",
       "      <td>2021</td>\n",
       "      <td>5.7</td>\n",
       "      <td>2.8</td>\n",
       "      <td>4.4</td>\n",
       "      <td>5.7</td>\n",
       "      <td>-0.1</td>\n",
       "      <td>3.1</td>\n",
       "      <td>...</td>\n",
       "      <td>4.17</td>\n",
       "      <td>0.00</td>\n",
       "      <td>0.33</td>\n",
       "      <td>35.2</td>\n",
       "      <td>17.9</td>\n",
       "      <td>167.5</td>\n",
       "      <td>1013.6</td>\n",
       "      <td>99.5</td>\n",
       "      <td>16.0</td>\n",
       "      <td>rain</td>\n",
       "    </tr>\n",
       "    <tr>\n",
       "      <th>2021-12-28</th>\n",
       "      <td>27.0</td>\n",
       "      <td>28</td>\n",
       "      <td>12</td>\n",
       "      <td>2021</td>\n",
       "      <td>7.2</td>\n",
       "      <td>0.7</td>\n",
       "      <td>3.9</td>\n",
       "      <td>4.2</td>\n",
       "      <td>-1.7</td>\n",
       "      <td>1.6</td>\n",
       "      <td>...</td>\n",
       "      <td>25.00</td>\n",
       "      <td>0.51</td>\n",
       "      <td>1.00</td>\n",
       "      <td>34.3</td>\n",
       "      <td>18.5</td>\n",
       "      <td>219.3</td>\n",
       "      <td>1010.0</td>\n",
       "      <td>96.4</td>\n",
       "      <td>12.1</td>\n",
       "      <td>snow</td>\n",
       "    </tr>\n",
       "    <tr>\n",
       "      <th>2021-12-27</th>\n",
       "      <td>26.0</td>\n",
       "      <td>27</td>\n",
       "      <td>12</td>\n",
       "      <td>2021</td>\n",
       "      <td>1.7</td>\n",
       "      <td>-1.1</td>\n",
       "      <td>0.5</td>\n",
       "      <td>1.7</td>\n",
       "      <td>-6.7</td>\n",
       "      <td>-3.4</td>\n",
       "      <td>...</td>\n",
       "      <td>0.00</td>\n",
       "      <td>0.63</td>\n",
       "      <td>1.00</td>\n",
       "      <td>46.2</td>\n",
       "      <td>32.9</td>\n",
       "      <td>261.2</td>\n",
       "      <td>1016.2</td>\n",
       "      <td>71.0</td>\n",
       "      <td>16.0</td>\n",
       "      <td>snow</td>\n",
       "    </tr>\n",
       "  </tbody>\n",
       "</table>\n",
       "<p>5 rows × 23 columns</p>\n",
       "</div>"
      ],
      "text/plain": [
       "            pm25  day  month  year  tempmax  tempmin  temp  feelslikemax  \\\n",
       "date                                                                       \n",
       "2021-12-31  52.0   31     12  2021      7.2      4.4   5.9           6.6   \n",
       "2021-12-30  42.0   30     12  2021      5.7      3.3   4.6           5.7   \n",
       "2021-12-29  40.0   29     12  2021      5.7      2.8   4.4           5.7   \n",
       "2021-12-28  27.0   28     12  2021      7.2      0.7   3.9           4.2   \n",
       "2021-12-27  26.0   27     12  2021      1.7     -1.1   0.5           1.7   \n",
       "\n",
       "            feelslikemin  feelslike  ...  precipcover  snow  snowdepth  \\\n",
       "date                                 ...                                 \n",
       "2021-12-31           2.9        4.9  ...         0.00  0.00       0.00   \n",
       "2021-12-30           0.8        3.2  ...        25.00  0.00       0.00   \n",
       "2021-12-29          -0.1        3.1  ...         4.17  0.00       0.33   \n",
       "2021-12-28          -1.7        1.6  ...        25.00  0.51       1.00   \n",
       "2021-12-27          -6.7       -3.4  ...         0.00  0.63       1.00   \n",
       "\n",
       "            windgust  windspeed  winddir  sealevelpressure  cloudcover  \\\n",
       "date                                                                     \n",
       "2021-12-31      37.0       11.1    130.0            1014.4        99.5   \n",
       "2021-12-30      36.1       12.8    152.9            1014.6        99.8   \n",
       "2021-12-29      35.2       17.9    167.5            1013.6        99.5   \n",
       "2021-12-28      34.3       18.5    219.3            1010.0        96.4   \n",
       "2021-12-27      46.2       32.9    261.2            1016.2        71.0   \n",
       "\n",
       "            visibility    icon  \n",
       "date                            \n",
       "2021-12-31         7.3  cloudy  \n",
       "2021-12-30         8.0    rain  \n",
       "2021-12-29        16.0    rain  \n",
       "2021-12-28        12.1    snow  \n",
       "2021-12-27        16.0    snow  \n",
       "\n",
       "[5 rows x 23 columns]"
      ]
     },
     "execution_count": 106,
     "metadata": {},
     "output_type": "execute_result"
    }
   ],
   "source": [
    "pm_weather.head()"
   ]
  },
  {
   "cell_type": "markdown",
   "id": "czOhsTdYNWUX",
   "metadata": {
    "id": "czOhsTdYNWUX"
   },
   "source": [
    "### **2.3.3 Merging Flight Numbers**"
   ]
  },
  {
   "cell_type": "code",
   "execution_count": 107,
   "id": "81gyjgUkBEep",
   "metadata": {
    "colab": {
     "base_uri": "https://localhost:8080/",
     "height": 0
    },
    "id": "81gyjgUkBEep",
    "outputId": "232333a7-ccd3-4a7e-be32-4e847603c339"
   },
   "outputs": [
    {
     "data": {
      "text/html": [
       "<div>\n",
       "<style scoped>\n",
       "    .dataframe tbody tr th:only-of-type {\n",
       "        vertical-align: middle;\n",
       "    }\n",
       "\n",
       "    .dataframe tbody tr th {\n",
       "        vertical-align: top;\n",
       "    }\n",
       "\n",
       "    .dataframe thead th {\n",
       "        text-align: right;\n",
       "    }\n",
       "</style>\n",
       "<table border=\"1\" class=\"dataframe\">\n",
       "  <thead>\n",
       "    <tr style=\"text-align: right;\">\n",
       "      <th></th>\n",
       "      <th>date</th>\n",
       "      <th>flight_number</th>\n",
       "    </tr>\n",
       "  </thead>\n",
       "  <tbody>\n",
       "    <tr>\n",
       "      <th>0</th>\n",
       "      <td>2021-12-01</td>\n",
       "      <td>27285.0</td>\n",
       "    </tr>\n",
       "    <tr>\n",
       "      <th>1</th>\n",
       "      <td>2021-11-01</td>\n",
       "      <td>28315.0</td>\n",
       "    </tr>\n",
       "    <tr>\n",
       "      <th>2</th>\n",
       "      <td>2021-10-01</td>\n",
       "      <td>28780.0</td>\n",
       "    </tr>\n",
       "    <tr>\n",
       "      <th>3</th>\n",
       "      <td>2021-09-01</td>\n",
       "      <td>27504.0</td>\n",
       "    </tr>\n",
       "    <tr>\n",
       "      <th>4</th>\n",
       "      <td>2021-08-01</td>\n",
       "      <td>27693.0</td>\n",
       "    </tr>\n",
       "  </tbody>\n",
       "</table>\n",
       "</div>"
      ],
      "text/plain": [
       "         date  flight_number\n",
       "0  2021-12-01        27285.0\n",
       "1  2021-11-01        28315.0\n",
       "2  2021-10-01        28780.0\n",
       "3  2021-09-01        27504.0\n",
       "4  2021-08-01        27693.0"
      ]
     },
     "execution_count": 107,
     "metadata": {},
     "output_type": "execute_result"
    }
   ],
   "source": [
    "# Load the flight data\n",
    "url_f = 'https://github.com/hangulde/Air_Quality_Prediction_of_Boston-/raw/main/data/dataset_ready_for_EDA/flights_eda.csv'\n",
    "flight=pd.read_csv(url_f)\n",
    "flight.drop(columns=flight.columns[0], axis=1, inplace=True)\n",
    "flight.head()"
   ]
  },
  {
   "cell_type": "code",
   "execution_count": 108,
   "id": "0hmejTu8BuHK",
   "metadata": {
    "id": "0hmejTu8BuHK"
   },
   "outputs": [],
   "source": [
    "# Convert date to datetime\n",
    "flight['date'] = pd.to_datetime(flight['date'], format='%Y-%m-%d')\n",
    "flight['month'] = flight.date.dt.month\n",
    "flight['year'] = flight.date.dt.year"
   ]
  },
  {
   "cell_type": "code",
   "execution_count": 109,
   "id": "QIyih04MYQ79",
   "metadata": {
    "colab": {
     "base_uri": "https://localhost:8080/"
    },
    "id": "QIyih04MYQ79",
    "outputId": "3a2258cf-ddf0-443b-f7ae-7dc0d1773baa"
   },
   "outputs": [
    {
     "data": {
      "text/plain": [
       "DatetimeIndex(['2021-12-31', '2021-12-30', '2021-12-29', '2021-12-28',\n",
       "               '2021-12-27', '2021-12-26', '2021-12-25', '2021-12-24',\n",
       "               '2021-12-23', '2021-12-22',\n",
       "               ...\n",
       "               '2014-01-10', '2014-01-09', '2014-01-08', '2014-01-07',\n",
       "               '2014-01-06', '2014-01-05', '2014-01-04', '2014-01-03',\n",
       "               '2014-01-02', '2014-01-01'],\n",
       "              dtype='datetime64[ns]', name='date', length=2922, freq=None)"
      ]
     },
     "execution_count": 109,
     "metadata": {},
     "output_type": "execute_result"
    }
   ],
   "source": [
    "pm_weather.index"
   ]
  },
  {
   "cell_type": "code",
   "execution_count": 110,
   "id": "lnRKeO-eC3is",
   "metadata": {
    "colab": {
     "base_uri": "https://localhost:8080/",
     "height": 0
    },
    "id": "lnRKeO-eC3is",
    "outputId": "7f02a08f-70d1-4808-b532-fcfa14efdaa2"
   },
   "outputs": [
    {
     "data": {
      "text/html": [
       "<div>\n",
       "<style scoped>\n",
       "    .dataframe tbody tr th:only-of-type {\n",
       "        vertical-align: middle;\n",
       "    }\n",
       "\n",
       "    .dataframe tbody tr th {\n",
       "        vertical-align: top;\n",
       "    }\n",
       "\n",
       "    .dataframe thead th {\n",
       "        text-align: right;\n",
       "    }\n",
       "</style>\n",
       "<table border=\"1\" class=\"dataframe\">\n",
       "  <thead>\n",
       "    <tr style=\"text-align: right;\">\n",
       "      <th></th>\n",
       "      <th>pm25</th>\n",
       "      <th>day</th>\n",
       "      <th>month</th>\n",
       "      <th>year</th>\n",
       "      <th>tempmax</th>\n",
       "      <th>tempmin</th>\n",
       "      <th>temp</th>\n",
       "      <th>feelslikemax</th>\n",
       "      <th>feelslikemin</th>\n",
       "      <th>feelslike</th>\n",
       "      <th>...</th>\n",
       "      <th>snow</th>\n",
       "      <th>snowdepth</th>\n",
       "      <th>windgust</th>\n",
       "      <th>windspeed</th>\n",
       "      <th>winddir</th>\n",
       "      <th>sealevelpressure</th>\n",
       "      <th>cloudcover</th>\n",
       "      <th>visibility</th>\n",
       "      <th>icon</th>\n",
       "      <th>flight_number</th>\n",
       "    </tr>\n",
       "    <tr>\n",
       "      <th>date</th>\n",
       "      <th></th>\n",
       "      <th></th>\n",
       "      <th></th>\n",
       "      <th></th>\n",
       "      <th></th>\n",
       "      <th></th>\n",
       "      <th></th>\n",
       "      <th></th>\n",
       "      <th></th>\n",
       "      <th></th>\n",
       "      <th></th>\n",
       "      <th></th>\n",
       "      <th></th>\n",
       "      <th></th>\n",
       "      <th></th>\n",
       "      <th></th>\n",
       "      <th></th>\n",
       "      <th></th>\n",
       "      <th></th>\n",
       "      <th></th>\n",
       "      <th></th>\n",
       "    </tr>\n",
       "  </thead>\n",
       "  <tbody>\n",
       "    <tr>\n",
       "      <th>2021-12-31</th>\n",
       "      <td>52.0</td>\n",
       "      <td>31</td>\n",
       "      <td>12</td>\n",
       "      <td>2021</td>\n",
       "      <td>7.2</td>\n",
       "      <td>4.4</td>\n",
       "      <td>5.9</td>\n",
       "      <td>6.6</td>\n",
       "      <td>2.9</td>\n",
       "      <td>4.9</td>\n",
       "      <td>...</td>\n",
       "      <td>0.00</td>\n",
       "      <td>0.00</td>\n",
       "      <td>37.0</td>\n",
       "      <td>11.1</td>\n",
       "      <td>130.0</td>\n",
       "      <td>1014.4</td>\n",
       "      <td>99.5</td>\n",
       "      <td>7.3</td>\n",
       "      <td>cloudy</td>\n",
       "      <td>27285.0</td>\n",
       "    </tr>\n",
       "    <tr>\n",
       "      <th>2021-12-30</th>\n",
       "      <td>42.0</td>\n",
       "      <td>30</td>\n",
       "      <td>12</td>\n",
       "      <td>2021</td>\n",
       "      <td>5.7</td>\n",
       "      <td>3.3</td>\n",
       "      <td>4.6</td>\n",
       "      <td>5.7</td>\n",
       "      <td>0.8</td>\n",
       "      <td>3.2</td>\n",
       "      <td>...</td>\n",
       "      <td>0.00</td>\n",
       "      <td>0.00</td>\n",
       "      <td>36.1</td>\n",
       "      <td>12.8</td>\n",
       "      <td>152.9</td>\n",
       "      <td>1014.6</td>\n",
       "      <td>99.8</td>\n",
       "      <td>8.0</td>\n",
       "      <td>rain</td>\n",
       "      <td>27285.0</td>\n",
       "    </tr>\n",
       "    <tr>\n",
       "      <th>2021-12-29</th>\n",
       "      <td>40.0</td>\n",
       "      <td>29</td>\n",
       "      <td>12</td>\n",
       "      <td>2021</td>\n",
       "      <td>5.7</td>\n",
       "      <td>2.8</td>\n",
       "      <td>4.4</td>\n",
       "      <td>5.7</td>\n",
       "      <td>-0.1</td>\n",
       "      <td>3.1</td>\n",
       "      <td>...</td>\n",
       "      <td>0.00</td>\n",
       "      <td>0.33</td>\n",
       "      <td>35.2</td>\n",
       "      <td>17.9</td>\n",
       "      <td>167.5</td>\n",
       "      <td>1013.6</td>\n",
       "      <td>99.5</td>\n",
       "      <td>16.0</td>\n",
       "      <td>rain</td>\n",
       "      <td>27285.0</td>\n",
       "    </tr>\n",
       "    <tr>\n",
       "      <th>2021-12-28</th>\n",
       "      <td>27.0</td>\n",
       "      <td>28</td>\n",
       "      <td>12</td>\n",
       "      <td>2021</td>\n",
       "      <td>7.2</td>\n",
       "      <td>0.7</td>\n",
       "      <td>3.9</td>\n",
       "      <td>4.2</td>\n",
       "      <td>-1.7</td>\n",
       "      <td>1.6</td>\n",
       "      <td>...</td>\n",
       "      <td>0.51</td>\n",
       "      <td>1.00</td>\n",
       "      <td>34.3</td>\n",
       "      <td>18.5</td>\n",
       "      <td>219.3</td>\n",
       "      <td>1010.0</td>\n",
       "      <td>96.4</td>\n",
       "      <td>12.1</td>\n",
       "      <td>snow</td>\n",
       "      <td>27285.0</td>\n",
       "    </tr>\n",
       "    <tr>\n",
       "      <th>2021-12-27</th>\n",
       "      <td>26.0</td>\n",
       "      <td>27</td>\n",
       "      <td>12</td>\n",
       "      <td>2021</td>\n",
       "      <td>1.7</td>\n",
       "      <td>-1.1</td>\n",
       "      <td>0.5</td>\n",
       "      <td>1.7</td>\n",
       "      <td>-6.7</td>\n",
       "      <td>-3.4</td>\n",
       "      <td>...</td>\n",
       "      <td>0.63</td>\n",
       "      <td>1.00</td>\n",
       "      <td>46.2</td>\n",
       "      <td>32.9</td>\n",
       "      <td>261.2</td>\n",
       "      <td>1016.2</td>\n",
       "      <td>71.0</td>\n",
       "      <td>16.0</td>\n",
       "      <td>snow</td>\n",
       "      <td>27285.0</td>\n",
       "    </tr>\n",
       "  </tbody>\n",
       "</table>\n",
       "<p>5 rows × 24 columns</p>\n",
       "</div>"
      ],
      "text/plain": [
       "            pm25  day  month  year  tempmax  tempmin  temp  feelslikemax  \\\n",
       "date                                                                       \n",
       "2021-12-31  52.0   31     12  2021      7.2      4.4   5.9           6.6   \n",
       "2021-12-30  42.0   30     12  2021      5.7      3.3   4.6           5.7   \n",
       "2021-12-29  40.0   29     12  2021      5.7      2.8   4.4           5.7   \n",
       "2021-12-28  27.0   28     12  2021      7.2      0.7   3.9           4.2   \n",
       "2021-12-27  26.0   27     12  2021      1.7     -1.1   0.5           1.7   \n",
       "\n",
       "            feelslikemin  feelslike  ...  snow  snowdepth  windgust  \\\n",
       "date                                 ...                              \n",
       "2021-12-31           2.9        4.9  ...  0.00       0.00      37.0   \n",
       "2021-12-30           0.8        3.2  ...  0.00       0.00      36.1   \n",
       "2021-12-29          -0.1        3.1  ...  0.00       0.33      35.2   \n",
       "2021-12-28          -1.7        1.6  ...  0.51       1.00      34.3   \n",
       "2021-12-27          -6.7       -3.4  ...  0.63       1.00      46.2   \n",
       "\n",
       "            windspeed  winddir  sealevelpressure  cloudcover  visibility  \\\n",
       "date                                                                       \n",
       "2021-12-31       11.1    130.0            1014.4        99.5         7.3   \n",
       "2021-12-30       12.8    152.9            1014.6        99.8         8.0   \n",
       "2021-12-29       17.9    167.5            1013.6        99.5        16.0   \n",
       "2021-12-28       18.5    219.3            1010.0        96.4        12.1   \n",
       "2021-12-27       32.9    261.2            1016.2        71.0        16.0   \n",
       "\n",
       "              icon  flight_number  \n",
       "date                               \n",
       "2021-12-31  cloudy        27285.0  \n",
       "2021-12-30    rain        27285.0  \n",
       "2021-12-29    rain        27285.0  \n",
       "2021-12-28    snow        27285.0  \n",
       "2021-12-27    snow        27285.0  \n",
       "\n",
       "[5 rows x 24 columns]"
      ]
     },
     "execution_count": 110,
     "metadata": {},
     "output_type": "execute_result"
    }
   ],
   "source": [
    "# Merge flight numbers and the other data set\n",
    "df = pm_weather.merge(flight, how= 'inner', on=['year', 'month']).set_axis(pm_weather.index)\n",
    "# Drop date column of flights\n",
    "df = df.drop(columns='date')\n",
    "df.head()"
   ]
  },
  {
   "cell_type": "markdown",
   "id": "AVvKHtw6NqH4",
   "metadata": {
    "id": "AVvKHtw6NqH4"
   },
   "source": [
    "### **2.3.4 Merging the Traffic Data**"
   ]
  },
  {
   "cell_type": "code",
   "execution_count": 111,
   "id": "aBX0uhf8F2f_",
   "metadata": {
    "colab": {
     "base_uri": "https://localhost:8080/",
     "height": 0
    },
    "id": "aBX0uhf8F2f_",
    "outputId": "b0ae169b-70f3-42ba-cb20-8e8aad115f57"
   },
   "outputs": [
    {
     "data": {
      "text/html": [
       "<div>\n",
       "<style scoped>\n",
       "    .dataframe tbody tr th:only-of-type {\n",
       "        vertical-align: middle;\n",
       "    }\n",
       "\n",
       "    .dataframe tbody tr th {\n",
       "        vertical-align: top;\n",
       "    }\n",
       "\n",
       "    .dataframe thead th {\n",
       "        text-align: right;\n",
       "    }\n",
       "</style>\n",
       "<table border=\"1\" class=\"dataframe\">\n",
       "  <thead>\n",
       "    <tr style=\"text-align: right;\">\n",
       "      <th></th>\n",
       "      <th>date</th>\n",
       "      <th>fuel_and_gas_total</th>\n",
       "      <th>special_fuel</th>\n",
       "      <th>gasoline</th>\n",
       "      <th>vehicle-miles</th>\n",
       "    </tr>\n",
       "  </thead>\n",
       "  <tbody>\n",
       "    <tr>\n",
       "      <th>0</th>\n",
       "      <td>2021-12-01</td>\n",
       "      <td>246228117.0</td>\n",
       "      <td>37352085.0</td>\n",
       "      <td>208876032.0</td>\n",
       "      <td>5260</td>\n",
       "    </tr>\n",
       "    <tr>\n",
       "      <th>1</th>\n",
       "      <td>2021-11-01</td>\n",
       "      <td>242875383.0</td>\n",
       "      <td>38099539.0</td>\n",
       "      <td>204775844.0</td>\n",
       "      <td>5156</td>\n",
       "    </tr>\n",
       "    <tr>\n",
       "      <th>2</th>\n",
       "      <td>2021-10-01</td>\n",
       "      <td>267412325.0</td>\n",
       "      <td>41370369.0</td>\n",
       "      <td>226041956.0</td>\n",
       "      <td>5543</td>\n",
       "    </tr>\n",
       "    <tr>\n",
       "      <th>3</th>\n",
       "      <td>2021-09-01</td>\n",
       "      <td>259284840.0</td>\n",
       "      <td>37847254.0</td>\n",
       "      <td>221437586.0</td>\n",
       "      <td>5120</td>\n",
       "    </tr>\n",
       "    <tr>\n",
       "      <th>4</th>\n",
       "      <td>2021-08-01</td>\n",
       "      <td>261347939.0</td>\n",
       "      <td>39981448.0</td>\n",
       "      <td>221366491.0</td>\n",
       "      <td>5340</td>\n",
       "    </tr>\n",
       "  </tbody>\n",
       "</table>\n",
       "</div>"
      ],
      "text/plain": [
       "         date  fuel_and_gas_total  special_fuel     gasoline  vehicle-miles\n",
       "0  2021-12-01         246228117.0    37352085.0  208876032.0           5260\n",
       "1  2021-11-01         242875383.0    38099539.0  204775844.0           5156\n",
       "2  2021-10-01         267412325.0    41370369.0  226041956.0           5543\n",
       "3  2021-09-01         259284840.0    37847254.0  221437586.0           5120\n",
       "4  2021-08-01         261347939.0    39981448.0  221366491.0           5340"
      ]
     },
     "execution_count": 111,
     "metadata": {},
     "output_type": "execute_result"
    }
   ],
   "source": [
    "# Load traffic data\n",
    "url_t ='https://github.com/hangulde/Air_Quality_Prediction_of_Boston-/raw/main/data/dataset_ready_for_EDA/traffic_eda.csv'\n",
    "traffic = pd.read_csv(url_t, index_col= 'Unnamed: 0')\n",
    "traffic.head()"
   ]
  },
  {
   "cell_type": "code",
   "execution_count": 112,
   "id": "UCPQQ6m1GTyY",
   "metadata": {
    "id": "UCPQQ6m1GTyY"
   },
   "outputs": [],
   "source": [
    "traffic['date'] = pd.to_datetime(traffic['date'], format='%Y-%m-%d')\n",
    "traffic['month'] = traffic.date.dt.month\n",
    "traffic['year'] = traffic.date.dt.year"
   ]
  },
  {
   "cell_type": "code",
   "execution_count": 113,
   "id": "zaME0yAYF1mA",
   "metadata": {
    "colab": {
     "base_uri": "https://localhost:8080/",
     "height": 0
    },
    "id": "zaME0yAYF1mA",
    "outputId": "2007ca1e-d566-4d66-b683-28c51eddfef0"
   },
   "outputs": [
    {
     "data": {
      "text/html": [
       "<div>\n",
       "<style scoped>\n",
       "    .dataframe tbody tr th:only-of-type {\n",
       "        vertical-align: middle;\n",
       "    }\n",
       "\n",
       "    .dataframe tbody tr th {\n",
       "        vertical-align: top;\n",
       "    }\n",
       "\n",
       "    .dataframe thead th {\n",
       "        text-align: right;\n",
       "    }\n",
       "</style>\n",
       "<table border=\"1\" class=\"dataframe\">\n",
       "  <thead>\n",
       "    <tr style=\"text-align: right;\">\n",
       "      <th></th>\n",
       "      <th>pm25</th>\n",
       "      <th>day</th>\n",
       "      <th>month</th>\n",
       "      <th>year</th>\n",
       "      <th>tempmax</th>\n",
       "      <th>tempmin</th>\n",
       "      <th>temp</th>\n",
       "      <th>feelslikemax</th>\n",
       "      <th>feelslikemin</th>\n",
       "      <th>feelslike</th>\n",
       "      <th>...</th>\n",
       "      <th>winddir</th>\n",
       "      <th>sealevelpressure</th>\n",
       "      <th>cloudcover</th>\n",
       "      <th>visibility</th>\n",
       "      <th>icon</th>\n",
       "      <th>flight_number</th>\n",
       "      <th>fuel_and_gas_total</th>\n",
       "      <th>special_fuel</th>\n",
       "      <th>gasoline</th>\n",
       "      <th>vehicle-miles</th>\n",
       "    </tr>\n",
       "    <tr>\n",
       "      <th>date</th>\n",
       "      <th></th>\n",
       "      <th></th>\n",
       "      <th></th>\n",
       "      <th></th>\n",
       "      <th></th>\n",
       "      <th></th>\n",
       "      <th></th>\n",
       "      <th></th>\n",
       "      <th></th>\n",
       "      <th></th>\n",
       "      <th></th>\n",
       "      <th></th>\n",
       "      <th></th>\n",
       "      <th></th>\n",
       "      <th></th>\n",
       "      <th></th>\n",
       "      <th></th>\n",
       "      <th></th>\n",
       "      <th></th>\n",
       "      <th></th>\n",
       "      <th></th>\n",
       "    </tr>\n",
       "  </thead>\n",
       "  <tbody>\n",
       "    <tr>\n",
       "      <th>2021-12-31</th>\n",
       "      <td>52.0</td>\n",
       "      <td>31</td>\n",
       "      <td>12</td>\n",
       "      <td>2021</td>\n",
       "      <td>7.2</td>\n",
       "      <td>4.4</td>\n",
       "      <td>5.9</td>\n",
       "      <td>6.6</td>\n",
       "      <td>2.9</td>\n",
       "      <td>4.9</td>\n",
       "      <td>...</td>\n",
       "      <td>130.0</td>\n",
       "      <td>1014.4</td>\n",
       "      <td>99.5</td>\n",
       "      <td>7.3</td>\n",
       "      <td>cloudy</td>\n",
       "      <td>27285.0</td>\n",
       "      <td>246228117.0</td>\n",
       "      <td>37352085.0</td>\n",
       "      <td>208876032.0</td>\n",
       "      <td>5260</td>\n",
       "    </tr>\n",
       "    <tr>\n",
       "      <th>2021-12-30</th>\n",
       "      <td>42.0</td>\n",
       "      <td>30</td>\n",
       "      <td>12</td>\n",
       "      <td>2021</td>\n",
       "      <td>5.7</td>\n",
       "      <td>3.3</td>\n",
       "      <td>4.6</td>\n",
       "      <td>5.7</td>\n",
       "      <td>0.8</td>\n",
       "      <td>3.2</td>\n",
       "      <td>...</td>\n",
       "      <td>152.9</td>\n",
       "      <td>1014.6</td>\n",
       "      <td>99.8</td>\n",
       "      <td>8.0</td>\n",
       "      <td>rain</td>\n",
       "      <td>27285.0</td>\n",
       "      <td>246228117.0</td>\n",
       "      <td>37352085.0</td>\n",
       "      <td>208876032.0</td>\n",
       "      <td>5260</td>\n",
       "    </tr>\n",
       "    <tr>\n",
       "      <th>2021-12-29</th>\n",
       "      <td>40.0</td>\n",
       "      <td>29</td>\n",
       "      <td>12</td>\n",
       "      <td>2021</td>\n",
       "      <td>5.7</td>\n",
       "      <td>2.8</td>\n",
       "      <td>4.4</td>\n",
       "      <td>5.7</td>\n",
       "      <td>-0.1</td>\n",
       "      <td>3.1</td>\n",
       "      <td>...</td>\n",
       "      <td>167.5</td>\n",
       "      <td>1013.6</td>\n",
       "      <td>99.5</td>\n",
       "      <td>16.0</td>\n",
       "      <td>rain</td>\n",
       "      <td>27285.0</td>\n",
       "      <td>246228117.0</td>\n",
       "      <td>37352085.0</td>\n",
       "      <td>208876032.0</td>\n",
       "      <td>5260</td>\n",
       "    </tr>\n",
       "    <tr>\n",
       "      <th>2021-12-28</th>\n",
       "      <td>27.0</td>\n",
       "      <td>28</td>\n",
       "      <td>12</td>\n",
       "      <td>2021</td>\n",
       "      <td>7.2</td>\n",
       "      <td>0.7</td>\n",
       "      <td>3.9</td>\n",
       "      <td>4.2</td>\n",
       "      <td>-1.7</td>\n",
       "      <td>1.6</td>\n",
       "      <td>...</td>\n",
       "      <td>219.3</td>\n",
       "      <td>1010.0</td>\n",
       "      <td>96.4</td>\n",
       "      <td>12.1</td>\n",
       "      <td>snow</td>\n",
       "      <td>27285.0</td>\n",
       "      <td>246228117.0</td>\n",
       "      <td>37352085.0</td>\n",
       "      <td>208876032.0</td>\n",
       "      <td>5260</td>\n",
       "    </tr>\n",
       "    <tr>\n",
       "      <th>2021-12-27</th>\n",
       "      <td>26.0</td>\n",
       "      <td>27</td>\n",
       "      <td>12</td>\n",
       "      <td>2021</td>\n",
       "      <td>1.7</td>\n",
       "      <td>-1.1</td>\n",
       "      <td>0.5</td>\n",
       "      <td>1.7</td>\n",
       "      <td>-6.7</td>\n",
       "      <td>-3.4</td>\n",
       "      <td>...</td>\n",
       "      <td>261.2</td>\n",
       "      <td>1016.2</td>\n",
       "      <td>71.0</td>\n",
       "      <td>16.0</td>\n",
       "      <td>snow</td>\n",
       "      <td>27285.0</td>\n",
       "      <td>246228117.0</td>\n",
       "      <td>37352085.0</td>\n",
       "      <td>208876032.0</td>\n",
       "      <td>5260</td>\n",
       "    </tr>\n",
       "  </tbody>\n",
       "</table>\n",
       "<p>5 rows × 28 columns</p>\n",
       "</div>"
      ],
      "text/plain": [
       "            pm25  day  month  year  tempmax  tempmin  temp  feelslikemax  \\\n",
       "date                                                                       \n",
       "2021-12-31  52.0   31     12  2021      7.2      4.4   5.9           6.6   \n",
       "2021-12-30  42.0   30     12  2021      5.7      3.3   4.6           5.7   \n",
       "2021-12-29  40.0   29     12  2021      5.7      2.8   4.4           5.7   \n",
       "2021-12-28  27.0   28     12  2021      7.2      0.7   3.9           4.2   \n",
       "2021-12-27  26.0   27     12  2021      1.7     -1.1   0.5           1.7   \n",
       "\n",
       "            feelslikemin  feelslike  ...  winddir  sealevelpressure  \\\n",
       "date                                 ...                              \n",
       "2021-12-31           2.9        4.9  ...    130.0            1014.4   \n",
       "2021-12-30           0.8        3.2  ...    152.9            1014.6   \n",
       "2021-12-29          -0.1        3.1  ...    167.5            1013.6   \n",
       "2021-12-28          -1.7        1.6  ...    219.3            1010.0   \n",
       "2021-12-27          -6.7       -3.4  ...    261.2            1016.2   \n",
       "\n",
       "            cloudcover  visibility    icon  flight_number  fuel_and_gas_total  \\\n",
       "date                                                                            \n",
       "2021-12-31        99.5         7.3  cloudy        27285.0         246228117.0   \n",
       "2021-12-30        99.8         8.0    rain        27285.0         246228117.0   \n",
       "2021-12-29        99.5        16.0    rain        27285.0         246228117.0   \n",
       "2021-12-28        96.4        12.1    snow        27285.0         246228117.0   \n",
       "2021-12-27        71.0        16.0    snow        27285.0         246228117.0   \n",
       "\n",
       "            special_fuel     gasoline  vehicle-miles  \n",
       "date                                                  \n",
       "2021-12-31    37352085.0  208876032.0           5260  \n",
       "2021-12-30    37352085.0  208876032.0           5260  \n",
       "2021-12-29    37352085.0  208876032.0           5260  \n",
       "2021-12-28    37352085.0  208876032.0           5260  \n",
       "2021-12-27    37352085.0  208876032.0           5260  \n",
       "\n",
       "[5 rows x 28 columns]"
      ]
     },
     "execution_count": 113,
     "metadata": {},
     "output_type": "execute_result"
    }
   ],
   "source": [
    "# Merge df and traffic data\n",
    "df = df.merge(traffic, how= 'inner', on=['year', 'month']).set_axis(df.index)\n",
    "# Drop date column of traffic data\n",
    "df.drop(columns='date', inplace=True)\n",
    "df.head()"
   ]
  },
  {
   "cell_type": "markdown",
   "id": "lWpQwrozPFSB",
   "metadata": {
    "id": "lWpQwrozPFSB"
   },
   "source": [
    "### 2.3.5 Merging Energy Consumption "
   ]
  },
  {
   "cell_type": "code",
   "execution_count": 114,
   "id": "R2DhzUDHPDer",
   "metadata": {
    "colab": {
     "base_uri": "https://localhost:8080/",
     "height": 0
    },
    "id": "R2DhzUDHPDer",
    "outputId": "1784188e-3bb6-433d-9d07-f9abbdfb0ef4"
   },
   "outputs": [
    {
     "data": {
      "text/html": [
       "<div>\n",
       "<style scoped>\n",
       "    .dataframe tbody tr th:only-of-type {\n",
       "        vertical-align: middle;\n",
       "    }\n",
       "\n",
       "    .dataframe tbody tr th {\n",
       "        vertical-align: top;\n",
       "    }\n",
       "\n",
       "    .dataframe thead th {\n",
       "        text-align: right;\n",
       "    }\n",
       "</style>\n",
       "<table border=\"1\" class=\"dataframe\">\n",
       "  <thead>\n",
       "    <tr style=\"text-align: right;\">\n",
       "      <th></th>\n",
       "      <th>natural_gas</th>\n",
       "      <th>gasoline_sales</th>\n",
       "      <th>date</th>\n",
       "    </tr>\n",
       "  </thead>\n",
       "  <tbody>\n",
       "    <tr>\n",
       "      <th>0</th>\n",
       "      <td>43172</td>\n",
       "      <td>5828.2</td>\n",
       "      <td>2021-12-01</td>\n",
       "    </tr>\n",
       "    <tr>\n",
       "      <th>1</th>\n",
       "      <td>31786</td>\n",
       "      <td>5942.2</td>\n",
       "      <td>2021-11-01</td>\n",
       "    </tr>\n",
       "    <tr>\n",
       "      <th>2</th>\n",
       "      <td>21723</td>\n",
       "      <td>6085.1</td>\n",
       "      <td>2021-10-01</td>\n",
       "    </tr>\n",
       "    <tr>\n",
       "      <th>3</th>\n",
       "      <td>17929</td>\n",
       "      <td>6033.1</td>\n",
       "      <td>2021-09-01</td>\n",
       "    </tr>\n",
       "    <tr>\n",
       "      <th>4</th>\n",
       "      <td>22065</td>\n",
       "      <td>6086.5</td>\n",
       "      <td>2021-08-01</td>\n",
       "    </tr>\n",
       "  </tbody>\n",
       "</table>\n",
       "</div>"
      ],
      "text/plain": [
       "   natural_gas  gasoline_sales        date\n",
       "0        43172          5828.2  2021-12-01\n",
       "1        31786          5942.2  2021-11-01\n",
       "2        21723          6085.1  2021-10-01\n",
       "3        17929          6033.1  2021-09-01\n",
       "4        22065          6086.5  2021-08-01"
      ]
     },
     "execution_count": 114,
     "metadata": {},
     "output_type": "execute_result"
    }
   ],
   "source": [
    "url_e = 'https://github.com/hangulde/Air_Quality_Prediction_of_Boston-/raw/main/data/dataset_ready_for_EDA/energy_eda.csv'\n",
    "energy_c = pd.read_csv(url_e, index_col='Unnamed: 0')\n",
    "energy_c.head()"
   ]
  },
  {
   "cell_type": "code",
   "execution_count": 115,
   "id": "-iWMoZa-QrHo",
   "metadata": {
    "id": "-iWMoZa-QrHo"
   },
   "outputs": [],
   "source": [
    "energy_c['date'] = pd.to_datetime(energy_c['date'], format='%Y-%m-%d')\n",
    "energy_c['month'] = energy_c.date.dt.month\n",
    "energy_c['year'] = energy_c.date.dt.year"
   ]
  },
  {
   "cell_type": "code",
   "execution_count": 116,
   "id": "XXbor5rcQ4HZ",
   "metadata": {
    "colab": {
     "base_uri": "https://localhost:8080/",
     "height": 0
    },
    "id": "XXbor5rcQ4HZ",
    "outputId": "4493b318-6f07-4d63-8095-0507ce9695ca"
   },
   "outputs": [
    {
     "data": {
      "text/html": [
       "<div>\n",
       "<style scoped>\n",
       "    .dataframe tbody tr th:only-of-type {\n",
       "        vertical-align: middle;\n",
       "    }\n",
       "\n",
       "    .dataframe tbody tr th {\n",
       "        vertical-align: top;\n",
       "    }\n",
       "\n",
       "    .dataframe thead th {\n",
       "        text-align: right;\n",
       "    }\n",
       "</style>\n",
       "<table border=\"1\" class=\"dataframe\">\n",
       "  <thead>\n",
       "    <tr style=\"text-align: right;\">\n",
       "      <th></th>\n",
       "      <th>pm25</th>\n",
       "      <th>day</th>\n",
       "      <th>month</th>\n",
       "      <th>year</th>\n",
       "      <th>tempmax</th>\n",
       "      <th>tempmin</th>\n",
       "      <th>temp</th>\n",
       "      <th>feelslikemax</th>\n",
       "      <th>feelslikemin</th>\n",
       "      <th>feelslike</th>\n",
       "      <th>...</th>\n",
       "      <th>visibility</th>\n",
       "      <th>icon</th>\n",
       "      <th>flight_number</th>\n",
       "      <th>fuel_and_gas_total</th>\n",
       "      <th>special_fuel</th>\n",
       "      <th>gasoline</th>\n",
       "      <th>vehicle-miles</th>\n",
       "      <th>natural_gas</th>\n",
       "      <th>gasoline_sales</th>\n",
       "      <th>date</th>\n",
       "    </tr>\n",
       "    <tr>\n",
       "      <th>date</th>\n",
       "      <th></th>\n",
       "      <th></th>\n",
       "      <th></th>\n",
       "      <th></th>\n",
       "      <th></th>\n",
       "      <th></th>\n",
       "      <th></th>\n",
       "      <th></th>\n",
       "      <th></th>\n",
       "      <th></th>\n",
       "      <th></th>\n",
       "      <th></th>\n",
       "      <th></th>\n",
       "      <th></th>\n",
       "      <th></th>\n",
       "      <th></th>\n",
       "      <th></th>\n",
       "      <th></th>\n",
       "      <th></th>\n",
       "      <th></th>\n",
       "      <th></th>\n",
       "    </tr>\n",
       "  </thead>\n",
       "  <tbody>\n",
       "    <tr>\n",
       "      <th>2021-12-31</th>\n",
       "      <td>52.0</td>\n",
       "      <td>31</td>\n",
       "      <td>12</td>\n",
       "      <td>2021</td>\n",
       "      <td>7.2</td>\n",
       "      <td>4.4</td>\n",
       "      <td>5.9</td>\n",
       "      <td>6.6</td>\n",
       "      <td>2.9</td>\n",
       "      <td>4.9</td>\n",
       "      <td>...</td>\n",
       "      <td>7.3</td>\n",
       "      <td>cloudy</td>\n",
       "      <td>27285.0</td>\n",
       "      <td>246228117.0</td>\n",
       "      <td>37352085.0</td>\n",
       "      <td>208876032.0</td>\n",
       "      <td>5260</td>\n",
       "      <td>43172</td>\n",
       "      <td>5828.2</td>\n",
       "      <td>2021-12-01</td>\n",
       "    </tr>\n",
       "    <tr>\n",
       "      <th>2021-12-30</th>\n",
       "      <td>42.0</td>\n",
       "      <td>30</td>\n",
       "      <td>12</td>\n",
       "      <td>2021</td>\n",
       "      <td>5.7</td>\n",
       "      <td>3.3</td>\n",
       "      <td>4.6</td>\n",
       "      <td>5.7</td>\n",
       "      <td>0.8</td>\n",
       "      <td>3.2</td>\n",
       "      <td>...</td>\n",
       "      <td>8.0</td>\n",
       "      <td>rain</td>\n",
       "      <td>27285.0</td>\n",
       "      <td>246228117.0</td>\n",
       "      <td>37352085.0</td>\n",
       "      <td>208876032.0</td>\n",
       "      <td>5260</td>\n",
       "      <td>43172</td>\n",
       "      <td>5828.2</td>\n",
       "      <td>2021-12-01</td>\n",
       "    </tr>\n",
       "    <tr>\n",
       "      <th>2021-12-29</th>\n",
       "      <td>40.0</td>\n",
       "      <td>29</td>\n",
       "      <td>12</td>\n",
       "      <td>2021</td>\n",
       "      <td>5.7</td>\n",
       "      <td>2.8</td>\n",
       "      <td>4.4</td>\n",
       "      <td>5.7</td>\n",
       "      <td>-0.1</td>\n",
       "      <td>3.1</td>\n",
       "      <td>...</td>\n",
       "      <td>16.0</td>\n",
       "      <td>rain</td>\n",
       "      <td>27285.0</td>\n",
       "      <td>246228117.0</td>\n",
       "      <td>37352085.0</td>\n",
       "      <td>208876032.0</td>\n",
       "      <td>5260</td>\n",
       "      <td>43172</td>\n",
       "      <td>5828.2</td>\n",
       "      <td>2021-12-01</td>\n",
       "    </tr>\n",
       "    <tr>\n",
       "      <th>2021-12-28</th>\n",
       "      <td>27.0</td>\n",
       "      <td>28</td>\n",
       "      <td>12</td>\n",
       "      <td>2021</td>\n",
       "      <td>7.2</td>\n",
       "      <td>0.7</td>\n",
       "      <td>3.9</td>\n",
       "      <td>4.2</td>\n",
       "      <td>-1.7</td>\n",
       "      <td>1.6</td>\n",
       "      <td>...</td>\n",
       "      <td>12.1</td>\n",
       "      <td>snow</td>\n",
       "      <td>27285.0</td>\n",
       "      <td>246228117.0</td>\n",
       "      <td>37352085.0</td>\n",
       "      <td>208876032.0</td>\n",
       "      <td>5260</td>\n",
       "      <td>43172</td>\n",
       "      <td>5828.2</td>\n",
       "      <td>2021-12-01</td>\n",
       "    </tr>\n",
       "    <tr>\n",
       "      <th>2021-12-27</th>\n",
       "      <td>26.0</td>\n",
       "      <td>27</td>\n",
       "      <td>12</td>\n",
       "      <td>2021</td>\n",
       "      <td>1.7</td>\n",
       "      <td>-1.1</td>\n",
       "      <td>0.5</td>\n",
       "      <td>1.7</td>\n",
       "      <td>-6.7</td>\n",
       "      <td>-3.4</td>\n",
       "      <td>...</td>\n",
       "      <td>16.0</td>\n",
       "      <td>snow</td>\n",
       "      <td>27285.0</td>\n",
       "      <td>246228117.0</td>\n",
       "      <td>37352085.0</td>\n",
       "      <td>208876032.0</td>\n",
       "      <td>5260</td>\n",
       "      <td>43172</td>\n",
       "      <td>5828.2</td>\n",
       "      <td>2021-12-01</td>\n",
       "    </tr>\n",
       "  </tbody>\n",
       "</table>\n",
       "<p>5 rows × 31 columns</p>\n",
       "</div>"
      ],
      "text/plain": [
       "            pm25  day  month  year  tempmax  tempmin  temp  feelslikemax  \\\n",
       "date                                                                       \n",
       "2021-12-31  52.0   31     12  2021      7.2      4.4   5.9           6.6   \n",
       "2021-12-30  42.0   30     12  2021      5.7      3.3   4.6           5.7   \n",
       "2021-12-29  40.0   29     12  2021      5.7      2.8   4.4           5.7   \n",
       "2021-12-28  27.0   28     12  2021      7.2      0.7   3.9           4.2   \n",
       "2021-12-27  26.0   27     12  2021      1.7     -1.1   0.5           1.7   \n",
       "\n",
       "            feelslikemin  feelslike  ...  visibility    icon  flight_number  \\\n",
       "date                                 ...                                      \n",
       "2021-12-31           2.9        4.9  ...         7.3  cloudy        27285.0   \n",
       "2021-12-30           0.8        3.2  ...         8.0    rain        27285.0   \n",
       "2021-12-29          -0.1        3.1  ...        16.0    rain        27285.0   \n",
       "2021-12-28          -1.7        1.6  ...        12.1    snow        27285.0   \n",
       "2021-12-27          -6.7       -3.4  ...        16.0    snow        27285.0   \n",
       "\n",
       "            fuel_and_gas_total  special_fuel     gasoline  vehicle-miles  \\\n",
       "date                                                                       \n",
       "2021-12-31         246228117.0    37352085.0  208876032.0           5260   \n",
       "2021-12-30         246228117.0    37352085.0  208876032.0           5260   \n",
       "2021-12-29         246228117.0    37352085.0  208876032.0           5260   \n",
       "2021-12-28         246228117.0    37352085.0  208876032.0           5260   \n",
       "2021-12-27         246228117.0    37352085.0  208876032.0           5260   \n",
       "\n",
       "            natural_gas  gasoline_sales       date  \n",
       "date                                                \n",
       "2021-12-31        43172          5828.2 2021-12-01  \n",
       "2021-12-30        43172          5828.2 2021-12-01  \n",
       "2021-12-29        43172          5828.2 2021-12-01  \n",
       "2021-12-28        43172          5828.2 2021-12-01  \n",
       "2021-12-27        43172          5828.2 2021-12-01  \n",
       "\n",
       "[5 rows x 31 columns]"
      ]
     },
     "execution_count": 116,
     "metadata": {},
     "output_type": "execute_result"
    }
   ],
   "source": [
    "df = df.merge(energy_c, how= 'inner', on=['year', 'month']).set_axis(df.index)\n",
    "df.head()"
   ]
  },
  {
   "cell_type": "markdown",
   "id": "vsbpwbZHRI9Y",
   "metadata": {
    "id": "vsbpwbZHRI9Y"
   },
   "source": [
    "### **2.3.6 Merging Population**"
   ]
  },
  {
   "cell_type": "code",
   "execution_count": 117,
   "id": "Gi-6PBbTRIbr",
   "metadata": {
    "colab": {
     "base_uri": "https://localhost:8080/",
     "height": 300
    },
    "id": "Gi-6PBbTRIbr",
    "outputId": "d17513d7-ae0c-445f-c916-18bf14a4ddc3"
   },
   "outputs": [
    {
     "data": {
      "text/html": [
       "<div>\n",
       "<style scoped>\n",
       "    .dataframe tbody tr th:only-of-type {\n",
       "        vertical-align: middle;\n",
       "    }\n",
       "\n",
       "    .dataframe tbody tr th {\n",
       "        vertical-align: top;\n",
       "    }\n",
       "\n",
       "    .dataframe thead th {\n",
       "        text-align: right;\n",
       "    }\n",
       "</style>\n",
       "<table border=\"1\" class=\"dataframe\">\n",
       "  <thead>\n",
       "    <tr style=\"text-align: right;\">\n",
       "      <th></th>\n",
       "      <th>Year</th>\n",
       "      <th>Population</th>\n",
       "      <th>Growth</th>\n",
       "      <th>GrowthRate</th>\n",
       "    </tr>\n",
       "  </thead>\n",
       "  <tbody>\n",
       "    <tr>\n",
       "      <th>1</th>\n",
       "      <td>2021</td>\n",
       "      <td>695506</td>\n",
       "      <td>1453</td>\n",
       "      <td>0.0021</td>\n",
       "    </tr>\n",
       "    <tr>\n",
       "      <th>2</th>\n",
       "      <td>2020</td>\n",
       "      <td>694053</td>\n",
       "      <td>1453</td>\n",
       "      <td>0.0021</td>\n",
       "    </tr>\n",
       "    <tr>\n",
       "      <th>3</th>\n",
       "      <td>2019</td>\n",
       "      <td>692600</td>\n",
       "      <td>1453</td>\n",
       "      <td>0.0021</td>\n",
       "    </tr>\n",
       "    <tr>\n",
       "      <th>4</th>\n",
       "      <td>2018</td>\n",
       "      <td>691147</td>\n",
       "      <td>3359</td>\n",
       "      <td>0.0049</td>\n",
       "    </tr>\n",
       "    <tr>\n",
       "      <th>5</th>\n",
       "      <td>2017</td>\n",
       "      <td>687788</td>\n",
       "      <td>7940</td>\n",
       "      <td>0.0117</td>\n",
       "    </tr>\n",
       "    <tr>\n",
       "      <th>6</th>\n",
       "      <td>2016</td>\n",
       "      <td>679848</td>\n",
       "      <td>9357</td>\n",
       "      <td>0.0140</td>\n",
       "    </tr>\n",
       "    <tr>\n",
       "      <th>7</th>\n",
       "      <td>2015</td>\n",
       "      <td>670491</td>\n",
       "      <td>7636</td>\n",
       "      <td>0.0115</td>\n",
       "    </tr>\n",
       "    <tr>\n",
       "      <th>8</th>\n",
       "      <td>2014</td>\n",
       "      <td>662855</td>\n",
       "      <td>9853</td>\n",
       "      <td>0.0151</td>\n",
       "    </tr>\n",
       "  </tbody>\n",
       "</table>\n",
       "</div>"
      ],
      "text/plain": [
       "   Year  Population  Growth  GrowthRate\n",
       "1  2021      695506    1453      0.0021\n",
       "2  2020      694053    1453      0.0021\n",
       "3  2019      692600    1453      0.0021\n",
       "4  2018      691147    3359      0.0049\n",
       "5  2017      687788    7940      0.0117\n",
       "6  2016      679848    9357      0.0140\n",
       "7  2015      670491    7636      0.0115\n",
       "8  2014      662855    9853      0.0151"
      ]
     },
     "execution_count": 117,
     "metadata": {},
     "output_type": "execute_result"
    }
   ],
   "source": [
    "url_p = 'https://github.com/hangulde/Air_Quality_Prediction_of_Boston-/raw/main/data/dataset_ready_for_EDA/population_eda.csv'\n",
    "pop_b = pd.read_csv(url_p, index_col='Unnamed: 0')\n",
    "pop_b"
   ]
  },
  {
   "cell_type": "code",
   "execution_count": 118,
   "id": "aWfcAyXJTRK8",
   "metadata": {
    "id": "aWfcAyXJTRK8"
   },
   "outputs": [],
   "source": [
    "pop_b=pop_b.rename(columns={'Year':'year'})"
   ]
  },
  {
   "cell_type": "code",
   "execution_count": 119,
   "id": "WdqU1KLBUrc-",
   "metadata": {
    "colab": {
     "base_uri": "https://localhost:8080/",
     "height": 435
    },
    "id": "WdqU1KLBUrc-",
    "outputId": "53f4905b-f058-4b04-d8cb-e4200342215c"
   },
   "outputs": [
    {
     "data": {
      "text/html": [
       "<div>\n",
       "<style scoped>\n",
       "    .dataframe tbody tr th:only-of-type {\n",
       "        vertical-align: middle;\n",
       "    }\n",
       "\n",
       "    .dataframe tbody tr th {\n",
       "        vertical-align: top;\n",
       "    }\n",
       "\n",
       "    .dataframe thead th {\n",
       "        text-align: right;\n",
       "    }\n",
       "</style>\n",
       "<table border=\"1\" class=\"dataframe\">\n",
       "  <thead>\n",
       "    <tr style=\"text-align: right;\">\n",
       "      <th></th>\n",
       "      <th>pm25</th>\n",
       "      <th>day</th>\n",
       "      <th>month</th>\n",
       "      <th>year</th>\n",
       "      <th>tempmax</th>\n",
       "      <th>tempmin</th>\n",
       "      <th>temp</th>\n",
       "      <th>feelslikemax</th>\n",
       "      <th>feelslikemin</th>\n",
       "      <th>feelslike</th>\n",
       "      <th>...</th>\n",
       "      <th>visibility</th>\n",
       "      <th>icon</th>\n",
       "      <th>flight_number</th>\n",
       "      <th>fuel_and_gas_total</th>\n",
       "      <th>special_fuel</th>\n",
       "      <th>gasoline</th>\n",
       "      <th>vehicle-miles</th>\n",
       "      <th>natural_gas</th>\n",
       "      <th>gasoline_sales</th>\n",
       "      <th>date</th>\n",
       "    </tr>\n",
       "    <tr>\n",
       "      <th>date</th>\n",
       "      <th></th>\n",
       "      <th></th>\n",
       "      <th></th>\n",
       "      <th></th>\n",
       "      <th></th>\n",
       "      <th></th>\n",
       "      <th></th>\n",
       "      <th></th>\n",
       "      <th></th>\n",
       "      <th></th>\n",
       "      <th></th>\n",
       "      <th></th>\n",
       "      <th></th>\n",
       "      <th></th>\n",
       "      <th></th>\n",
       "      <th></th>\n",
       "      <th></th>\n",
       "      <th></th>\n",
       "      <th></th>\n",
       "      <th></th>\n",
       "      <th></th>\n",
       "    </tr>\n",
       "  </thead>\n",
       "  <tbody>\n",
       "    <tr>\n",
       "      <th>2021-12-31</th>\n",
       "      <td>52.0</td>\n",
       "      <td>31</td>\n",
       "      <td>12</td>\n",
       "      <td>2021</td>\n",
       "      <td>7.2</td>\n",
       "      <td>4.4</td>\n",
       "      <td>5.9</td>\n",
       "      <td>6.6</td>\n",
       "      <td>2.9</td>\n",
       "      <td>4.9</td>\n",
       "      <td>...</td>\n",
       "      <td>7.3</td>\n",
       "      <td>cloudy</td>\n",
       "      <td>27285.0</td>\n",
       "      <td>246228117.0</td>\n",
       "      <td>37352085.0</td>\n",
       "      <td>208876032.0</td>\n",
       "      <td>5260</td>\n",
       "      <td>43172</td>\n",
       "      <td>5828.2</td>\n",
       "      <td>2021-12-01</td>\n",
       "    </tr>\n",
       "    <tr>\n",
       "      <th>2021-12-30</th>\n",
       "      <td>42.0</td>\n",
       "      <td>30</td>\n",
       "      <td>12</td>\n",
       "      <td>2021</td>\n",
       "      <td>5.7</td>\n",
       "      <td>3.3</td>\n",
       "      <td>4.6</td>\n",
       "      <td>5.7</td>\n",
       "      <td>0.8</td>\n",
       "      <td>3.2</td>\n",
       "      <td>...</td>\n",
       "      <td>8.0</td>\n",
       "      <td>rain</td>\n",
       "      <td>27285.0</td>\n",
       "      <td>246228117.0</td>\n",
       "      <td>37352085.0</td>\n",
       "      <td>208876032.0</td>\n",
       "      <td>5260</td>\n",
       "      <td>43172</td>\n",
       "      <td>5828.2</td>\n",
       "      <td>2021-12-01</td>\n",
       "    </tr>\n",
       "    <tr>\n",
       "      <th>2021-12-29</th>\n",
       "      <td>40.0</td>\n",
       "      <td>29</td>\n",
       "      <td>12</td>\n",
       "      <td>2021</td>\n",
       "      <td>5.7</td>\n",
       "      <td>2.8</td>\n",
       "      <td>4.4</td>\n",
       "      <td>5.7</td>\n",
       "      <td>-0.1</td>\n",
       "      <td>3.1</td>\n",
       "      <td>...</td>\n",
       "      <td>16.0</td>\n",
       "      <td>rain</td>\n",
       "      <td>27285.0</td>\n",
       "      <td>246228117.0</td>\n",
       "      <td>37352085.0</td>\n",
       "      <td>208876032.0</td>\n",
       "      <td>5260</td>\n",
       "      <td>43172</td>\n",
       "      <td>5828.2</td>\n",
       "      <td>2021-12-01</td>\n",
       "    </tr>\n",
       "    <tr>\n",
       "      <th>2021-12-28</th>\n",
       "      <td>27.0</td>\n",
       "      <td>28</td>\n",
       "      <td>12</td>\n",
       "      <td>2021</td>\n",
       "      <td>7.2</td>\n",
       "      <td>0.7</td>\n",
       "      <td>3.9</td>\n",
       "      <td>4.2</td>\n",
       "      <td>-1.7</td>\n",
       "      <td>1.6</td>\n",
       "      <td>...</td>\n",
       "      <td>12.1</td>\n",
       "      <td>snow</td>\n",
       "      <td>27285.0</td>\n",
       "      <td>246228117.0</td>\n",
       "      <td>37352085.0</td>\n",
       "      <td>208876032.0</td>\n",
       "      <td>5260</td>\n",
       "      <td>43172</td>\n",
       "      <td>5828.2</td>\n",
       "      <td>2021-12-01</td>\n",
       "    </tr>\n",
       "    <tr>\n",
       "      <th>2021-12-27</th>\n",
       "      <td>26.0</td>\n",
       "      <td>27</td>\n",
       "      <td>12</td>\n",
       "      <td>2021</td>\n",
       "      <td>1.7</td>\n",
       "      <td>-1.1</td>\n",
       "      <td>0.5</td>\n",
       "      <td>1.7</td>\n",
       "      <td>-6.7</td>\n",
       "      <td>-3.4</td>\n",
       "      <td>...</td>\n",
       "      <td>16.0</td>\n",
       "      <td>snow</td>\n",
       "      <td>27285.0</td>\n",
       "      <td>246228117.0</td>\n",
       "      <td>37352085.0</td>\n",
       "      <td>208876032.0</td>\n",
       "      <td>5260</td>\n",
       "      <td>43172</td>\n",
       "      <td>5828.2</td>\n",
       "      <td>2021-12-01</td>\n",
       "    </tr>\n",
       "  </tbody>\n",
       "</table>\n",
       "<p>5 rows × 31 columns</p>\n",
       "</div>"
      ],
      "text/plain": [
       "            pm25  day  month  year  tempmax  tempmin  temp  feelslikemax  \\\n",
       "date                                                                       \n",
       "2021-12-31  52.0   31     12  2021      7.2      4.4   5.9           6.6   \n",
       "2021-12-30  42.0   30     12  2021      5.7      3.3   4.6           5.7   \n",
       "2021-12-29  40.0   29     12  2021      5.7      2.8   4.4           5.7   \n",
       "2021-12-28  27.0   28     12  2021      7.2      0.7   3.9           4.2   \n",
       "2021-12-27  26.0   27     12  2021      1.7     -1.1   0.5           1.7   \n",
       "\n",
       "            feelslikemin  feelslike  ...  visibility    icon  flight_number  \\\n",
       "date                                 ...                                      \n",
       "2021-12-31           2.9        4.9  ...         7.3  cloudy        27285.0   \n",
       "2021-12-30           0.8        3.2  ...         8.0    rain        27285.0   \n",
       "2021-12-29          -0.1        3.1  ...        16.0    rain        27285.0   \n",
       "2021-12-28          -1.7        1.6  ...        12.1    snow        27285.0   \n",
       "2021-12-27          -6.7       -3.4  ...        16.0    snow        27285.0   \n",
       "\n",
       "            fuel_and_gas_total  special_fuel     gasoline  vehicle-miles  \\\n",
       "date                                                                       \n",
       "2021-12-31         246228117.0    37352085.0  208876032.0           5260   \n",
       "2021-12-30         246228117.0    37352085.0  208876032.0           5260   \n",
       "2021-12-29         246228117.0    37352085.0  208876032.0           5260   \n",
       "2021-12-28         246228117.0    37352085.0  208876032.0           5260   \n",
       "2021-12-27         246228117.0    37352085.0  208876032.0           5260   \n",
       "\n",
       "            natural_gas  gasoline_sales       date  \n",
       "date                                                \n",
       "2021-12-31        43172          5828.2 2021-12-01  \n",
       "2021-12-30        43172          5828.2 2021-12-01  \n",
       "2021-12-29        43172          5828.2 2021-12-01  \n",
       "2021-12-28        43172          5828.2 2021-12-01  \n",
       "2021-12-27        43172          5828.2 2021-12-01  \n",
       "\n",
       "[5 rows x 31 columns]"
      ]
     },
     "execution_count": 119,
     "metadata": {},
     "output_type": "execute_result"
    }
   ],
   "source": [
    "df.head()"
   ]
  },
  {
   "cell_type": "code",
   "execution_count": 120,
   "id": "ImgX5mk7R_U6",
   "metadata": {
    "id": "ImgX5mk7R_U6"
   },
   "outputs": [],
   "source": [
    "df = df.merge(pop_b, how= 'inner', on='year').set_index(df.index)"
   ]
  },
  {
   "cell_type": "code",
   "execution_count": 121,
   "id": "q00DzUqKU9Yp",
   "metadata": {
    "colab": {
     "base_uri": "https://localhost:8080/"
    },
    "id": "q00DzUqKU9Yp",
    "outputId": "77df54df-f3a5-4b75-a317-55a642754c09"
   },
   "outputs": [
    {
     "data": {
      "text/plain": [
       "pm25                         float64\n",
       "day                            int64\n",
       "month                          int64\n",
       "year                           int64\n",
       "tempmax                      float64\n",
       "tempmin                      float64\n",
       "temp                         float64\n",
       "feelslikemax                 float64\n",
       "feelslikemin                 float64\n",
       "feelslike                    float64\n",
       "dew                          float64\n",
       "humidity                     float64\n",
       "precip                       float64\n",
       "precipcover                  float64\n",
       "snow                         float64\n",
       "snowdepth                    float64\n",
       "windgust                     float64\n",
       "windspeed                    float64\n",
       "winddir                      float64\n",
       "sealevelpressure             float64\n",
       "cloudcover                   float64\n",
       "visibility                   float64\n",
       "icon                          object\n",
       "flight_number                float64\n",
       "fuel_and_gas_total           float64\n",
       "special_fuel                 float64\n",
       "gasoline                     float64\n",
       "vehicle-miles                  int64\n",
       "natural_gas                    int64\n",
       "gasoline_sales               float64\n",
       "date                  datetime64[ns]\n",
       "Population                     int64\n",
       "Growth                         int64\n",
       "GrowthRate                   float64\n",
       "dtype: object"
      ]
     },
     "execution_count": 121,
     "metadata": {},
     "output_type": "execute_result"
    }
   ],
   "source": [
    "df.dtypes"
   ]
  },
  {
   "cell_type": "code",
   "execution_count": 122,
   "id": "ATiQtIPqVV3n",
   "metadata": {
    "colab": {
     "base_uri": "https://localhost:8080/",
     "height": 17
    },
    "id": "ATiQtIPqVV3n",
    "outputId": "b9cf050e-5222-4557-e69d-172a77950062"
   },
   "outputs": [],
   "source": [
    "# Save the clean version\n",
    "df.to_csv('/Users/handedede/Downloads/all_features_eda.csv', index=False,  encoding = 'utf-8-sig')"
   ]
  }
 ],
 "metadata": {
  "colab": {
   "collapsed_sections": [
    "d9738a29",
    "b4064e43",
    "c5f91c94",
    "VeCgqXKF2IlD",
    "o8gdHYQ4MvRc",
    "I4kG5r7bM85r",
    "czOhsTdYNWUX",
    "AVvKHtw6NqH4",
    "lWpQwrozPFSB"
   ],
   "name": "boston air quality data wrangling",
   "provenance": []
  },
  "kernelspec": {
   "display_name": "Python 3 (ipykernel)",
   "language": "python",
   "name": "python3"
  },
  "language_info": {
   "codemirror_mode": {
    "name": "ipython",
    "version": 3
   },
   "file_extension": ".py",
   "mimetype": "text/x-python",
   "name": "python",
   "nbconvert_exporter": "python",
   "pygments_lexer": "ipython3",
   "version": "3.9.7"
  }
 },
 "nbformat": 4,
 "nbformat_minor": 5
}
